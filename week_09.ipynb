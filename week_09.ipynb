{
  "nbformat": 4,
  "nbformat_minor": 0,
  "metadata": {
    "colab": {
      "name": "week_09.ipynb",
      "provenance": [],
      "collapsed_sections": []
    },
    "kernelspec": {
      "name": "python3",
      "display_name": "Python 3"
    },
    "language_info": {
      "name": "python"
    }
  },
  "cells": [
    {
      "cell_type": "markdown",
      "source": [
        "## Dictionary\n",
        "- 사전과 비슷한 구조\n",
        "  - 단어: 뜻\n",
        "  - 키:값\n",
        "  - 순서가 없다. => 인덱싱 불가능\n",
        "  - \"키로 값을 찾는다.\"\n",
        "    - 키는 중복되지 않는 고유한 값\n",
        "  - 가변: 수정, 삭제, 추가, 가능\n",
        "  - 타입: dict\n",
        "  - 형변환: 'dict()'\n",
        "  - 중괄호 사용 {}, 콤마로 구분함\n",
        "  - 값에 다양한 자료구조가 올 수 있음\n",
        "    - a: 1, a: [1,2,3,4]"
      ],
      "metadata": {
        "id": "Gkpe9t63VUPf"
      }
    },
    {
      "cell_type": "code",
      "source": [
        "# 빈 딕셔너리 선언\n",
        "empty = dict()\n",
        "empty_dict = {}\n",
        "print(type(empty_dict))"
      ],
      "metadata": {
        "colab": {
          "base_uri": "https://localhost:8080/"
        },
        "id": "gq77m13wSXmn",
        "outputId": "b9b2f770-b5f0-499d-eb88-05d721721b22"
      },
      "execution_count": null,
      "outputs": [
        {
          "output_type": "execute_result",
          "data": {
            "text/plain": [
              "1"
            ]
          },
          "metadata": {},
          "execution_count": 3
        }
      ]
    },
    {
      "cell_type": "code",
      "source": [
        "empty = dict{}\n",
        "empty = {}\n",
        "# set도 {}이니 혼동 주의\n",
        "empty = {}\n",
        "empty = set)()\n",
        "type(empty)"
      ],
      "metadata": {
        "id": "ArImp_tZSk9C"
      },
      "execution_count": null,
      "outputs": []
    },
    {
      "cell_type": "code",
      "source": [
        "a = {1,2,3}\n",
        "a = {1:'appple', 2:'bannana', 3:'kiwi'}"
      ],
      "metadata": {
        "id": "iNwZ0hNJS0r2"
      },
      "execution_count": null,
      "outputs": []
    },
    {
      "cell_type": "code",
      "source": [
        "c = {'':'', '':'', '':''}\n",
        "c = dict(apple='a', banana='b', kiwi='c') # '키' 안해도 됨\n",
        "c"
      ],
      "metadata": {
        "id": "Lj12gxOSTLoM"
      },
      "execution_count": null,
      "outputs": []
    },
    {
      "cell_type": "code",
      "source": [
        "# 출석부로 딕셔너리 만들기\n",
        "# 이름, 학번, 학과\n",
        "attend_book = {202201:'james, 경제학과', 202203:'laura, 스페인어과', 202202:'louis, 컴공과'}\n",
        "attend_book"
      ],
      "metadata": {
        "colab": {
          "base_uri": "https://localhost:8080/"
        },
        "id": "lGBr_xHLTL2V",
        "outputId": "da64e5d4-0826-4a1b-f00c-abc98db3f705"
      },
      "execution_count": null,
      "outputs": [
        {
          "output_type": "execute_result",
          "data": {
            "text/plain": [
              "{202201: 'james, 경제학과', 202202: 'louis, 컴공과', 202203: 'laura, 스페인어과'}"
            ]
          },
          "metadata": {},
          "execution_count": 5
        }
      ]
    },
    {
      "cell_type": "markdown",
      "source": [
        "### 형변환\n",
        "- key, value 있을 때 가능"
      ],
      "metadata": {
        "id": "k2FIVd--VPpI"
      }
    },
    {
      "cell_type": "code",
      "source": [
        "# 리스트에서\n",
        "ex1 = [[1, 2],[2, 3],[3, 4]]\n",
        "dict(ex1)"
      ],
      "metadata": {
        "colab": {
          "base_uri": "https://localhost:8080/"
        },
        "id": "PXCLxD1HUjNc",
        "outputId": "d1aa47bc-f576-4b7d-a41f-b961404bea87"
      },
      "execution_count": null,
      "outputs": [
        {
          "output_type": "execute_result",
          "data": {
            "text/plain": [
              "{1: 2, 2: 3, 3: 4}"
            ]
          },
          "metadata": {},
          "execution_count": 6
        }
      ]
    },
    {
      "cell_type": "code",
      "source": [
        "# 튜플에서\n",
        "ex2 = [(1,2), (2,3), (1,3)]\n",
        "dict(ex2)"
      ],
      "metadata": {
        "colab": {
          "base_uri": "https://localhost:8080/"
        },
        "id": "ydl2XdpoVieV",
        "outputId": "826e3013-0fbb-482c-9bdb-79ba2910edd3"
      },
      "execution_count": null,
      "outputs": [
        {
          "output_type": "execute_result",
          "data": {
            "text/plain": [
              "{1: 3, 2: 3}"
            ]
          },
          "metadata": {},
          "execution_count": 8
        }
      ]
    },
    {
      "cell_type": "code",
      "source": [
        "# 키가 같다면 마지막 것만\n",
        "\n",
        "ex2 = [[1, 2], [2, 3], [1, 3]]\n",
        "dict(ex2)"
      ],
      "metadata": {
        "id": "VmggGnIPbaN9"
      },
      "execution_count": null,
      "outputs": []
    },
    {
      "cell_type": "code",
      "source": [
        "# 문자열에서\n",
        "ex3 = ['ab','bc','cd']\n",
        "dict(ex3)"
      ],
      "metadata": {
        "colab": {
          "base_uri": "https://localhost:8080/"
        },
        "id": "EcnZqi2LVs-7",
        "outputId": "35ef0364-dceb-4dd2-b228-d150d6881a71"
      },
      "execution_count": null,
      "outputs": [
        {
          "output_type": "execute_result",
          "data": {
            "text/plain": [
              "{'a': 'b', 'b': 'c', 'c': 'd'}"
            ]
          },
          "metadata": {},
          "execution_count": 9
        }
      ]
    },
    {
      "cell_type": "markdown",
      "source": [
        "##항목 조회 & 변경"
      ],
      "metadata": {
        "id": "PBmvXWPibgQ8"
      }
    },
    {
      "cell_type": "code",
      "source": [
        "pythons = {\n",
        "    'Chapman': 'Graham',\n",
        "    'Cleese':'John',\n",
        "    'Idle':'James',\n",
        "    'Johns':'Terry',\n",
        "    'Palin':'Michael'\n",
        "}"
      ],
      "metadata": {
        "id": "-lbTL5KvV6IZ"
      },
      "execution_count": 1,
      "outputs": []
    },
    {
      "cell_type": "code",
      "source": [
        "# 조회(key로 value를 찾음)\n",
        "# 없는 값이면 오류발생\n",
        "pythons['Idle']"
      ],
      "metadata": {
        "colab": {
          "base_uri": "https://localhost:8080/",
          "height": 35
        },
        "id": "nUxjBbC2bkSt",
        "outputId": "3486b514-5355-4040-9b0f-5eb75ef3584f"
      },
      "execution_count": 2,
      "outputs": [
        {
          "output_type": "execute_result",
          "data": {
            "text/plain": [
              "'James'"
            ],
            "application/vnd.google.colaboratory.intrinsic+json": {
              "type": "string"
            }
          },
          "metadata": {},
          "execution_count": 2
        }
      ]
    },
    {
      "cell_type": "code",
      "source": [
        "# 오류 막는 조회\n",
        "# 1. 딕셔너리에 값 있는지 확인하기\n",
        "print('Hwa' in pythons)\n",
        "\n",
        "# 2. get() -> 있으면 값 반환, 없으면 None\n",
        "print(pythons.get('Lee'))\n",
        "\n",
        "# 3. 반환값 직접 설정\n",
        "print(pythons.get('Lee', 0))"
      ],
      "metadata": {
        "colab": {
          "base_uri": "https://localhost:8080/"
        },
        "id": "f0tP0GC-blaJ",
        "outputId": "001ede2b-35d9-4450-93c0-7e4191c3a6e8"
      },
      "execution_count": 3,
      "outputs": [
        {
          "output_type": "stream",
          "name": "stdout",
          "text": [
            "False\n",
            "None\n",
            "0\n"
          ]
        }
      ]
    },
    {
      "cell_type": "code",
      "source": [
        "# 변경(기존 키에 다른 밸류)\n",
        "pythons['Idle'] = 'james'\n",
        "pythons"
      ],
      "metadata": {
        "colab": {
          "base_uri": "https://localhost:8080/"
        },
        "id": "_mCH5GM1bmhs",
        "outputId": "2750646d-68aa-485e-bc0b-21471a4e2ce2"
      },
      "execution_count": 4,
      "outputs": [
        {
          "output_type": "execute_result",
          "data": {
            "text/plain": [
              "{'Chapman': 'Graham',\n",
              " 'Cleese': 'John',\n",
              " 'Idle': 'james',\n",
              " 'Johns': 'Terry',\n",
              " 'Palin': 'Michael'}"
            ]
          },
          "metadata": {},
          "execution_count": 4
        }
      ]
    },
    {
      "cell_type": "code",
      "source": [
        "# 새로 추가\n",
        "pythons['Hwa'] = 'Chloe'\n",
        "pythons"
      ],
      "metadata": {
        "colab": {
          "base_uri": "https://localhost:8080/"
        },
        "id": "rQyBWbm7bm9A",
        "outputId": "594ac713-add9-4405-a547-df8de49be4f7"
      },
      "execution_count": 5,
      "outputs": [
        {
          "output_type": "execute_result",
          "data": {
            "text/plain": [
              "{'Chapman': 'Graham',\n",
              " 'Cleese': 'John',\n",
              " 'Hwa': 'Chloe',\n",
              " 'Idle': 'james',\n",
              " 'Johns': 'Terry',\n",
              " 'Palin': 'Michael'}"
            ]
          },
          "metadata": {},
          "execution_count": 5
        }
      ]
    },
    {
      "cell_type": "code",
      "source": [
        "# 여러 개 추가 시 update사용(병합)\n",
        "# 원래 있던 키 변경하면 마지막에 추가 된 값 적용\n",
        "others = {\n",
        "    'Marx':'Groucho', \n",
        "    'Howard':'Moe'\n",
        "}\n",
        "\n",
        "pythons.update(others)\n",
        "pythons"
      ],
      "metadata": {
        "colab": {
          "base_uri": "https://localhost:8080/"
        },
        "id": "bC1fA8psboGH",
        "outputId": "b1eb1366-5b6c-4e32-e1c0-ff0473d74965"
      },
      "execution_count": 6,
      "outputs": [
        {
          "output_type": "execute_result",
          "data": {
            "text/plain": [
              "{'Chapman': 'Graham',\n",
              " 'Cleese': 'John',\n",
              " 'Howard': 'Moe',\n",
              " 'Hwa': 'Chloe',\n",
              " 'Idle': 'james',\n",
              " 'Johns': 'Terry',\n",
              " 'Marx': 'Groucho',\n",
              " 'Palin': 'Michael'}"
            ]
          },
          "metadata": {},
          "execution_count": 6
        }
      ]
    },
    {
      "cell_type": "code",
      "source": [
        "# python3에서만 가능한 추가 방법\n",
        "new = {\n",
        "    'A':'B',\n",
        "    'C':'D'\n",
        "}\n",
        "\n",
        "print({**pythons, **new})\n",
        "print({**new, **pythons}) # 앞에 넣냐 뒤에 넣냐 따라 다름"
      ],
      "metadata": {
        "colab": {
          "base_uri": "https://localhost:8080/"
        },
        "id": "fRSTzGn-bqNn",
        "outputId": "5315407b-b67f-4274-d3d0-55058cbe67bf"
      },
      "execution_count": 7,
      "outputs": [
        {
          "output_type": "stream",
          "name": "stdout",
          "text": [
            "{'Chapman': 'Graham', 'Cleese': 'John', 'Idle': 'james', 'Johns': 'Terry', 'Palin': 'Michael', 'Hwa': 'Chloe', 'Marx': 'Groucho', 'Howard': 'Moe', 'A': 'B', 'C': 'D'}\n",
            "{'A': 'B', 'C': 'D', 'Chapman': 'Graham', 'Cleese': 'John', 'Idle': 'james', 'Johns': 'Terry', 'Palin': 'Michael', 'Hwa': 'Chloe', 'Marx': 'Groucho', 'Howard': 'Moe'}\n"
          ]
        }
      ]
    },
    {
      "cell_type": "code",
      "source": [
        "# 삭제\n",
        "del pythons['Hwa']\n",
        "pythons"
      ],
      "metadata": {
        "colab": {
          "base_uri": "https://localhost:8080/"
        },
        "id": "srkV6uASbqkM",
        "outputId": "8878b049-e9bd-4174-c2d1-42d8ee840b52"
      },
      "execution_count": 8,
      "outputs": [
        {
          "output_type": "execute_result",
          "data": {
            "text/plain": [
              "{'Chapman': 'Graham',\n",
              " 'Cleese': 'John',\n",
              " 'Howard': 'Moe',\n",
              " 'Idle': 'james',\n",
              " 'Johns': 'Terry',\n",
              " 'Marx': 'Groucho',\n",
              " 'Palin': 'Michael'}"
            ]
          },
          "metadata": {},
          "execution_count": 8
        }
      ]
    },
    {
      "cell_type": "code",
      "source": [
        "# 값 반환 뒤 삭제\n",
        "pythons.pop('Marx')"
      ],
      "metadata": {
        "colab": {
          "base_uri": "https://localhost:8080/",
          "height": 35
        },
        "id": "DFDqCLxYbskW",
        "outputId": "f1c1f7ca-c69c-4667-8367-21f4a599225e"
      },
      "execution_count": 9,
      "outputs": [
        {
          "output_type": "execute_result",
          "data": {
            "text/plain": [
              "'Groucho'"
            ],
            "application/vnd.google.colaboratory.intrinsic+json": {
              "type": "string"
            }
          },
          "metadata": {},
          "execution_count": 9
        }
      ]
    },
    {
      "cell_type": "code",
      "source": [
        "# 전체 삭제\n",
        "\n",
        "# 1. \n",
        "pythons.clear()\n",
        "\n",
        "# 2. \n",
        "pythons = {}\n",
        "\n",
        "pythons"
      ],
      "metadata": {
        "id": "D8yRoWEcbvkZ"
      },
      "execution_count": null,
      "outputs": []
    },
    {
      "cell_type": "markdown",
      "source": [
        "### 전체 조회\n",
        "- keys()\n",
        "- values()\n",
        "- items()"
      ],
      "metadata": {
        "id": "OpwmTfSvXPa6"
      }
    },
    {
      "cell_type": "code",
      "source": [
        "pythons.keys()"
      ],
      "metadata": {
        "colab": {
          "base_uri": "https://localhost:8080/"
        },
        "id": "zg56JXHJfebQ",
        "outputId": "3ea67a7e-80a7-4d0a-9ced-ca40ad0dd36c"
      },
      "execution_count": 11,
      "outputs": [
        {
          "output_type": "execute_result",
          "data": {
            "text/plain": [
              "dict_keys(['Chapman', 'Cleese', 'Idle', 'Johns', 'Palin', 'Howard'])"
            ]
          },
          "metadata": {},
          "execution_count": 11
        }
      ]
    },
    {
      "cell_type": "code",
      "source": [
        "pythons.values()"
      ],
      "metadata": {
        "colab": {
          "base_uri": "https://localhost:8080/"
        },
        "id": "7HBZkAiffe2v",
        "outputId": "3aa45494-6b26-4bca-b007-432ffdd74975"
      },
      "execution_count": 12,
      "outputs": [
        {
          "output_type": "execute_result",
          "data": {
            "text/plain": [
              "dict_values(['Graham', 'John', 'james', 'Terry', 'Michael', 'Moe'])"
            ]
          },
          "metadata": {},
          "execution_count": 12
        }
      ]
    },
    {
      "cell_type": "code",
      "source": [
        "# key, value 조회 튜플 형태로(순회 시 사용)\n",
        "pythons.items()"
      ],
      "metadata": {
        "colab": {
          "base_uri": "https://localhost:8080/"
        },
        "id": "tenqfETGfgSu",
        "outputId": "6cec5d26-1fdb-431f-f622-ffba2123ad7c"
      },
      "execution_count": 13,
      "outputs": [
        {
          "output_type": "execute_result",
          "data": {
            "text/plain": [
              "dict_items([('Chapman', 'Graham'), ('Cleese', 'John'), ('Idle', 'james'), ('Johns', 'Terry'), ('Palin', 'Michael'), ('Howard', 'Moe')])"
            ]
          },
          "metadata": {},
          "execution_count": 13
        }
      ]
    },
    {
      "cell_type": "code",
      "source": [
        "# item 순회\n",
        "for k, v in pythons.items():\n",
        "    print(f'{k} = {v}')\n",
        "\n",
        "# 리스트 컴프리헨션\n",
        "print([ (k, v) for k, v in pythons.items() ])"
      ],
      "metadata": {
        "colab": {
          "base_uri": "https://localhost:8080/"
        },
        "id": "tP_2LwK6Xeu6",
        "outputId": "41fe2926-0dd0-4814-ca6f-0990ebcdfe27"
      },
      "execution_count": 15,
      "outputs": [
        {
          "output_type": "stream",
          "name": "stdout",
          "text": [
            "Chapman = Graham\n",
            "Cleese = John\n",
            "Idle = james\n",
            "Johns = Terry\n",
            "Palin = Michael\n",
            "Howard = Moe\n",
            "[('Chapman', 'Graham'), ('Cleese', 'John'), ('Idle', 'james'), ('Johns', 'Terry'), ('Palin', 'Michael'), ('Howard', 'Moe')]\n"
          ]
        }
      ]
    },
    {
      "cell_type": "code",
      "source": [
        "# items() 는 튜플 형태이므로 인덱싱 가능\n",
        "# 0은 key 1은 value\n",
        "\n",
        "[ k[0] for k in pythons.items() ]"
      ],
      "metadata": {
        "id": "vCZFyra3ftFb"
      },
      "execution_count": null,
      "outputs": []
    },
    {
      "cell_type": "markdown",
      "source": [
        "###딕셔너리 실습2\n",
        "- animal:num_leg 딕셔너리 만들기\n",
        "- animal = 'cat snake monkey ant spider'.split()\n",
        "- legs = 4, 0, 2, 4, 8"
      ],
      "metadata": {
        "id": "LPeBWKefXx4B"
      }
    },
    {
      "cell_type": "code",
      "source": [
        "animal = 'cat snake monkey ant spider'.split()\n",
        "legs = 4, 0, 2, 4, 8"
      ],
      "metadata": {
        "id": "UofQanO_XoI5"
      },
      "execution_count": null,
      "outputs": []
    },
    {
      "cell_type": "code",
      "source": [
        "# 1. \n",
        "num_leg = {}\n",
        "for k, v in zip(animal, legs):\n",
        "    num_leg[k] = v\n",
        "print(num_leg)\n",
        "\n",
        "# 2. \n",
        "print(dict([ (k, v) for k, v in zip(animal, legs) ]))\n",
        "\n",
        "# 3.\n",
        "print({ k:v for k, v in zip(animal, legs) })"
      ],
      "metadata": {
        "colab": {
          "base_uri": "https://localhost:8080/"
        },
        "id": "X3P8zxvCYCNq",
        "outputId": "d7048b86-c445-4bab-d0dc-c6fa70a62bd0"
      },
      "execution_count": null,
      "outputs": [
        {
          "output_type": "execute_result",
          "data": {
            "text/plain": [
              "{'ant': 4, 'cat': 4, 'monkey': 2, 'snake': 0, 'spider': 8}"
            ]
          },
          "metadata": {},
          "execution_count": 19
        }
      ]
    },
    {
      "cell_type": "markdown",
      "source": [
        "### 딕셔너리 실습 3\n",
        "- Pythons에서 성:이름, 성 첫 글자만, 이름은 글자 개수로 이뤄진 튜플 리스트로 반환하기\n",
        "- dict comp 안됨"
      ],
      "metadata": {
        "id": "XjJ-HG-sZtNB"
      }
    },
    {
      "cell_type": "code",
      "source": [
        "pythons.items()"
      ],
      "metadata": {
        "colab": {
          "base_uri": "https://localhost:8080/"
        },
        "id": "I-Vo8GvOacN2",
        "outputId": "8fa2ba29-8ec5-4bf5-d8b6-e832c3a2aa51"
      },
      "execution_count": null,
      "outputs": [
        {
          "output_type": "execute_result",
          "data": {
            "text/plain": [
              "dict_items([('Chapman', 'Graham'), ('Cleese', 'John'), ('Idle', 'Jones'), ('Palin', 'Michael')])"
            ]
          },
          "metadata": {},
          "execution_count": 24
        }
      ]
    },
    {
      "cell_type": "code",
      "source": [
        "# 1.\n",
        "newpy = []\n",
        "for i,k in pythons.items():\n",
        "  newpy.append((i[0],len(k)))\n",
        "newpy\n",
        "# 2. \n",
        "print([ (k[0], len(v)) for k, v in pythons.items() ])"
      ],
      "metadata": {
        "colab": {
          "base_uri": "https://localhost:8080/"
        },
        "id": "hQ_s23mlYSnT",
        "outputId": "2f1e2ced-e0e6-47b2-deec-e217778dfbad"
      },
      "execution_count": 16,
      "outputs": [
        {
          "output_type": "execute_result",
          "data": {
            "text/plain": [
              "[('C', 6), ('C', 4), ('I', 5), ('J', 5), ('P', 7), ('H', 3)]"
            ]
          },
          "metadata": {},
          "execution_count": 16
        }
      ]
    },
    {
      "cell_type": "markdown",
      "source": [
        "### 복제\n",
        "- 리스트와 유사\n",
        "- 할당\n",
        "- 얕은 복사\n",
        "- 깊은 복사"
      ],
      "metadata": {
        "id": "FQ9fiF0-exXD"
      }
    },
    {
      "cell_type": "code",
      "source": [
        "# 할당: b 값도 같이 변함\n",
        "a = {1:1, 2:2, 3:3}\n",
        "b = a\n",
        "a[1] = 45\n",
        "a,b"
      ],
      "metadata": {
        "colab": {
          "base_uri": "https://localhost:8080/"
        },
        "id": "O2JVoZkWhJut",
        "outputId": "42bb6185-dec6-4c57-c6e6-3399e3fe8c93"
      },
      "execution_count": 21,
      "outputs": [
        {
          "output_type": "execute_result",
          "data": {
            "text/plain": [
              "({1: 45, 2: 2, 3: 3}, {1: 45, 2: 2, 3: 3})"
            ]
          },
          "metadata": {},
          "execution_count": 21
        }
      ]
    },
    {
      "cell_type": "code",
      "source": [
        "# 얕은 복사\n",
        "a = {1:[2,3], 2:[2,3,4]}\n",
        "d = a.copy()\n",
        "a[1][0] = 100\n",
        "a, d"
      ],
      "metadata": {
        "colab": {
          "base_uri": "https://localhost:8080/"
        },
        "id": "V1pemrqFfK71",
        "outputId": "efc08e6b-9bd9-44ac-bbc5-9d1c1e29a196"
      },
      "execution_count": 17,
      "outputs": [
        {
          "output_type": "execute_result",
          "data": {
            "text/plain": [
              "({1: [100, 3], 2: [2, 3, 4]}, {1: [100, 3], 2: [2, 3, 4]})"
            ]
          },
          "metadata": {},
          "execution_count": 17
        }
      ]
    },
    {
      "cell_type": "code",
      "source": [
        "# 깊은 복사는 변하지 않음\n",
        "import copy\n",
        "e = copy.deepcopy(a)\n",
        "a[1][1] = 999\n",
        "a, e"
      ],
      "metadata": {
        "colab": {
          "base_uri": "https://localhost:8080/"
        },
        "id": "wgisf1MYfh7p",
        "outputId": "0e709ec0-a866-4d62-847d-c3eda591fa01"
      },
      "execution_count": null,
      "outputs": [
        {
          "output_type": "execute_result",
          "data": {
            "text/plain": [
              "({1: [100, 999], 2: [2, 3, 4]}, {1: [100, 3], 2: [2, 3, 4]})"
            ]
          },
          "metadata": {},
          "execution_count": 38
        }
      ]
    },
    {
      "cell_type": "markdown",
      "source": [
        "### 비교\n",
        "- 같다 다르다\n",
        "- 크고 작고는 안됨"
      ],
      "metadata": {
        "id": "OmelHsyQhaGA"
      }
    },
    {
      "cell_type": "code",
      "source": [
        "a != b"
      ],
      "metadata": {
        "colab": {
          "base_uri": "https://localhost:8080/"
        },
        "id": "D6cBm7tQhZav",
        "outputId": "af6fdc1d-faab-489e-eab1-7ac0bcfb9847"
      },
      "execution_count": 22,
      "outputs": [
        {
          "output_type": "execute_result",
          "data": {
            "text/plain": [
              "False"
            ]
          },
          "metadata": {},
          "execution_count": 22
        }
      ]
    },
    {
      "cell_type": "markdown",
      "source": [
        "### 실습 4\n",
        "- 두 개의 리스트로 하나의 딕셔너리 생성\n",
        "- 명왕성 = pluto 추가\n",
        "- '성'으로 끝나지 않는 키 삭제\n",
        "- del dict1['태양'] 같은 방법 지양\n",
        "- sorted 이용해서 값 정렬 i)key 기준 ii)value 기준"
      ],
      "metadata": {
        "id": "PhtJBrFqfsJl"
      }
    },
    {
      "cell_type": "code",
      "source": [
        "solar_kor = '태양 수성 금성 지구 화성 목성 토성 천왕성 해왕성'.split()\n",
        "solar_eng = 'sun mercury venus earth mars jupiter saturn uranus neptune'.split()"
      ],
      "metadata": {
        "id": "NN5pI3WpfqSD"
      },
      "execution_count": 25,
      "outputs": []
    },
    {
      "cell_type": "code",
      "source": [
        "engkor_solar = {}\n",
        "for i in range(len(solar_kor)):\n",
        "    if solar_kor[i].endswith('성'):\n",
        "      engkor_solar[solar_kor[i]] = solar_eng[i]\n",
        "pluto = {'명왕성':'pluto'}\n",
        "engkor_solar.update(pluto)\n",
        "engkor_solar"
      ],
      "metadata": {
        "colab": {
          "base_uri": "https://localhost:8080/"
        },
        "id": "IDxTktPRgNre",
        "outputId": "2a571e3a-9258-4c5a-8d67-ab6fe897462d"
      },
      "execution_count": null,
      "outputs": [
        {
          "output_type": "execute_result",
          "data": {
            "text/plain": [
              "{'금성': 'venus',\n",
              " '명왕성': 'pluto',\n",
              " '목성': 'jupiter',\n",
              " '수성': 'mercury',\n",
              " '천왕성': 'uranus',\n",
              " '토성': 'saturn',\n",
              " '해왕성': 'neptune',\n",
              " '화성': 'mars'}"
            ]
          },
          "metadata": {},
          "execution_count": 55
        }
      ]
    },
    {
      "cell_type": "code",
      "source": [
        "solar = { name:value for name, value in zip(solar_kor, solar_eng) }\n",
        "solar = dict([ (k, v) for k, v in solar.items() if k.endswith('성') ])\n",
        "solar"
      ],
      "metadata": {
        "colab": {
          "base_uri": "https://localhost:8080/"
        },
        "id": "IXCPMtv8h0uv",
        "outputId": "dbf01087-37e6-4dbc-d623-fa20bbe3f245"
      },
      "execution_count": 27,
      "outputs": [
        {
          "output_type": "execute_result",
          "data": {
            "text/plain": [
              "{'금성': 'venus',\n",
              " '목성': 'jupiter',\n",
              " '수성': 'mercury',\n",
              " '천왕성': 'uranus',\n",
              " '토성': 'saturn',\n",
              " '해왕성': 'neptune',\n",
              " '화성': 'mars'}"
            ]
          },
          "metadata": {},
          "execution_count": 27
        }
      ]
    },
    {
      "cell_type": "code",
      "source": [
        "kor_eng = dict([(kor,eng) for kor,eng in zip(solar_kor,solar_eng) if kor.endswith('성')])\n",
        "pluto = {'명왕성':'pluto'}\n",
        "kor_eng.update(pluto)\n",
        "kor_eng"
      ],
      "metadata": {
        "colab": {
          "base_uri": "https://localhost:8080/"
        },
        "id": "Z-60Clywg7sF",
        "outputId": "ab828c48-71f1-4120-aa38-ccbd704df7a5"
      },
      "execution_count": null,
      "outputs": [
        {
          "output_type": "execute_result",
          "data": {
            "text/plain": [
              "{'금성': 'venus',\n",
              " '명왕성': 'pluto',\n",
              " '목성': 'jupiter',\n",
              " '수성': 'mercury',\n",
              " '천왕성': 'uranus',\n",
              " '토성': 'saturn',\n",
              " '해왕성': 'neptune',\n",
              " '화성': 'mars'}"
            ]
          },
          "metadata": {},
          "execution_count": 67
        }
      ]
    },
    {
      "cell_type": "markdown",
      "source": [
        "### 딕셔너리 컴프리헨션"
      ],
      "metadata": {
        "id": "IbblQxd7owKr"
      }
    },
    {
      "cell_type": "code",
      "source": [
        "letter = 'apple'\n",
        "{ch : letter.count(ch) for ch in letter}"
      ],
      "metadata": {
        "colab": {
          "base_uri": "https://localhost:8080/"
        },
        "id": "1AfuH1Vkjn8a",
        "outputId": "7b3d70bb-63a2-46b4-e8c3-61902d75de30"
      },
      "execution_count": null,
      "outputs": [
        {
          "output_type": "execute_result",
          "data": {
            "text/plain": [
              "{'a': 1, 'e': 1, 'l': 1, 'p': 2}"
            ]
          },
          "metadata": {},
          "execution_count": 68
        }
      ]
    },
    {
      "cell_type": "code",
      "source": [
        "vowels = 'aeiou'\n",
        "word = 'onomatapoeia'\n",
        "{ch : word.count(ch) for ch in vowels}"
      ],
      "metadata": {
        "colab": {
          "base_uri": "https://localhost:8080/"
        },
        "id": "Cvlfw9TZpMya",
        "outputId": "ca7aa67e-6b9b-450c-d9a2-ae086feaf119"
      },
      "execution_count": null,
      "outputs": [
        {
          "output_type": "execute_result",
          "data": {
            "text/plain": [
              "{'a': 3, 'e': 1, 'i': 1, 'o': 3, 'u': 0}"
            ]
          },
          "metadata": {},
          "execution_count": 70
        }
      ]
    },
    {
      "cell_type": "markdown",
      "source": [
        "##Sorting"
      ],
      "metadata": {
        "id": "dIl9JEcQqiBM"
      }
    },
    {
      "cell_type": "code",
      "source": [
        "# sorted > key 만 가져감\n",
        "sorted(solar)"
      ],
      "metadata": {
        "colab": {
          "base_uri": "https://localhost:8080/"
        },
        "id": "Wu6qFwRAiUIi",
        "outputId": "ab3fbe4c-ae03-4da6-f508-aa369f4c59ba"
      },
      "execution_count": 28,
      "outputs": [
        {
          "output_type": "execute_result",
          "data": {
            "text/plain": [
              "['금성', '목성', '수성', '천왕성', '토성', '해왕성', '화성']"
            ]
          },
          "metadata": {},
          "execution_count": 28
        }
      ]
    },
    {
      "cell_type": "code",
      "source": [
        "def fx(x):\n",
        "    # 0은 key, 1은 value\n",
        "    return x[0]\n",
        "\n",
        "sorted(solar.items(), key=fx)"
      ],
      "metadata": {
        "colab": {
          "base_uri": "https://localhost:8080/"
        },
        "id": "ghbW7B0miZiU",
        "outputId": "de61cef3-8dc5-434e-9205-65c1a28631ab"
      },
      "execution_count": 29,
      "outputs": [
        {
          "output_type": "execute_result",
          "data": {
            "text/plain": [
              "[('금성', 'venus'),\n",
              " ('목성', 'jupiter'),\n",
              " ('수성', 'mercury'),\n",
              " ('천왕성', 'uranus'),\n",
              " ('토성', 'saturn'),\n",
              " ('해왕성', 'neptune'),\n",
              " ('화성', 'mars')]"
            ]
          },
          "metadata": {},
          "execution_count": 29
        }
      ]
    },
    {
      "cell_type": "code",
      "source": [
        "# lambda 함수\n",
        "sorted(kor_eng.items(), key=lambda x: x[0])"
      ],
      "metadata": {
        "colab": {
          "base_uri": "https://localhost:8080/"
        },
        "id": "A0L0HBVupcds",
        "outputId": "5f8860c7-a758-4790-a92e-4611830fb995"
      },
      "execution_count": null,
      "outputs": [
        {
          "output_type": "execute_result",
          "data": {
            "text/plain": [
              "[('금성', 'venus'),\n",
              " ('명왕성', 'pluto'),\n",
              " ('목성', 'jupiter'),\n",
              " ('수성', 'mercury'),\n",
              " ('천왕성', 'uranus'),\n",
              " ('토성', 'saturn'),\n",
              " ('해왕성', 'neptune'),\n",
              " ('화성', 'mars')]"
            ]
          },
          "metadata": {},
          "execution_count": 71
        }
      ]
    },
    {
      "cell_type": "markdown",
      "source": [
        "## Set\n",
        "- \"중복이 없다\"\n",
        "- \"집합 => 교집합,합집합,차집합,...\"\n",
        "- bag,인덱싱도 없다"
      ],
      "metadata": {
        "id": "3avM02Cqrm6Y"
      }
    },
    {
      "cell_type": "code",
      "source": [
        "# set 선언\n",
        "empty = set()\n",
        "empty"
      ],
      "metadata": {
        "colab": {
          "base_uri": "https://localhost:8080/"
        },
        "id": "oCipmqahikYV",
        "outputId": "33ad2b06-f508-42a5-d12f-b53a9bc244f0"
      },
      "execution_count": 31,
      "outputs": [
        {
          "output_type": "execute_result",
          "data": {
            "text/plain": [
              "set()"
            ]
          },
          "metadata": {},
          "execution_count": 31
        }
      ]
    },
    {
      "cell_type": "code",
      "source": [
        "# 값 있을 때는 그냥 넣기\n",
        "a = {1, 2, 3}\n",
        "\n",
        "# 튜플이나 리스트로 묶어주고 넣기\n",
        "b = set((1, 2, 3))\n",
        "\n",
        "a, b"
      ],
      "metadata": {
        "id": "f2ZTJ9CRiktL"
      },
      "execution_count": null,
      "outputs": []
    },
    {
      "cell_type": "code",
      "source": [
        "# 추가\n",
        "a.add(4)\n",
        "print(a)\n",
        "\n",
        "# 삭제\n",
        "a.remove(4)\n",
        "a"
      ],
      "metadata": {
        "colab": {
          "base_uri": "https://localhost:8080/"
        },
        "id": "K5u4ykAMimtq",
        "outputId": "60bda2b0-a23a-475d-f9b8-c3fce77350da"
      },
      "execution_count": 33,
      "outputs": [
        {
          "output_type": "stream",
          "name": "stdout",
          "text": [
            "{1, 2, 3, 4}\n"
          ]
        },
        {
          "output_type": "execute_result",
          "data": {
            "text/plain": [
              "{1, 2, 3}"
            ]
          },
          "metadata": {},
          "execution_count": 33
        }
      ]
    },
    {
      "cell_type": "code",
      "source": [
        "drinks = {\n",
        "    'martini': {'vodka', 'vermouth'},\n",
        "    'black russian': {'vodka', 'kahlua'},\n",
        "    'white russian': {'cream', 'kahlua'},\n",
        "    'manhattan': {'rye', 'vermouth', 'bitters'},\n",
        "    'screwdriver': {'orange juice', 'vodka'}\n",
        "}"
      ],
      "metadata": {
        "id": "9zF5qqxqrb6Q"
      },
      "execution_count": 35,
      "outputs": []
    },
    {
      "cell_type": "code",
      "source": [
        "for drink,inner in drinks.items():\n",
        "  if 'vodka' in inner and 'cream' not in inner and 'vermouth' not in inner:\n",
        "    print(drink)"
      ],
      "metadata": {
        "colab": {
          "base_uri": "https://localhost:8080/"
        },
        "id": "ba8LDAZ2sjKH",
        "outputId": "3ecbc679-d929-4bcc-a88c-0669a39ad9ff"
      },
      "execution_count": 36,
      "outputs": [
        {
          "output_type": "stream",
          "name": "stdout",
          "text": [
            "black russian\n",
            "screwdriver\n"
          ]
        }
      ]
    },
    {
      "cell_type": "code",
      "source": [
        "for drink,inner in drinks.items():\n",
        "  if 'vodka' in inner:\n",
        "    print(drink)"
      ],
      "metadata": {
        "colab": {
          "base_uri": "https://localhost:8080/"
        },
        "id": "3LGP0gS1tEly",
        "outputId": "0c18cecf-b2c2-4643-e9e4-fb65c946d5dd"
      },
      "execution_count": 37,
      "outputs": [
        {
          "output_type": "stream",
          "name": "stdout",
          "text": [
            "martini\n",
            "black russian\n",
            "screwdriver\n"
          ]
        }
      ]
    },
    {
      "cell_type": "markdown",
      "source": [
        "# 교집합\n",
        "a.intersection(b)\n",
        "# 합집합\n",
        "a.union(b)\n",
        "# 차집합\n",
        "a.difference(b)"
      ],
      "metadata": {
        "id": "h6SaJqOFvz7A"
      }
    },
    {
      "cell_type": "code",
      "source": [
        "a = {1, 2, 3}\n",
        "b = {2, 3, 4}\n",
        "# 교집합\n",
        "print(a.intersection(b))\n",
        "print(a & b)\n",
        "print()\n",
        "# 합집합\n",
        "print(a.union(b))\n",
        "print(a | b)\n",
        "print()\n",
        "# 차집합\n",
        "print(a.difference(b))\n",
        "print(b.difference(a))\n",
        "print(a - b, b - a)"
      ],
      "metadata": {
        "colab": {
          "base_uri": "https://localhost:8080/"
        },
        "id": "Xvy0LFNZwJ0f",
        "outputId": "da8fd74a-9851-4804-fe1d-4053bf5987bc"
      },
      "execution_count": null,
      "outputs": [
        {
          "output_type": "execute_result",
          "data": {
            "text/plain": [
              "({1}, {4})"
            ]
          },
          "metadata": {},
          "execution_count": 75
        }
      ]
    },
    {
      "cell_type": "code",
      "source": [
        "# set을 활용\n",
        "for k, v in drinks.items():\n",
        "    if 'vodka' in v and not (v & {'cream', 'vermouth'}):\n",
        "        print(k)"
      ],
      "metadata": {
        "id": "yseczZdcwaYS"
      },
      "execution_count": null,
      "outputs": []
    },
    {
      "cell_type": "code",
      "source": [
        "# set comprehension\n",
        "{ s for s in range(5) }"
      ],
      "metadata": {
        "id": "d42wxHdHxNDp",
        "colab": {
          "base_uri": "https://localhost:8080/"
        },
        "outputId": "63bf5962-bc96-4339-f4cf-726ff8004a16"
      },
      "execution_count": 39,
      "outputs": [
        {
          "output_type": "execute_result",
          "data": {
            "text/plain": [
              "{0, 1, 2, 3, 4}"
            ]
          },
          "metadata": {},
          "execution_count": 39
        }
      ]
    },
    {
      "cell_type": "code",
      "source": [
        "# frozenset: 가변 객체를 불변 객체로 만듦\n",
        "\n",
        "set([1, 2])\n",
        "frozenset([1, 2])"
      ],
      "metadata": {
        "id": "G4b3IXMXjG47"
      },
      "execution_count": null,
      "outputs": []
    }
  ]
}