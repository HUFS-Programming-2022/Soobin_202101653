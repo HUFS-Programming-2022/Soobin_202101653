{
  "nbformat": 4,
  "nbformat_minor": 0,
  "metadata": {
    "colab": {
      "name": "week_01.ipynb",
      "provenance": [],
      "collapsed_sections": []
    },
    "kernelspec": {
      "name": "python3",
      "display_name": "Python 3"
    },
    "language_info": {
      "name": "python"
    }
  },
  "cells": [
    {
      "cell_type": "code",
      "execution_count": 1,
      "metadata": {
        "id": "JFptcRx2_bhr"
      },
      "outputs": [],
      "source": [
        "# 주석은 샾으로\n",
        "# 실행 : shift + enter "
      ]
    },
    {
      "cell_type": "markdown",
      "source": [
        "제목 만드는 법\n",
        "# 샾 1개\n",
        "## 샾 2개\n",
        "### 샾 3개\n",
        "\n",
        "쉬프트+m 누르면 마크 다운\n",
        "\n",
        "-하고 띄어쓰기 하면 들여쓰기\n",
        "\n",
        "삭제는 쉬프트 누르고 dd\n"
      ],
      "metadata": {
        "id": "OAA7zIZXBiKE"
      }
    },
    {
      "cell_type": "markdown",
      "source": [
        "#프로그래밍\n",
        "- 프로그래밍 언어를 사용하여 프로그램을 개발\n",
        "- 프로그래밍 언어를 통해 논리적인 사고 형성 가능\n"
      ],
      "metadata": {
        "id": "qerYumoUDMI4"
      }
    },
    {
      "cell_type": "markdown",
      "source": [
        "#프로그래밍 언어\n",
        "- 프로그램을 개발하는 도구\n",
        "- 인간이 원하는 것을 컴퓨터에게 명령할 때 사용하는 컴퓨터가 이해할 수 있는 언어\n",
        "\n",
        "#파이썬\n",
        "\n",
        "- 쉽다. 간결하다.\n",
        "- 라이브러리가 많다\n"
      ],
      "metadata": {
        "id": "ymYbz9OtDXhn"
      }
    },
    {
      "cell_type": "markdown",
      "source": [
        "# Chapter 2 Data : Types, Values, Variables and Names\n",
        "\n",
        "- 변수: 특정 값을 저장하는 공간\n",
        "- 값 value: 2,5,6..\n",
        "- 할당하다 assign: 변수에 값을 넣는 과정\n",
        "- 자료형 type: 데이터의 형태 ex) int\n"
      ],
      "metadata": {
        "id": "sXFOaz-UDqyN"
      }
    },
    {
      "cell_type": "code",
      "source": [
        "a = 2\n",
        "type(a)\n",
        "type(a == 2)"
      ],
      "metadata": {
        "colab": {
          "base_uri": "https://localhost:8080/"
        },
        "id": "G0fQxTXfABSv",
        "outputId": "c408cf21-1baf-4e6a-de1c-6b991a264e0e"
      },
      "execution_count": 2,
      "outputs": [
        {
          "output_type": "execute_result",
          "data": {
            "text/plain": [
              "bool"
            ]
          },
          "metadata": {},
          "execution_count": 2
        }
      ]
    },
    {
      "cell_type": "markdown",
      "source": [
        "#Type\n",
        "\n",
        "- integer : 정수 (int)\n",
        "- floating point number(float) : 부동소수점. (같은 1이라고 해도 1.0은 타입이 다름)\n",
        "- string : 문자열(str) | ex : \"I', \"apple\"\n",
        "- boolean : 불리언(bool) | ex : True, False\n",
        "\n",
        "웬만하면 변수명을 사용해라\n",
        "\n",
        "#할당\n",
        "\n",
        "- =기호를 사용\n",
        "- 오른쪽의 값을 왼쪽에 할당한다.\n",
        "  - 1.오른쪽에 있는 모든 값을 가져야 한다(초기화 해야됨)\n",
        "  - 2.같은 변수에 다른 값을 넣을 수 있다."
      ],
      "metadata": {
        "id": "vPjF5j-kEg8-"
      }
    },
    {
      "cell_type": "code",
      "source": [
        "x = 4 # 초기화\n",
        "y = 3 + x\n",
        "x, y"
      ],
      "metadata": {
        "colab": {
          "base_uri": "https://localhost:8080/"
        },
        "id": "5CGT-JaEEOij",
        "outputId": "4a4e88a5-cc7e-47e2-dff9-60d1031066c4"
      },
      "execution_count": 3,
      "outputs": [
        {
          "output_type": "execute_result",
          "data": {
            "text/plain": [
              "(4, 7)"
            ]
          },
          "metadata": {},
          "execution_count": 3
        }
      ]
    },
    {
      "cell_type": "code",
      "source": [
        "name = \"kim\"\n",
        "name = \"bai\"\n",
        "print(name) # 동일한 변수명 사용 X"
      ],
      "metadata": {
        "colab": {
          "base_uri": "https://localhost:8080/"
        },
        "id": "H-Qp2A8HFJ7-",
        "outputId": "e27b07af-9e35-4876-ca1d-d91a07753698"
      },
      "execution_count": 4,
      "outputs": [
        {
          "output_type": "stream",
          "name": "stdout",
          "text": [
            "lee\n"
          ]
        }
      ]
    },
    {
      "cell_type": "markdown",
      "source": [
        "# 변수명 정하기\n",
        "- 나쁜 변수명은 지양하자 ex)a,b,c,a1,b1..\n",
        "- 의미 이해가 쉬운 변수명을 지향하자\n",
        "- 소문자, 대문자, 숫자 언더바를 사용하자"
      ],
      "metadata": {
        "id": "aEssiB7VFT40"
      }
    },
    {
      "cell_type": "code",
      "source": [
        "name = 'juliette'\n",
        "name1 = \"jessica\"\n",
        "my_name = 'laura'\n",
        "myName = 'ChooBJ' # myName : 카멜표기법\\\n",
        "\n",
        "print(name, name1, my_name, sep=', ')\n",
        "\n"
      ],
      "metadata": {
        "colab": {
          "base_uri": "https://localhost:8080/"
        },
        "id": "aCB4Ch08FQR8",
        "outputId": "0a57daea-9cea-407d-e789-c086fd5f4b49"
      },
      "execution_count": 5,
      "outputs": [
        {
          "output_type": "stream",
          "name": "stdout",
          "text": [
            "juliette, jessica, laura\n"
          ]
        }
      ]
    },
    {
      "cell_type": "markdown",
      "source": [
        "- 변수명으로 안되는 것들\n",
        "  - 숫자로 시작할 수 없다\n",
        "  - 예약어로 선언하면 안된다"
      ],
      "metadata": {
        "id": "WCrZbqOdF7Wd"
      }
    },
    {
      "cell_type": "code",
      "source": [
        "help(\"keywords\") #예약어 열람"
      ],
      "metadata": {
        "colab": {
          "base_uri": "https://localhost:8080/"
        },
        "id": "_6ynWbchGJmH",
        "outputId": "55954653-b68b-4667-e61b-e29b88d2a1cb"
      },
      "execution_count": 6,
      "outputs": [
        {
          "output_type": "stream",
          "name": "stdout",
          "text": [
            "\n",
            "Here is a list of the Python keywords.  Enter any keyword to get more help.\n",
            "\n",
            "False               class               from                or\n",
            "None                continue            global              pass\n",
            "True                def                 if                  raise\n",
            "and                 del                 import              return\n",
            "as                  elif                in                  try\n",
            "assert              else                is                  while\n",
            "async               except              lambda              with\n",
            "await               finally             nonlocal            yield\n",
            "break               for                 not                 \n",
            "\n"
          ]
        }
      ]
    },
    {
      "cell_type": "markdown",
      "source": [
        "- 변수명으로 지정할 때 조심해야 하는 이름\n",
        "  - 언더바로 시작하는 변수명\n",
        "  - 더블 언더바로 시작하고 끝나는 변수명\n",
        "  - 대문자로 시작하는 변수명\n",
        "  - 전체 대문자로 된 변수명"
      ],
      "metadata": {
        "id": "bYvThBaiGRbZ"
      }
    },
    {
      "cell_type": "code",
      "source": [
        ""
      ],
      "metadata": {
        "id": "GeflxExyGfIj"
      },
      "execution_count": null,
      "outputs": []
    }
  ]
}