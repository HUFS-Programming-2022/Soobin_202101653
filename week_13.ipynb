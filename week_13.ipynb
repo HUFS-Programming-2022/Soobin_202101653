{
  "nbformat": 4,
  "nbformat_minor": 0,
  "metadata": {
    "colab": {
      "name": "week_13.ipynb",
      "provenance": [],
      "collapsed_sections": []
    },
    "kernelspec": {
      "name": "python3",
      "display_name": "Python 3"
    },
    "language_info": {
      "name": "python"
    }
  },
  "cells": [
    {
      "cell_type": "markdown",
      "source": [
        "### 함수 2\n",
        "- 일급 객체\n",
        "- 중첩함수\n",
        "- 익명함수\n",
        "- 제너레이터\n",
        "- 재귀함수"
      ],
      "metadata": {
        "id": "rgqkEG3Fiopg"
      }
    },
    {
      "cell_type": "markdown",
      "source": [
        "#### 입급 객체\n",
        "- first class object, first class citizen\n",
        "- 파이썬에서 함수도 일급 객체다.\n",
        "- 일급 객체의 조건\n",
        "    - 함수의 인자로 전달된다.\n",
        "\n",
        "        def fx(func):\n",
        "    - 함수의 반환값이 된다.\n",
        "    \n",
        "        def fx(func):\n",
        "            return func\n",
        "    - 수정, 할당이 된다. var = fx()"
      ],
      "metadata": {
        "id": "eWly0YL-ixa0"
      }
    },
    {
      "cell_type": "code",
      "execution_count": null,
      "metadata": {
        "colab": {
          "base_uri": "https://localhost:8080/"
        },
        "id": "s9KZToYahyPr",
        "outputId": "67a642dc-d282-4cf3-cd8e-89d01e2a5fb7"
      },
      "outputs": [
        {
          "output_type": "stream",
          "name": "stdout",
          "text": [
            "42\n"
          ]
        }
      ],
      "source": [
        "def answer():\n",
        "    print(42)\n",
        "\n",
        "def run_sth(func):\n",
        "    func()\n",
        "\n",
        "run_sth(answer)"
      ]
    },
    {
      "cell_type": "code",
      "source": [
        "def add_args(args1, args2):\n",
        "    print(args1 + args2)\n",
        "\n",
        "def run_sth(func, *args):\n",
        "    func(*args)\n",
        "\n",
        "run_sth(add_args, 3, 5)"
      ],
      "metadata": {
        "colab": {
          "base_uri": "https://localhost:8080/"
        },
        "id": "L-YknBAjjfhj",
        "outputId": "88cc4a3d-698d-4397-b007-5e6b2edb7fed"
      },
      "execution_count": null,
      "outputs": [
        {
          "output_type": "stream",
          "name": "stdout",
          "text": [
            "8\n"
          ]
        }
      ]
    },
    {
      "cell_type": "markdown",
      "source": [
        "#### 중첩함수\n",
        "- 함수 내에서 또 다른 함수를 정의하는 것\n",
        "- 내부함수 캡슐화\n",
        "    - 메모리 절약\n",
        "    - 변수가 섞여서 불필요하게 충돌하는 것을 방지함\n",
        "    - 목적에 맞게 변수를 그룹화 할 수 있음. 관리, 책임 명확히"
      ],
      "metadata": {
        "id": "nMtVp-v2j4du"
      }
    },
    {
      "cell_type": "code",
      "source": [
        "def outer(a, b):\n",
        "    def inner(c, d):\n",
        "        return c + d\n",
        "    return inner(a, b)\n",
        "outer(1,1)"
      ],
      "metadata": {
        "colab": {
          "base_uri": "https://localhost:8080/"
        },
        "id": "7xdOVu6OjySC",
        "outputId": "3fa3a6d2-d25c-4642-bbad-488528242b3c"
      },
      "execution_count": null,
      "outputs": [
        {
          "output_type": "execute_result",
          "data": {
            "text/plain": [
              "2"
            ]
          },
          "metadata": {},
          "execution_count": 4
        }
      ]
    },
    {
      "cell_type": "code",
      "source": [
        "def knight(saying):\n",
        "    def inner():\n",
        "        return f'We are the knights who say: {saying}'\n",
        "    return inner\n",
        "\n",
        "a = knight('hi')\n",
        "a"
      ],
      "metadata": {
        "id": "dKlRs7NckMm3",
        "colab": {
          "base_uri": "https://localhost:8080/"
        },
        "outputId": "6c5e75a6-f229-4483-edca-95bd38d087ad"
      },
      "execution_count": 2,
      "outputs": [
        {
          "output_type": "execute_result",
          "data": {
            "text/plain": [
              "<function __main__.knight.<locals>.inner>"
            ]
          },
          "metadata": {},
          "execution_count": 2
        }
      ]
    },
    {
      "cell_type": "markdown",
      "source": [
        "- 외부함수의 인자를 \"참조\"할 수 있다.\n",
        "- 수정/활용은 안됨"
      ],
      "metadata": {
        "id": "UdJw5S9Dl9jy"
      }
    },
    {
      "cell_type": "code",
      "source": [
        "a()"
      ],
      "metadata": {
        "colab": {
          "base_uri": "https://localhost:8080/",
          "height": 35
        },
        "id": "WszvpZrYlVcP",
        "outputId": "2c1a1e12-5470-49d1-cce8-956546d23953"
      },
      "execution_count": null,
      "outputs": [
        {
          "output_type": "execute_result",
          "data": {
            "text/plain": [
              "'We are the knights who say: hi'"
            ],
            "application/vnd.google.colaboratory.intrinsic+json": {
              "type": "string"
            }
          },
          "metadata": {},
          "execution_count": 6
        }
      ]
    },
    {
      "cell_type": "markdown",
      "source": [
        "### 클로저 | closure\n",
        "- 조건\n",
        "    1. 중첩함수일 것\n",
        "    2. 내부함수가 외부함수의 상태값을 참조할 것\n",
        "    3. 외부함수의 리턴값이 내부함수일 것\n",
        "- 외부함수의 상태값을 기억하는 함수(호출 시 사용 가능)"
      ],
      "metadata": {
        "id": "E7IbT0hfmI5-"
      }
    },
    {
      "cell_type": "code",
      "source": [
        "def multiply(x):\n",
        "    def inner(y): #1.\n",
        "        return x * y #2.\n",
        "    return inner #3."
      ],
      "metadata": {
        "id": "Y0NHOxrClXz1"
      },
      "execution_count": 4,
      "outputs": []
    },
    {
      "cell_type": "code",
      "source": [
        "m = multiply(5)\n",
        "n = multiply(6)"
      ],
      "metadata": {
        "id": "tPClvmO0myBR"
      },
      "execution_count": 5,
      "outputs": []
    },
    {
      "cell_type": "code",
      "source": [
        "m, n"
      ],
      "metadata": {
        "colab": {
          "base_uri": "https://localhost:8080/"
        },
        "id": "Y74OVvgxm8S5",
        "outputId": "a010573c-3ead-4421-a63d-8fb4424308cf"
      },
      "execution_count": 6,
      "outputs": [
        {
          "output_type": "execute_result",
          "data": {
            "text/plain": [
              "(<function __main__.multiply.<locals>.inner>,\n",
              " <function __main__.multiply.<locals>.inner>)"
            ]
          },
          "metadata": {},
          "execution_count": 6
        }
      ]
    },
    {
      "cell_type": "code",
      "source": [
        "m(10)"
      ],
      "metadata": {
        "colab": {
          "base_uri": "https://localhost:8080/"
        },
        "id": "PlN-irUhm9li",
        "outputId": "75b5c1a3-1f4f-4052-e694-23a31c8d954e"
      },
      "execution_count": null,
      "outputs": [
        {
          "output_type": "execute_result",
          "data": {
            "text/plain": [
              "50"
            ]
          },
          "metadata": {},
          "execution_count": 11
        }
      ]
    },
    {
      "cell_type": "code",
      "source": [
        "n(10)"
      ],
      "metadata": {
        "colab": {
          "base_uri": "https://localhost:8080/"
        },
        "id": "AqstpgTUnAMu",
        "outputId": "87b4e79a-f844-4b88-9d19-106280954346"
      },
      "execution_count": null,
      "outputs": [
        {
          "output_type": "execute_result",
          "data": {
            "text/plain": [
              "60"
            ]
          },
          "metadata": {},
          "execution_count": 12
        }
      ]
    },
    {
      "cell_type": "code",
      "source": [
        "del(multiply)"
      ],
      "metadata": {
        "id": "QuIl1bb0nBPQ"
      },
      "execution_count": null,
      "outputs": []
    },
    {
      "cell_type": "code",
      "source": [
        "m(7)"
      ],
      "metadata": {
        "colab": {
          "base_uri": "https://localhost:8080/"
        },
        "id": "4HJbOaK4sjmp",
        "outputId": "9f4735aa-82f6-4797-e7b9-a261ba5803b6"
      },
      "execution_count": 8,
      "outputs": [
        {
          "output_type": "execute_result",
          "data": {
            "text/plain": [
              "35"
            ]
          },
          "metadata": {},
          "execution_count": 8
        }
      ]
    },
    {
      "cell_type": "code",
      "source": [
        "def add(a, b):\n",
        "    return a + b\n",
        "\n",
        "def square(func):\n",
        "    def inner(a, b):\n",
        "        result = func(a, b)\n",
        "        return result * result\n",
        "    return inner\n",
        "\n",
        "\n",
        "a = square(add)\n",
        "a(4, 5)"
      ],
      "metadata": {
        "colab": {
          "base_uri": "https://localhost:8080/"
        },
        "id": "sjdxdWmznVRM",
        "outputId": "430b3e0a-8682-4677-c6a2-1692884c0465"
      },
      "execution_count": 10,
      "outputs": [
        {
          "output_type": "execute_result",
          "data": {
            "text/plain": [
              "81"
            ]
          },
          "metadata": {},
          "execution_count": 10
        }
      ]
    },
    {
      "cell_type": "markdown",
      "source": [
        "#### 데코레이터\n",
        "- 메인 함수에 또 다른 함수를 취해 반환할 수 있게 함\n",
        "- 재사용성 높음\n",
        "- 가독성, 직관성 좋다"
      ],
      "metadata": {
        "id": "i1jM1RGnqTtf"
      }
    },
    {
      "cell_type": "code",
      "source": [
        "@square\n",
        "def plus(a, b):\n",
        "    return a + b\n",
        "plus(4, 5)"
      ],
      "metadata": {
        "colab": {
          "base_uri": "https://localhost:8080/"
        },
        "id": "7N8yeCgLqGom",
        "outputId": "bf1c193e-26ad-44b1-99bb-ac296690d96a"
      },
      "execution_count": 11,
      "outputs": [
        {
          "output_type": "execute_result",
          "data": {
            "text/plain": [
              "81"
            ]
          },
          "metadata": {},
          "execution_count": 11
        }
      ]
    },
    {
      "cell_type": "markdown",
      "source": [
        "#### scope | 범위\n",
        "- 전역: global\n",
        "- 지역: local"
      ],
      "metadata": {
        "id": "en8Qt1-Qqdox"
      }
    },
    {
      "cell_type": "code",
      "source": [
        "a = 1 # global\n",
        "def add(a,b)\n",
        "    x = 2 # local\n",
        "    return a+b\n",
        "\n",
        "def square(func):\n",
        "    # local\n",
        "    def inner(a,b):  #nonlocal\n",
        "        result = func(a,b)\n",
        "        return result * result\n",
        "    return inner"
      ],
      "metadata": {
        "id": "csKPkWY3thjA"
      },
      "execution_count": null,
      "outputs": []
    },
    {
      "cell_type": "code",
      "source": [
        "a = 3\n",
        "\n",
        "def outer(c):\n",
        "    b = 5\n",
        "    def inner():\n",
        "        c = 999\n",
        "        return c\n",
        "    return inner()\n",
        "\n",
        "outer(9)"
      ],
      "metadata": {
        "colab": {
          "base_uri": "https://localhost:8080/"
        },
        "id": "yuI8k6tFqdMi",
        "outputId": "762db8ad-6f3e-49c0-91de-53c676d8b20b"
      },
      "execution_count": null,
      "outputs": [
        {
          "output_type": "execute_result",
          "data": {
            "text/plain": [
              "999"
            ]
          },
          "metadata": {},
          "execution_count": 22
        }
      ]
    },
    {
      "cell_type": "markdown",
      "source": [
        "#### 실습\n",
        "- fx1: speed, limit 내 속도가 제한속도를 위반하는지 t/f\n",
        "- fx2: 클로저. 초과할 경우 얼마나 초과하는지 프린트하는 함수\n",
        "- 실행은 데코레이터로"
      ],
      "metadata": {
        "id": "UFKPcLQ3rm17"
      }
    },
    {
      "cell_type": "code",
      "source": [
        "def howmuch(func):\n",
        "    def inner(speed, limit):\n",
        "        if func(speed, limit):\n",
        "            return f'{speed - limit}만큼 규정속도를 초과했습니다.'\n",
        "        return '규정속도 이하입니다.'\n",
        "    return inner\n",
        "\n",
        "@howmuch\n",
        "def check_speed(speed, limit):\n",
        "    return speed > limit\n",
        "check_speed(100, 80)"
      ],
      "metadata": {
        "colab": {
          "base_uri": "https://localhost:8080/",
          "height": 35
        },
        "id": "0bqLHgg5rYnz",
        "outputId": "73130e84-30c9-49ce-972e-99a9b216bf05"
      },
      "execution_count": null,
      "outputs": [
        {
          "output_type": "execute_result",
          "data": {
            "text/plain": [
              "'20만큼 규정속도를 초과했습니다.'"
            ],
            "application/vnd.google.colaboratory.intrinsic+json": {
              "type": "string"
            }
          },
          "metadata": {},
          "execution_count": 36
        }
      ]
    },
    {
      "cell_type": "code",
      "source": [
        "# 정답\n",
        "\n",
        "def violate(func):\n",
        "    def inner(speed, limit):\n",
        "        if func(speed,limit):\n",
        "            return f'초과: {speed - limit} km/h'\n",
        "        else:\n",
        "            return '정상 속도'\n",
        "    return inner\n",
        "\n",
        "@violate\n",
        "def is_speeding(speed,limit):\n",
        "    return speed > limit\n",
        "\n",
        "is_speeding(100,80)"
      ],
      "metadata": {
        "colab": {
          "base_uri": "https://localhost:8080/",
          "height": 35
        },
        "id": "iy_ZjCUUto-h",
        "outputId": "b8dc5cc4-7a27-46f5-bdf9-610502f3458d"
      },
      "execution_count": 13,
      "outputs": [
        {
          "output_type": "execute_result",
          "data": {
            "text/plain": [
              "'초과: 20 km/h'"
            ],
            "application/vnd.google.colaboratory.intrinsic+json": {
              "type": "string"
            }
          },
          "metadata": {},
          "execution_count": 13
        }
      ]
    },
    {
      "cell_type": "markdown",
      "source": [
        "### 익명함수 | lambda\n",
        "- 이름이 없다.\n",
        "\n",
        "def is_speeding():\n",
        "\n",
        "return\n",
        "- def, return\n",
        "- is_speeding\n",
        "- 단순한 용도의 함수가 필요할 경우 사용\n",
        "- 잦은 사용은 권하지 않음\n",
        "- lambda x: <x를 요리할 코드>"
      ],
      "metadata": {
        "id": "3isdQXMDw8dH"
      }
    },
    {
      "cell_type": "code",
      "source": [
        "def add_one(x):\n",
        "    return x + 1\n",
        "add_one(2)"
      ],
      "metadata": {
        "colab": {
          "base_uri": "https://localhost:8080/"
        },
        "id": "jToXyAMNtPkQ",
        "outputId": "2996dad8-8bca-47ba-ad1c-8b803379ef7f"
      },
      "execution_count": null,
      "outputs": [
        {
          "output_type": "execute_result",
          "data": {
            "text/plain": [
              "<function __main__.add_one>"
            ]
          },
          "metadata": {},
          "execution_count": 37
        }
      ]
    },
    {
      "cell_type": "code",
      "source": [
        "(lambda x: x + 1)(2)"
      ],
      "metadata": {
        "colab": {
          "base_uri": "https://localhost:8080/"
        },
        "id": "eVpVNWpOxbiN",
        "outputId": "c000cf91-b2da-4a38-bd8c-674e459b35a7"
      },
      "execution_count": null,
      "outputs": [
        {
          "output_type": "execute_result",
          "data": {
            "text/plain": [
              "3"
            ]
          },
          "metadata": {},
          "execution_count": 38
        }
      ]
    },
    {
      "cell_type": "code",
      "source": [
        "f = lambda x, y: x + y\n",
        "f(3,5)"
      ],
      "metadata": {
        "colab": {
          "base_uri": "https://localhost:8080/"
        },
        "id": "yCkhPpAgxg50",
        "outputId": "ed482798-c44d-4617-b851-522e601886bb"
      },
      "execution_count": null,
      "outputs": [
        {
          "output_type": "execute_result",
          "data": {
            "text/plain": [
              "8"
            ]
          },
          "metadata": {},
          "execution_count": 39
        }
      ]
    },
    {
      "cell_type": "markdown",
      "source": [
        "# 실습\n",
        "- 단어가 들어왔을 때 첫글자 대문자로 바꾸고 단어 끝에 !를 붙이도록 람다를 만들자.\n",
        "- 예: hello => Hello!"
      ],
      "metadata": {
        "id": "zTQKq-l8xxJX"
      }
    },
    {
      "cell_type": "code",
      "source": [
        "f = lambda x: print(x.capitalize() + '!')\n",
        "f('hello')"
      ],
      "metadata": {
        "colab": {
          "base_uri": "https://localhost:8080/"
        },
        "id": "fCRnHeYPxneU",
        "outputId": "b67adbc7-bb33-4e46-fea2-91767ab1b327"
      },
      "execution_count": null,
      "outputs": [
        {
          "output_type": "stream",
          "name": "stdout",
          "text": [
            "Hello!\n"
          ]
        }
      ]
    },
    {
      "cell_type": "markdown",
      "source": [
        "#### 제너레이터\n",
        "- return -> yield\n",
        "- 시퀀스를 순회할 때 시퀀스를 생성하는 객체\n",
        "- 한 번 사용되고 사라짐 => 메모리 효율 좋음"
      ],
      "metadata": {
        "id": "a1hHfvn7ymb8"
      }
    },
    {
      "cell_type": "markdown",
      "source": [
        "### 실습\n",
        "range() 구현하기\n",
        "- 제너레이터 사용\n",
        "- def my_range(start, end, step): yield\n",
        "\n",
        "ranger = my_range(a,b,c,)"
      ],
      "metadata": {
        "id": "dNWbtB1CzIZk"
      }
    },
    {
      "cell_type": "code",
      "source": [
        "def my_range(end,start=None,step=1):\n",
        "    if start is None:\n",
        "        start = 0\n",
        "    else:\n",
        "        end, start = start , end\n",
        "    \n",
        "    i = start\n",
        "    while i < end:\n",
        "        yield i\n",
        "        i += step\n",
        "        \n",
        "ranger = my_range(0,10,2)\n",
        "for i in ranger:\n",
        "    print(i)"
      ],
      "metadata": {
        "colab": {
          "base_uri": "https://localhost:8080/"
        },
        "id": "IV0yCnpKyCmH",
        "outputId": "a89167cb-7f38-4860-9b18-a26b30b93540"
      },
      "execution_count": 14,
      "outputs": [
        {
          "output_type": "stream",
          "name": "stdout",
          "text": [
            "0\n",
            "2\n",
            "4\n",
            "6\n",
            "8\n"
          ]
        }
      ]
    },
    {
      "cell_type": "code",
      "source": [
        "ranger = my_range(0,5,1)\n",
        "for i in ranger:\n",
        "    print(i)"
      ],
      "metadata": {
        "colab": {
          "base_uri": "https://localhost:8080/"
        },
        "id": "80z_V2Qoy8R3",
        "outputId": "74398e1e-9ba1-44a6-a976-4620414f620e"
      },
      "execution_count": 15,
      "outputs": [
        {
          "output_type": "stream",
          "name": "stdout",
          "text": [
            "0\n",
            "1\n",
            "2\n",
            "3\n",
            "4\n"
          ]
        }
      ]
    },
    {
      "cell_type": "code",
      "source": [
        "ranger = (i for i in range(5))\n",
        "for i in ranger:\n",
        "    print(i)"
      ],
      "metadata": {
        "colab": {
          "base_uri": "https://localhost:8080/"
        },
        "id": "uwBko0fL5JDr",
        "outputId": "1c2c821a-485d-4673-d8f1-ce301f0bac7f"
      },
      "execution_count": 16,
      "outputs": [
        {
          "output_type": "stream",
          "name": "stdout",
          "text": [
            "0\n",
            "1\n",
            "2\n",
            "3\n",
            "4\n"
          ]
        }
      ]
    },
    {
      "cell_type": "code",
      "source": [
        "def my_range(start,end,step):\n",
        "    i = start\n",
        "    while i < end:\n",
        "        yield i\n",
        "        i += step\n",
        "range = my_range(1,5,2)\n",
        "for i in range:\n",
        "    print(i)"
      ],
      "metadata": {
        "colab": {
          "base_uri": "https://localhost:8080/"
        },
        "id": "gIn49MRC0EJ-",
        "outputId": "fbc9cfd9-58d0-47f9-a344-555b55e29ad2"
      },
      "execution_count": null,
      "outputs": [
        {
          "output_type": "stream",
          "name": "stdout",
          "text": [
            "1\n",
            "3\n"
          ]
        }
      ]
    },
    {
      "cell_type": "markdown",
      "source": [
        "#### 재귀함수\n",
        "- 너무 깊으면 예외 발생 => 주의\n",
        "- 자기 자신을 호출하는 함수\n",
        "- [[1,2,3]], [[1,1], 4, 5]] -> [1,2,3,1,1,4,5]"
      ],
      "metadata": {
        "id": "lsbSX1DV569x"
      }
    },
    {
      "cell_type": "code",
      "source": [
        "def flatten(sent):\n",
        "    for word in sent:\n",
        "        if isinstance(word, list):\n",
        "            #true\n",
        "            for sub_word in flatten(word):\n",
        "                yield sub_word\n",
        "        else:\n",
        "            #false\n",
        "            yield word\n",
        "        "
      ],
      "metadata": {
        "id": "Vx2s4CzG0qP3"
      },
      "execution_count": 17,
      "outputs": []
    },
    {
      "cell_type": "code",
      "source": [
        "a = [[1,2,3],[[[1,1]],4,5]]\n",
        "flatten(a)"
      ],
      "metadata": {
        "colab": {
          "base_uri": "https://localhost:8080/"
        },
        "id": "l7t-u4V25bzW",
        "outputId": "d4b99dea-1b3f-4c8a-d4e0-42ebad8a0145"
      },
      "execution_count": 18,
      "outputs": [
        {
          "output_type": "execute_result",
          "data": {
            "text/plain": [
              "<generator object flatten at 0x7f0ab918cd50>"
            ]
          },
          "metadata": {},
          "execution_count": 18
        }
      ]
    },
    {
      "cell_type": "code",
      "source": [
        "for i in flatten(a):\n",
        "    print(i)"
      ],
      "metadata": {
        "colab": {
          "base_uri": "https://localhost:8080/"
        },
        "id": "3nBnl50r5dX6",
        "outputId": "8f02f6ff-f94d-475a-c251-796eab63e864"
      },
      "execution_count": 19,
      "outputs": [
        {
          "output_type": "stream",
          "name": "stdout",
          "text": [
            "1\n",
            "2\n",
            "3\n",
            "1\n",
            "1\n",
            "4\n",
            "5\n"
          ]
        }
      ]
    },
    {
      "cell_type": "markdown",
      "source": [
        "### 예외 처리 | exception handling\n",
        "- 목적: 프로그램 정상 종료\n",
        "- 예외 발생 시, 사용자에게 알리고 조취 취함\n",
        "- 소프트랜딩"
      ],
      "metadata": {
        "id": "UPLFlkzP7NjH"
      }
    },
    {
      "cell_type": "code",
      "source": [
        "try:\n",
        "    #<예외 발생될 법한 코드 블럭>\n",
        "    10/0\n",
        "except ZeroDivisionError:\n",
        "    print('0으로 나눌 수 없음')"
      ],
      "metadata": {
        "colab": {
          "base_uri": "https://localhost:8080/"
        },
        "id": "uBbZNndz71oG",
        "outputId": "0a99c250-4fa8-44bb-c280-3f9f024c778e"
      },
      "execution_count": null,
      "outputs": [
        {
          "output_type": "stream",
          "name": "stdout",
          "text": [
            "0으로 나눌 수 없음\n"
          ]
        }
      ]
    },
    {
      "cell_type": "code",
      "source": [
        "for i in range(10):\n",
        "    try:\n",
        "        print(10/i)\n",
        "    except ZeroDivisionError:\n",
        "        print('error')"
      ],
      "metadata": {
        "colab": {
          "base_uri": "https://localhost:8080/",
          "height": 248
        },
        "id": "ALajg-Hj8drv",
        "outputId": "5fc7cfe2-72a1-48ae-f086-128f8a23a0f8"
      },
      "execution_count": null,
      "outputs": [
        {
          "output_type": "error",
          "ename": "TypeError",
          "evalue": "ignored",
          "traceback": [
            "\u001b[0;31m---------------------------------------------------------------------------\u001b[0m",
            "\u001b[0;31mTypeError\u001b[0m                                 Traceback (most recent call last)",
            "\u001b[0;32m<ipython-input-51-6b15b8ce1667>\u001b[0m in \u001b[0;36m<module>\u001b[0;34m()\u001b[0m\n\u001b[0;32m----> 1\u001b[0;31m \u001b[0;32mfor\u001b[0m \u001b[0mi\u001b[0m \u001b[0;32min\u001b[0m \u001b[0mrange\u001b[0m\u001b[0;34m(\u001b[0m\u001b[0;36m10\u001b[0m\u001b[0;34m)\u001b[0m\u001b[0;34m:\u001b[0m\u001b[0;34m\u001b[0m\u001b[0;34m\u001b[0m\u001b[0m\n\u001b[0m\u001b[1;32m      2\u001b[0m     \u001b[0;32mtry\u001b[0m\u001b[0;34m:\u001b[0m\u001b[0;34m\u001b[0m\u001b[0;34m\u001b[0m\u001b[0m\n\u001b[1;32m      3\u001b[0m         \u001b[0mprint\u001b[0m\u001b[0;34m(\u001b[0m\u001b[0;36m10\u001b[0m\u001b[0;34m/\u001b[0m\u001b[0mi\u001b[0m\u001b[0;34m)\u001b[0m\u001b[0;34m\u001b[0m\u001b[0;34m\u001b[0m\u001b[0m\n\u001b[1;32m      4\u001b[0m     \u001b[0;32mexcept\u001b[0m \u001b[0mZeroDivisionError\u001b[0m\u001b[0;34m:\u001b[0m\u001b[0;34m\u001b[0m\u001b[0;34m\u001b[0m\u001b[0m\n\u001b[1;32m      5\u001b[0m         \u001b[0mprint\u001b[0m\u001b[0;34m(\u001b[0m\u001b[0;34m'error'\u001b[0m\u001b[0;34m)\u001b[0m\u001b[0;34m\u001b[0m\u001b[0;34m\u001b[0m\u001b[0m\n",
            "\u001b[0;31mTypeError\u001b[0m: 'generator' object is not callable"
          ]
        }
      ]
    },
    {
      "cell_type": "code",
      "source": [
        "word = 'hello'\n",
        "while True:\n",
        "    index = input('인덱스를 입력하세요> ')\n",
        "    if index == 'q':\n",
        "        break\n",
        "    try:\n",
        "        print(word[int(index)])\n",
        "    except IndexError as e1:\n",
        "        print('index error')\n",
        "        print(e1)\n",
        "    except ValueError as e2:\n",
        "        print('type error')\n",
        "        print(e2)"
      ],
      "metadata": {
        "colab": {
          "base_uri": "https://localhost:8080/"
        },
        "id": "RAjPDQuu8nRb",
        "outputId": "637d22ff-9a1e-41c2-93e2-a9ab764ab3c2"
      },
      "execution_count": null,
      "outputs": [
        {
          "name": "stdout",
          "output_type": "stream",
          "text": [
            "인덱스를 입력하세요> 8\n",
            "index error\n",
            "string index out of range\n",
            "인덱스를 입력하세요> ddd\n",
            "type error\n",
            "invalid literal for int() with base 10: 'ddd'\n",
            "인덱스를 입력하세요> 1\n",
            "e\n",
            "인덱스를 입력하세요> q\n"
          ]
        }
      ]
    },
    {
      "cell_type": "markdown",
      "source": [
        "#### 2. 예외 발생시키기\n",
        "\n",
        "프로그램을 강제 종료하고자 할 때 사용함\n",
        "- raise: 예외 발생시키기\n",
        "- assert: 예외 체크"
      ],
      "metadata": {
        "id": "eVs8Hitz9pFj"
      }
    },
    {
      "cell_type": "code",
      "source": [
        "raise ValueError('print ...')"
      ],
      "metadata": {
        "id": "Pbt8a_Tb9yfV"
      },
      "execution_count": null,
      "outputs": []
    },
    {
      "cell_type": "code",
      "source": [
        "while True:\n",
        "    num = input('number>> ')\n",
        "    if not num.isdigit():\n",
        "        raise ValueError('숫자가 아닙니다.')\n",
        "    else:\n",
        "        print(num)\n",
        "        break\n"
      ],
      "metadata": {
        "colab": {
          "base_uri": "https://localhost:8080/",
          "height": 266
        },
        "id": "9RmuASY898at",
        "outputId": "90e857a6-76c1-4020-92f8-f9767a221c41"
      },
      "execution_count": null,
      "outputs": [
        {
          "name": "stdout",
          "output_type": "stream",
          "text": [
            "number>> dd\n"
          ]
        },
        {
          "output_type": "error",
          "ename": "ValueError",
          "evalue": "ignored",
          "traceback": [
            "\u001b[0;31m---------------------------------------------------------------------------\u001b[0m",
            "\u001b[0;31mValueError\u001b[0m                                Traceback (most recent call last)",
            "\u001b[0;32m<ipython-input-53-266341c1cbb2>\u001b[0m in \u001b[0;36m<module>\u001b[0;34m()\u001b[0m\n\u001b[1;32m      2\u001b[0m     \u001b[0mnum\u001b[0m \u001b[0;34m=\u001b[0m \u001b[0minput\u001b[0m\u001b[0;34m(\u001b[0m\u001b[0;34m'number>> '\u001b[0m\u001b[0;34m)\u001b[0m\u001b[0;34m\u001b[0m\u001b[0;34m\u001b[0m\u001b[0m\n\u001b[1;32m      3\u001b[0m     \u001b[0;32mif\u001b[0m \u001b[0;32mnot\u001b[0m \u001b[0mnum\u001b[0m\u001b[0;34m.\u001b[0m\u001b[0misdigit\u001b[0m\u001b[0;34m(\u001b[0m\u001b[0;34m)\u001b[0m\u001b[0;34m:\u001b[0m\u001b[0;34m\u001b[0m\u001b[0;34m\u001b[0m\u001b[0m\n\u001b[0;32m----> 4\u001b[0;31m         \u001b[0;32mraise\u001b[0m \u001b[0mValueError\u001b[0m\u001b[0;34m(\u001b[0m\u001b[0;34m'숫자가 아닙니다.'\u001b[0m\u001b[0;34m)\u001b[0m\u001b[0;34m\u001b[0m\u001b[0;34m\u001b[0m\u001b[0m\n\u001b[0m\u001b[1;32m      5\u001b[0m     \u001b[0;32melse\u001b[0m\u001b[0;34m:\u001b[0m\u001b[0;34m\u001b[0m\u001b[0;34m\u001b[0m\u001b[0m\n\u001b[1;32m      6\u001b[0m         \u001b[0mprint\u001b[0m\u001b[0;34m(\u001b[0m\u001b[0mnum\u001b[0m\u001b[0;34m)\u001b[0m\u001b[0;34m\u001b[0m\u001b[0;34m\u001b[0m\u001b[0m\n",
            "\u001b[0;31mValueError\u001b[0m: 숫자가 아닙니다."
          ]
        }
      ]
    },
    {
      "cell_type": "code",
      "source": [
        "assert <참인 조건>, '예외 메시지'"
      ],
      "metadata": {
        "id": "L2qbfOeO-NTg"
      },
      "execution_count": null,
      "outputs": []
    },
    {
      "cell_type": "code",
      "source": [
        "def get_binary(num):\n",
        "    assert isinstance(num, int), '정수 아님'\n",
        "    return bin(num)\n",
        "\n",
        "get_binary('ee')"
      ],
      "metadata": {
        "colab": {
          "base_uri": "https://localhost:8080/",
          "height": 339
        },
        "id": "_O1dxU6K-nYn",
        "outputId": "dcb48bf0-f730-41c3-b836-05a34bd5d283"
      },
      "execution_count": null,
      "outputs": [
        {
          "output_type": "error",
          "ename": "AssertionError",
          "evalue": "ignored",
          "traceback": [
            "\u001b[0;31m---------------------------------------------------------------------------\u001b[0m",
            "\u001b[0;31mAssertionError\u001b[0m                            Traceback (most recent call last)",
            "\u001b[0;32m<ipython-input-55-d6d90b4f91c5>\u001b[0m in \u001b[0;36m<module>\u001b[0;34m()\u001b[0m\n\u001b[1;32m      3\u001b[0m     \u001b[0;32mreturn\u001b[0m \u001b[0mbin\u001b[0m\u001b[0;34m(\u001b[0m\u001b[0mnum\u001b[0m\u001b[0;34m)\u001b[0m\u001b[0;34m\u001b[0m\u001b[0;34m\u001b[0m\u001b[0m\n\u001b[1;32m      4\u001b[0m \u001b[0;34m\u001b[0m\u001b[0m\n\u001b[0;32m----> 5\u001b[0;31m \u001b[0mget_binary\u001b[0m\u001b[0;34m(\u001b[0m\u001b[0;34m'ee'\u001b[0m\u001b[0;34m)\u001b[0m\u001b[0;34m\u001b[0m\u001b[0;34m\u001b[0m\u001b[0m\n\u001b[0m",
            "\u001b[0;32m<ipython-input-55-d6d90b4f91c5>\u001b[0m in \u001b[0;36mget_binary\u001b[0;34m(num)\u001b[0m\n\u001b[1;32m      1\u001b[0m \u001b[0;32mdef\u001b[0m \u001b[0mget_binary\u001b[0m\u001b[0;34m(\u001b[0m\u001b[0mnum\u001b[0m\u001b[0;34m)\u001b[0m\u001b[0;34m:\u001b[0m\u001b[0;34m\u001b[0m\u001b[0;34m\u001b[0m\u001b[0m\n\u001b[0;32m----> 2\u001b[0;31m     \u001b[0;32massert\u001b[0m \u001b[0misinstance\u001b[0m\u001b[0;34m(\u001b[0m\u001b[0mnum\u001b[0m\u001b[0;34m,\u001b[0m \u001b[0mint\u001b[0m\u001b[0;34m)\u001b[0m\u001b[0;34m,\u001b[0m \u001b[0;34m'정수 아님'\u001b[0m\u001b[0;34m\u001b[0m\u001b[0;34m\u001b[0m\u001b[0m\n\u001b[0m\u001b[1;32m      3\u001b[0m     \u001b[0;32mreturn\u001b[0m \u001b[0mbin\u001b[0m\u001b[0;34m(\u001b[0m\u001b[0mnum\u001b[0m\u001b[0;34m)\u001b[0m\u001b[0;34m\u001b[0m\u001b[0;34m\u001b[0m\u001b[0m\n\u001b[1;32m      4\u001b[0m \u001b[0;34m\u001b[0m\u001b[0m\n\u001b[1;32m      5\u001b[0m \u001b[0mget_binary\u001b[0m\u001b[0;34m(\u001b[0m\u001b[0;34m'ee'\u001b[0m\u001b[0;34m)\u001b[0m\u001b[0;34m\u001b[0m\u001b[0;34m\u001b[0m\u001b[0m\n",
            "\u001b[0;31mAssertionError\u001b[0m: 정수 아님"
          ]
        }
      ]
    },
    {
      "cell_type": "markdown",
      "source": [
        "#### 예외 정의하기\n",
        "- 사용자 정의 예외\n",
        "- exception이라는 부모클래스를 상속받는다."
      ],
      "metadata": {
        "id": "4P16xljf--1j"
      }
    },
    {
      "cell_type": "code",
      "source": [
        "class MyExeption(Exception):\n",
        "    pass"
      ],
      "metadata": {
        "id": "41_58juN-62N"
      },
      "execution_count": 21,
      "outputs": []
    },
    {
      "cell_type": "code",
      "source": [
        "for word in ['a','b','C']:\n",
        "    if word.isupper():\n",
        "        raise MyException('대문자 ㄴㄴ')\n",
        "    else:\n",
        "        print(word)"
      ],
      "metadata": {
        "id": "lT01y8g1_N1l",
        "colab": {
          "base_uri": "https://localhost:8080/",
          "height": 284
        },
        "outputId": "c03caab1-2806-4c3d-eb87-c4e37b066bb8"
      },
      "execution_count": 22,
      "outputs": [
        {
          "output_type": "stream",
          "name": "stdout",
          "text": [
            "a\n",
            "b\n"
          ]
        },
        {
          "output_type": "error",
          "ename": "NameError",
          "evalue": "ignored",
          "traceback": [
            "\u001b[0;31m---------------------------------------------------------------------------\u001b[0m",
            "\u001b[0;31mNameError\u001b[0m                                 Traceback (most recent call last)",
            "\u001b[0;32m<ipython-input-22-38e4095c61c7>\u001b[0m in \u001b[0;36m<module>\u001b[0;34m()\u001b[0m\n\u001b[1;32m      1\u001b[0m \u001b[0;32mfor\u001b[0m \u001b[0mword\u001b[0m \u001b[0;32min\u001b[0m \u001b[0;34m[\u001b[0m\u001b[0;34m'a'\u001b[0m\u001b[0;34m,\u001b[0m\u001b[0;34m'b'\u001b[0m\u001b[0;34m,\u001b[0m\u001b[0;34m'C'\u001b[0m\u001b[0;34m]\u001b[0m\u001b[0;34m:\u001b[0m\u001b[0;34m\u001b[0m\u001b[0;34m\u001b[0m\u001b[0m\n\u001b[1;32m      2\u001b[0m     \u001b[0;32mif\u001b[0m \u001b[0mword\u001b[0m\u001b[0;34m.\u001b[0m\u001b[0misupper\u001b[0m\u001b[0;34m(\u001b[0m\u001b[0;34m)\u001b[0m\u001b[0;34m:\u001b[0m\u001b[0;34m\u001b[0m\u001b[0;34m\u001b[0m\u001b[0m\n\u001b[0;32m----> 3\u001b[0;31m         \u001b[0;32mraise\u001b[0m \u001b[0mMyException\u001b[0m\u001b[0;34m(\u001b[0m\u001b[0;34m'대문자 ㄴㄴ'\u001b[0m\u001b[0;34m)\u001b[0m\u001b[0;34m\u001b[0m\u001b[0;34m\u001b[0m\u001b[0m\n\u001b[0m\u001b[1;32m      4\u001b[0m     \u001b[0;32melse\u001b[0m\u001b[0;34m:\u001b[0m\u001b[0;34m\u001b[0m\u001b[0;34m\u001b[0m\u001b[0m\n\u001b[1;32m      5\u001b[0m         \u001b[0mprint\u001b[0m\u001b[0;34m(\u001b[0m\u001b[0mword\u001b[0m\u001b[0;34m)\u001b[0m\u001b[0;34m\u001b[0m\u001b[0;34m\u001b[0m\u001b[0m\n",
            "\u001b[0;31mNameError\u001b[0m: name 'MyException' is not defined"
          ]
        }
      ]
    },
    {
      "cell_type": "code",
      "source": [
        "# 2. \n",
        "\n",
        "class UppercaseException(Exception):\n",
        "    def __init__(self):\n",
        "        super().__init__('대문자 안된다고')\n",
        "\n",
        "for word in ['a','b','C']:\n",
        "    if word.isupper():\n",
        "        raise UppercaseException\n",
        "    else:\n",
        "        print(word)"
      ],
      "metadata": {
        "colab": {
          "base_uri": "https://localhost:8080/",
          "height": 284
        },
        "id": "nntCzgmJ568w",
        "outputId": "26d8702b-6db5-4a24-f4af-28e70e57e0ae"
      },
      "execution_count": 23,
      "outputs": [
        {
          "output_type": "stream",
          "name": "stdout",
          "text": [
            "a\n",
            "b\n"
          ]
        },
        {
          "output_type": "error",
          "ename": "UppercaseException",
          "evalue": "ignored",
          "traceback": [
            "\u001b[0;31m---------------------------------------------------------------------------\u001b[0m",
            "\u001b[0;31mUppercaseException\u001b[0m                        Traceback (most recent call last)",
            "\u001b[0;32m<ipython-input-23-81231a3c3c50>\u001b[0m in \u001b[0;36m<module>\u001b[0;34m()\u001b[0m\n\u001b[1;32m      7\u001b[0m \u001b[0;32mfor\u001b[0m \u001b[0mword\u001b[0m \u001b[0;32min\u001b[0m \u001b[0;34m[\u001b[0m\u001b[0;34m'a'\u001b[0m\u001b[0;34m,\u001b[0m\u001b[0;34m'b'\u001b[0m\u001b[0;34m,\u001b[0m\u001b[0;34m'C'\u001b[0m\u001b[0;34m]\u001b[0m\u001b[0;34m:\u001b[0m\u001b[0;34m\u001b[0m\u001b[0;34m\u001b[0m\u001b[0m\n\u001b[1;32m      8\u001b[0m     \u001b[0;32mif\u001b[0m \u001b[0mword\u001b[0m\u001b[0;34m.\u001b[0m\u001b[0misupper\u001b[0m\u001b[0;34m(\u001b[0m\u001b[0;34m)\u001b[0m\u001b[0;34m:\u001b[0m\u001b[0;34m\u001b[0m\u001b[0;34m\u001b[0m\u001b[0m\n\u001b[0;32m----> 9\u001b[0;31m         \u001b[0;32mraise\u001b[0m \u001b[0mUppercaseException\u001b[0m\u001b[0;34m\u001b[0m\u001b[0;34m\u001b[0m\u001b[0m\n\u001b[0m\u001b[1;32m     10\u001b[0m     \u001b[0;32melse\u001b[0m\u001b[0;34m:\u001b[0m\u001b[0;34m\u001b[0m\u001b[0;34m\u001b[0m\u001b[0m\n\u001b[1;32m     11\u001b[0m         \u001b[0mprint\u001b[0m\u001b[0;34m(\u001b[0m\u001b[0mword\u001b[0m\u001b[0;34m)\u001b[0m\u001b[0;34m\u001b[0m\u001b[0;34m\u001b[0m\u001b[0m\n",
            "\u001b[0;31mUppercaseException\u001b[0m: 대문자 안된다고"
          ]
        }
      ]
    }
  ]
}