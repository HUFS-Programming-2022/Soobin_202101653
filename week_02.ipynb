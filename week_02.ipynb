{
  "nbformat": 4,
  "nbformat_minor": 0,
  "metadata": {
    "colab": {
      "name": "week_02.ipynb",
      "provenance": [],
      "collapsed_sections": []
    },
    "kernelspec": {
      "name": "python3",
      "display_name": "Python 3"
    },
    "language_info": {
      "name": "python"
    }
  },
  "cells": [
    {
      "cell_type": "markdown",
      "source": [
        "#Ch.2 Variable"
      ],
      "metadata": {
        "id": "5HC-Xgshy0BY"
      }
    },
    {
      "cell_type": "code",
      "source": [
        "#여러개를 동시에 할당 가능\n",
        "two = deux = dos = 2 #순서는 역순으로 도스 듀트 투 순서로 할당\n",
        "two"
      ],
      "metadata": {
        "colab": {
          "base_uri": "https://localhost:8080/"
        },
        "id": "0WqNia6lzAar",
        "outputId": "e8ce127f-c40a-4bb5-c8de-fb43a63da47a"
      },
      "execution_count": null,
      "outputs": [
        {
          "output_type": "execute_result",
          "data": {
            "text/plain": [
              "2"
            ]
          },
          "metadata": {},
          "execution_count": 1
        }
      ]
    },
    {
      "cell_type": "code",
      "source": [
        "id(two), id(deux)"
      ],
      "metadata": {
        "colab": {
          "base_uri": "https://localhost:8080/"
        },
        "id": "dN2O01EgzP9w",
        "outputId": "4fbb651c-fa9e-4bf0-c0aa-33d89dfb7c6c"
      },
      "execution_count": null,
      "outputs": [
        {
          "output_type": "execute_result",
          "data": {
            "text/plain": [
              "(94503230974496, 94503230974496)"
            ]
          },
          "metadata": {},
          "execution_count": 2
        }
      ]
    },
    {
      "cell_type": "code",
      "source": [
        "# int는 불변객체임 two를 바꿔도 deux dos는 변하지 않음\n",
        "#id도 바뀜\n",
        "\n",
        "two = 4\n",
        "print(two, deux, dos)\n",
        "id(two), id(deux), id(dos)"
      ],
      "metadata": {
        "colab": {
          "base_uri": "https://localhost:8080/"
        },
        "id": "xy7ZFXgZzY9Q",
        "outputId": "2ffaf7f5-dded-47f0-aeb5-ad5215239939"
      },
      "execution_count": null,
      "outputs": [
        {
          "output_type": "stream",
          "name": "stdout",
          "text": [
            "4 2 2\n"
          ]
        },
        {
          "output_type": "execute_result",
          "data": {
            "text/plain": [
              "(94503230974560, 94503230974496, 94503230974496)"
            ]
          },
          "metadata": {},
          "execution_count": 4
        }
      ]
    },
    {
      "cell_type": "code",
      "source": [
        "#반면 리스트는 가변객체임 요소값을 바꾸면 같이 바뀐다\n",
        "\n",
        "p = [1,2,3]\n",
        "q = p\n",
        "p, q"
      ],
      "metadata": {
        "colab": {
          "base_uri": "https://localhost:8080/"
        },
        "id": "5jqA4Askz2rQ",
        "outputId": "99f25fc3-69f2-4822-f545-3c4889f652c6"
      },
      "execution_count": null,
      "outputs": [
        {
          "output_type": "execute_result",
          "data": {
            "text/plain": [
              "([1, 2, 3], [1, 2, 3])"
            ]
          },
          "metadata": {},
          "execution_count": 5
        }
      ]
    },
    {
      "cell_type": "code",
      "source": [
        "p[0] = 9\n",
        "print(p, q)\n",
        "id(p), id(q)"
      ],
      "metadata": {
        "colab": {
          "base_uri": "https://localhost:8080/"
        },
        "id": "Zr28cNny0A-I",
        "outputId": "afd340a5-4404-4e40-d452-4e7cf87dc609"
      },
      "execution_count": null,
      "outputs": [
        {
          "output_type": "stream",
          "name": "stdout",
          "text": [
            "[9, 2, 3] [9, 2, 3]\n"
          ]
        },
        {
          "output_type": "execute_result",
          "data": {
            "text/plain": [
              "(140473727097424, 140473727097424)"
            ]
          },
          "metadata": {},
          "execution_count": 6
        }
      ]
    },
    {
      "cell_type": "markdown",
      "source": [
        "##좋은 변수명\n",
        "- 간결하고 명확한 이름\n",
        "- 의미 있는 이름\n",
        "- 코드에는 의미 주석에는 의도를\n",
        "  - the number of student<the_number_of_student<num_students\n",
        "  - 카멜표기법: numStudent (자바에서 주로 사용)"
      ],
      "metadata": {
        "id": "BIURsgJl0Oni"
      }
    },
    {
      "cell_type": "markdown",
      "source": [
        "## 자료형 변환\n",
        "\n",
        "- float에서 int로 바꾸면 소수점 절삭 됨\n",
        "- str 에서 int나 float로 바꿀때는 주의( ex)str 10.7을 int로 바꾸는 것은 안됨)"
      ],
      "metadata": {
        "id": "xoB0OD6fIVYU"
      }
    },
    {
      "cell_type": "code",
      "source": [
        "a = 10\n",
        "type(a)"
      ],
      "metadata": {
        "colab": {
          "base_uri": "https://localhost:8080/"
        },
        "id": "9JXL7DOgIU40",
        "outputId": "97d0969a-efed-4f40-ae0b-6f9922f54e42"
      },
      "execution_count": null,
      "outputs": [
        {
          "output_type": "execute_result",
          "data": {
            "text/plain": [
              "int"
            ]
          },
          "metadata": {},
          "execution_count": 29
        }
      ]
    },
    {
      "cell_type": "code",
      "source": [
        "float(a)"
      ],
      "metadata": {
        "colab": {
          "base_uri": "https://localhost:8080/"
        },
        "id": "-83YY23NInuk",
        "outputId": "2692b6de-4492-448f-f164-ce9e2020b9ea"
      },
      "execution_count": null,
      "outputs": [
        {
          "output_type": "execute_result",
          "data": {
            "text/plain": [
              "10.0"
            ]
          },
          "metadata": {},
          "execution_count": 30
        }
      ]
    },
    {
      "cell_type": "code",
      "source": [
        "str(a)"
      ],
      "metadata": {
        "colab": {
          "base_uri": "https://localhost:8080/",
          "height": 35
        },
        "id": "OY842fSWIptI",
        "outputId": "6b2614fa-319b-4101-d848-f2768b7f9990"
      },
      "execution_count": null,
      "outputs": [
        {
          "output_type": "execute_result",
          "data": {
            "application/vnd.google.colaboratory.intrinsic+json": {
              "type": "string"
            },
            "text/plain": [
              "'10'"
            ]
          },
          "metadata": {},
          "execution_count": 31
        }
      ]
    },
    {
      "cell_type": "code",
      "source": [
        "x = 15.5\n",
        "int(x)"
      ],
      "metadata": {
        "colab": {
          "base_uri": "https://localhost:8080/"
        },
        "id": "257geHZb3aBF",
        "outputId": "d0744ade-53bd-4435-e1f6-043bbb48ea9b"
      },
      "execution_count": null,
      "outputs": [
        {
          "output_type": "execute_result",
          "data": {
            "text/plain": [
              "15"
            ]
          },
          "metadata": {},
          "execution_count": 7
        }
      ]
    },
    {
      "cell_type": "code",
      "source": [
        "y = 17.8\n",
        "\n",
        "print(int(x + y))\n",
        "print(int(x) + int(y)) #두 식의 값이 절삭 때문에 달라짐"
      ],
      "metadata": {
        "colab": {
          "base_uri": "https://localhost:8080/"
        },
        "id": "jbGNGUoh3fWu",
        "outputId": "36eda429-3a19-40f2-ccbe-09e6d4f7ed92"
      },
      "execution_count": null,
      "outputs": [
        {
          "output_type": "stream",
          "name": "stdout",
          "text": [
            "33\n",
            "32\n"
          ]
        }
      ]
    },
    {
      "cell_type": "code",
      "source": [
        "bool(10)\n",
        "#bool은 false가 더 적어서 나중에 false인 경우를 보면 됨"
      ],
      "metadata": {
        "colab": {
          "base_uri": "https://localhost:8080/"
        },
        "id": "EGo2lWSYIr62",
        "outputId": "eb5db8d7-9451-47ea-a458-e712057279d7"
      },
      "execution_count": null,
      "outputs": [
        {
          "output_type": "execute_result",
          "data": {
            "text/plain": [
              "True"
            ]
          },
          "metadata": {},
          "execution_count": 33
        }
      ]
    },
    {
      "cell_type": "markdown",
      "source": [
        "###print() 꿀팁"
      ],
      "metadata": {
        "id": "R7rPzBbU4FRh"
      }
    },
    {
      "cell_type": "code",
      "source": [
        "dog = 'dog'\n",
        "cat = 'cat'\n",
        "lion = 'lion'\n",
        "\n",
        "print(dog + cat + lion) #space X, \\n\n",
        "print(dog, cat, lion) #space 0, \\n"
      ],
      "metadata": {
        "id": "mSWPiPvOkHWi",
        "colab": {
          "base_uri": "https://localhost:8080/"
        },
        "outputId": "7aed8d09-8e22-43ba-c2e3-b43ea794d9a9"
      },
      "execution_count": null,
      "outputs": [
        {
          "output_type": "stream",
          "name": "stdout",
          "text": [
            "dogcatlion\n",
            "dog cat lion\n"
          ]
        }
      ]
    },
    {
      "cell_type": "code",
      "source": [
        "print(dog, cat, lion, sep=' ', end='\\n')\n",
        "print(dog, cat, lion, sep='/', end='\\n\\n')\n",
        "print('EOL')"
      ],
      "metadata": {
        "id": "z9pWwLe7kODw"
      },
      "execution_count": null,
      "outputs": []
    },
    {
      "cell_type": "markdown",
      "source": [
        "###문자열 포매팅"
      ],
      "metadata": {
        "id": "0TSgTaql47G7"
      }
    },
    {
      "cell_type": "code",
      "source": [
        "print(\"My favorite animal is\", dog)\n",
        "\n",
        "print(f'My favorite animal is {dog}')"
      ],
      "metadata": {
        "colab": {
          "base_uri": "https://localhost:8080/"
        },
        "id": "GhfXQBf-46Do",
        "outputId": "2faae182-ba10-40b2-97b3-2dff8acd791a"
      },
      "execution_count": null,
      "outputs": [
        {
          "output_type": "stream",
          "name": "stdout",
          "text": [
            "My favorite animal is dog\n",
            "My favorite animal is dog\n"
          ]
        }
      ]
    },
    {
      "cell_type": "code",
      "source": [
        "# 코드 줄이 짧을 때 ;세미콜론으로 한줄로 쓸 수 있다\n",
        "dog = 'dog' ; cat = 'cat'"
      ],
      "metadata": {
        "id": "DGJ0F1ZL4dn7"
      },
      "execution_count": null,
      "outputs": []
    },
    {
      "cell_type": "markdown",
      "source": [
        "##input() 함수\n",
        "\n",
        "- console에서 사용자가 입력하는 값을 받을 수 있는 함수\n",
        "- 입력 받는 값은 문자열로 인식된다\n",
        "- 입력 받는 값을 변수에 담아서 사용한다(안그러면 사라짐)\n",
        "- 숫자일 경우에는 형 변환 필요(기본은 str)"
      ],
      "metadata": {
        "id": "p69OoXJY5UHs"
      }
    },
    {
      "cell_type": "code",
      "source": [
        "hi = input('Hello?')"
      ],
      "metadata": {
        "colab": {
          "base_uri": "https://localhost:8080/"
        },
        "id": "u4B_2DnI5uYG",
        "outputId": "a75c0b19-9d27-4a04-86da-b20a1569a673"
      },
      "execution_count": null,
      "outputs": [
        {
          "name": "stdout",
          "output_type": "stream",
          "text": [
            "Hello?hi\n"
          ]
        }
      ]
    },
    {
      "cell_type": "code",
      "source": [
        "age = int(input('나이가 어떻게 되나요?'))\n",
        "\n",
        "print('age')"
      ],
      "metadata": {
        "colab": {
          "base_uri": "https://localhost:8080/"
        },
        "id": "dhT6msXI566q",
        "outputId": "10ff74cc-cf11-4d54-8108-bab5182a821e"
      },
      "execution_count": null,
      "outputs": [
        {
          "output_type": "stream",
          "name": "stdout",
          "text": [
            "나이가 어떻게 되나요?22\n",
            "age\n"
          ]
        }
      ]
    },
    {
      "cell_type": "markdown",
      "source": [
        "##Quiz 1.\n",
        "- 섭씨를 입력 받아서 화씨로 변환하기\n",
        "- \"섭씨 * 1.8 + 32 = 화씨\""
      ],
      "metadata": {
        "id": "JHX6DZE36SR_"
      }
    },
    {
      "cell_type": "code",
      "execution_count": null,
      "metadata": {
        "colab": {
          "base_uri": "https://localhost:8080/"
        },
        "id": "zh9Cy0lJFNZj",
        "outputId": "f4c8fd2c-76e8-45cf-80dd-0024a7397665"
      },
      "outputs": [
        {
          "output_type": "stream",
          "name": "stdout",
          "text": [
            "섭씨 온도를 입력하세요:14\n",
            "화씨 온도는 57.2입니다.\n"
          ]
        }
      ],
      "source": [
        "\n",
        "Ctemp = float(input(\"섭씨 온도를 입력하세요:\"))\n",
        "Ftemp = Ctemp * 1.8 + 32\n",
        "float(Ftemp)\n",
        "print(f'화씨 온도는 {Ftemp}입니다.')"
      ]
    },
    {
      "cell_type": "markdown",
      "source": [
        "##Quiz 2.\n",
        "- 택배 정보 입력 받고, 총 합계 계산하기\n",
        "- 출력값: -\"==택배 정보==\"\n",
        "  - 수취인 성명:\n",
        "  - 수취인 주소:\n",
        "  - 배송비: 3000원\n",
        "  - 물건 비용: 원\n",
        "  - 총 합계: 원\n",
        "- 물건 비용: 무게(g) * 5\n",
        "- 합계 = 배송비 + 물건 비용"
      ],
      "metadata": {
        "id": "boGHMx0j6bVg"
      }
    },
    {
      "cell_type": "code",
      "source": [
        "name = input('수취인 성명: ')\n",
        "address = input('수취인 주소: ')\n",
        "weight = int(input('물건 무게: '))\n",
        "fee = 3000\n",
        "print()\n",
        "print('==택배 정보==')\n",
        "print(f'수취인 성명: {name}')\n",
        "print(f'수취인 주소: {address}')\n",
        "print(f'배송비: {fee}원')\n",
        "print(f'물건 비용: {weight * 5}원')\n",
        "print(f'총합계: {weight * 5 + fee}원')\n",
        "print()\n",
        "print('물건 비용 = 무게(g) * 5')\n",
        "print('합계 = 배송비 + 물건 비용')"
      ],
      "metadata": {
        "colab": {
          "base_uri": "https://localhost:8080/"
        },
        "id": "KBBxIiofFSxU",
        "outputId": "ed38a17a-a61f-4153-d478-d19acd461f21"
      },
      "execution_count": null,
      "outputs": [
        {
          "output_type": "stream",
          "name": "stdout",
          "text": [
            "수취인 성명: 배수빈\n",
            "수취인 주소: 역삼로 000\n",
            "물건 무게: 250\n",
            "\n",
            "==택배 정보==\n",
            "수취인 성명: 배수빈\n",
            "수취인 주소: 역삼로 000\n",
            "배송비: 3000원\n",
            "물건 비용: 1250원\n",
            "총합계: 4250원\n",
            "\n",
            "물건 비용 = 무게(g) * 5\n",
            "합계 = 배송비 + 물건 비용\n"
          ]
        }
      ]
    },
    {
      "cell_type": "markdown",
      "source": [
        "#Ch03. Numbers\n",
        "\n",
        "###boolean\n",
        "- 형 변환 시 True, False 기억\n",
        "  - '',None,0,...\n",
        "- 조건식에서 많이 씀"
      ],
      "metadata": {
        "id": "fxER9QtH61Eh"
      }
    },
    {
      "cell_type": "markdown",
      "source": [
        "### integer\n",
        "- 소수점 없음\n",
        "- default 양수, 음수는 앞에 -를 붙인다.\n",
        "- 숫자 앞에는 0을 붙일 수 없다. 예: 05\n",
        "--예외 적으로 0bxxx, => 다른 진수 표현법\n",
        "- 리터럴: 4 \n",
        "- 공백이 너무 많아도 무시가 된다.\n",
        "- 100000원 -> 100000원 두개로 인식\n"
      ],
      "metadata": {
        "id": "KIz-HNmCQM0v"
      }
    },
    {
      "cell_type": "markdown",
      "source": [
        "###연산\n",
        "- 연산자|operator:+,-..\n",
        "- 피연산자|operandor:4,5..\n",
        "- 수식|expression\n",
        "\n",
        "- 거듭제곱 **\n",
        "- 나눗셈 할때 0으로 나누지 않게 주의!"
      ],
      "metadata": {
        "id": "KrLhtbk9Q3h5"
      }
    },
    {
      "cell_type": "markdown",
      "source": [
        "###복합 대입연산자|compound assignment operator\n"
      ],
      "metadata": {
        "id": "5hPh6Au6RKvg"
      }
    },
    {
      "cell_type": "code",
      "source": [
        "a = 5\n",
        "a = a -3 \n",
        "#1. a-3 계산\n",
        "#2, 임시변수 temp = a-3\n",
        "#3. a = a - 3\n",
        "\n",
        "a-=3"
      ],
      "metadata": {
        "id": "-xKb1DgkRJ59"
      },
      "execution_count": null,
      "outputs": []
    },
    {
      "cell_type": "code",
      "source": [
        "a += 3\n",
        "a -= 3\n",
        "a *= 3\n",
        "a /= 3\n"
      ],
      "metadata": {
        "id": "Ym2yf7X_R3Yj"
      },
      "execution_count": null,
      "outputs": []
    },
    {
      "cell_type": "markdown",
      "source": [
        "##Quiz 1.\n",
        "- 정수를 입력 받고 3의 배수인지 확인하세요.\n",
        "- = 홀수인지 확인하세요."
      ],
      "metadata": {
        "id": "30zyyz35SMYc"
      }
    },
    {
      "cell_type": "code",
      "source": [
        "number = int(input('정수를 입력하세요:'))\n",
        "print(number % 3 == 0)\n",
        "print(number % 2 == 0)"
      ],
      "metadata": {
        "colab": {
          "base_uri": "https://localhost:8080/"
        },
        "id": "gtop6pzYSKjh",
        "outputId": "098ebdde-01dc-4ed7-d530-715aa22106fd"
      },
      "execution_count": null,
      "outputs": [
        {
          "output_type": "stream",
          "name": "stdout",
          "text": [
            "정수를 입력하세요:10\n",
            "False\n",
            "True\n"
          ]
        }
      ]
    },
    {
      "cell_type": "markdown",
      "source": [
        "###지수 표현 \n",
        "- e,E 둘다 가능하다\n",
        "- 앞부분은 float,int\n",
        "- 뒷부분은 int만 온다.\n",
        "- 양수면 0 앞으로 음수면 0 뒤로(소수점)"
      ],
      "metadata": {
        "id": "16HXsd9yU5h3"
      }
    },
    {
      "cell_type": "code",
      "source": [
        "print(789.0e-6)"
      ],
      "metadata": {
        "colab": {
          "base_uri": "https://localhost:8080/"
        },
        "id": "6BDj2IF9TkPY",
        "outputId": "1931a033-61d2-48f8-e435-f59971e0eec8"
      },
      "execution_count": null,
      "outputs": [
        {
          "output_type": "stream",
          "name": "stdout",
          "text": [
            "0.000789\n"
          ]
        }
      ]
    },
    {
      "cell_type": "markdown",
      "source": [
        "###조건문, if\n",
        "- 주석 다는 법\n",
        "  - 설명하는 부분\n",
        "  - 목적: 의도를 표현한다.\n",
        "  - '#' hash, sharp\n",
        "  - 시작된 부분부터 그 라인에 끝까지가 주석\n",
        "  - 문자열 안에 들어있는 해시는 문자열로 인식\n",
        "  -\"\"\"<주석>\"\"\"\n",
        "\n",
        "- 라인 유지하기\n",
        "  - 들여쓰기, 공백 4개, 탭 1개\n",
        "  - 한 줄에 최대 80자 넘지 않게\n",
        "  - 백슬래시로 끊어준다\n"
      ],
      "metadata": {
        "id": "GsRlvxGsV0d0"
      }
    },
    {
      "cell_type": "code",
      "source": [
        "example = 'hey ###'\n",
        "print(example)\n",
        "\n",
        "\"\"\"\n",
        "주석1\n",
        "주석2\n",
        "주석3\n",
        "\"\"\"\n",
        "\n"
      ],
      "metadata": {
        "colab": {
          "base_uri": "https://localhost:8080/",
          "height": 54
        },
        "id": "Z4j4LuC8WUNV",
        "outputId": "784b8a42-d1a0-4466-a606-f8513ab05a7a"
      },
      "execution_count": null,
      "outputs": [
        {
          "output_type": "stream",
          "name": "stdout",
          "text": [
            "hey ###\n"
          ]
        },
        {
          "output_type": "execute_result",
          "data": {
            "application/vnd.google.colaboratory.intrinsic+json": {
              "type": "string"
            },
            "text/plain": [
              "'\\n주석1\\n주석2\\n주석3\\n'"
            ]
          },
          "metadata": {},
          "execution_count": 20
        }
      ]
    },
    {
      "cell_type": "markdown",
      "source": [
        "- 조건 1개\n",
        "\n",
        "if <조건식>:\n",
        "\n",
        "  \n",
        "     <실행할 코드>"
      ],
      "metadata": {
        "id": "6rBVj4t9XPVx"
      }
    },
    {
      "cell_type": "code",
      "source": [
        "if 4 != 9:\n",
        "  print('yeah!')"
      ],
      "metadata": {
        "colab": {
          "base_uri": "https://localhost:8080/"
        },
        "id": "l8DXbJ5cXHOh",
        "outputId": "37919957-fb32-46fd-9985-8829c0712045"
      },
      "execution_count": null,
      "outputs": [
        {
          "output_type": "stream",
          "name": "stdout",
          "text": [
            "yeah!\n"
          ]
        }
      ]
    },
    {
      "cell_type": "markdown",
      "source": [
        "- 조건 2개\n",
        "  if <조건식1>:\n",
        "\n",
        "    <실행할 코드1>\n",
        "\n",
        "    else:\n",
        "\n",
        "    <실행할 코드2>\n"
      ],
      "metadata": {
        "id": "iutmxnvQXsiz"
      }
    },
    {
      "cell_type": "markdown",
      "source": [
        "조건 3개 이상: if :\n",
        "\n",
        "    <실행할 코드1>\n",
        "\n",
        "elif:\n",
        "\n",
        "    <실행할 코드2>\n",
        "\n",
        "...\n",
        "\n",
        "else:\n",
        "\n",
        "    <실행할 코드n>"
      ],
      "metadata": {
        "id": "RHMEEeLm7mKe"
      }
    },
    {
      "cell_type": "markdown",
      "source": [
        "#### 비교연산자\n",
        "- x < y, x =< y\n",
        "- x > y, x >= y\n",
        "- x != y (값)\n",
        "- x == y (값)\n",
        "- x is y (값, 메모리주소)\n",
        "- x is not y"
      ],
      "metadata": {
        "id": "bNRXPUT8YB5q"
      }
    },
    {
      "cell_type": "markdown",
      "source": [
        "##Quiz 1.\n",
        "- 학점 부여하기\n",
        "- 학점을 입력 받아서\n",
        "  - 90점 이상이면 A\n",
        "  - 80점 이상이면 B\n",
        "  - 70점 이상이면 C\n",
        "  - 그외, D\n",
        "- 변수 설정 유의\n"
      ],
      "metadata": {
        "id": "79lhW4lVYjIW"
      }
    },
    {
      "cell_type": "code",
      "source": [
        "score = float(input('점수를 입력하세요:'))\n",
        "if score >= 90:\n",
        "  print('A학점입니다.')\n",
        "elif score >= 80:\n",
        "  print('B학점입니다.')\n",
        "elif score >= 70:\n",
        "  print('C학점입니다.')\n",
        "else :\n",
        "  print('D학점입니다.')\n"
      ],
      "metadata": {
        "colab": {
          "base_uri": "https://localhost:8080/"
        },
        "id": "VrGiVLXcXj2w",
        "outputId": "f4b04941-a384-47a2-cf86-73ca0c7d5194"
      },
      "execution_count": null,
      "outputs": [
        {
          "output_type": "stream",
          "name": "stdout",
          "text": [
            "점수를 입력하세요:100\n",
            "A학점입니다.\n"
          ]
        }
      ]
    },
    {
      "cell_type": "markdown",
      "source": [
        "##Quiz 2.\n",
        "- 아이디와 비번 입력 받아서 둘다 일치하면 로그인하기\n",
        "- 아이디, 비번 각자 정해놓기\n",
        "- 일치하지 않을 때에는 창의적으로 어떤걸로 반환하기\n"
      ],
      "metadata": {
        "id": "-__zXjpsZ9en"
      }
    },
    {
      "cell_type": "code",
      "source": [
        "ID = 'soobin'\n",
        "PW = 'python'\n",
        "userID = input('아이디를 입력하세요:')\n",
        "if userID == ID:\n",
        "  userPW = input('비밀번호를 입력하세요:')\n",
        "  if userPW == PW:\n",
        "   print('로그인 되었습니다.')\n",
        "  else:\n",
        "    print('비밀번호가 틀렸습니다.')\n",
        "else :\n",
        "  print('존재하지 않는 아이디입니다.')\n"
      ],
      "metadata": {
        "colab": {
          "base_uri": "https://localhost:8080/"
        },
        "id": "o-kzsCbAZ2A3",
        "outputId": "7ce2dfd1-f718-42bd-b40b-3a44b76391ad"
      },
      "execution_count": null,
      "outputs": [
        {
          "output_type": "stream",
          "name": "stdout",
          "text": [
            "아이디를 입력하세요:soo\n",
            "존재하지 않는 아이디입니다.\n"
          ]
        }
      ]
    },
    {
      "cell_type": "markdown",
      "source": [
        "### 논리연산자\n",
        "- 여러 조건식을 비교할 때\n",
        "- 예: 10 < x < 20\n",
        "  - 파이썬에서만 가능한 표현\n",
        "  - x > 10 혹은 x <20\n",
        "\n",
        "- and, &\n",
        "- or, |\n",
        "- not"
      ],
      "metadata": {
        "id": "uFkmpO6udh5W"
      }
    },
    {
      "cell_type": "markdown",
      "source": [
        "### Quiz 3. \n",
        "- Quiz 2. 확장판\n",
        "- 결석 횟수를 받아서 점수가 80점 이상인데 결석이 두번 이상이면 F, 나머지는 점수대로"
      ],
      "metadata": {
        "id": "2JQbRogXeXi8"
      }
    },
    {
      "cell_type": "code",
      "source": [
        "score = float(input('점수를 입력하세요:'))\n",
        "attend = int(input('결석 횟수를 입력하세요:'))\n",
        "if score >= 90:\n",
        "  if attend >= 2:\n",
        "    print('F학점입니다.')\n",
        "  else :\n",
        "    print('A학점입니다.')\n",
        "elif score >= 80:\n",
        "  if attend >= 2:\n",
        "    print('F학점입니다.')\n",
        "  else :\n",
        "    print('B학점입니다.')\n",
        "elif score >= 70:\n",
        "  print('C학점입니다.')\n",
        "else :\n",
        "  print('D학점입니다.')"
      ],
      "metadata": {
        "id": "osJLDVjKdfr_"
      },
      "execution_count": null,
      "outputs": []
    }
  ]
}