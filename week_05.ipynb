{
  "nbformat": 4,
  "nbformat_minor": 0,
  "metadata": {
    "colab": {
      "name": "week_05.ipynb",
      "provenance": [],
      "collapsed_sections": []
    },
    "kernelspec": {
      "name": "python3",
      "display_name": "Python 3"
    },
    "language_info": {
      "name": "python"
    }
  },
  "cells": [
    {
      "cell_type": "markdown",
      "source": [
        "### 반복문\n",
        "- while, for loop\n",
        "\n",
        "### while loop\n",
        "- 어떤 조건이 만족하는 동안 명령 블록을 수행한다.\n",
        "- if + for loop\n",
        "- 해당 조건이 거짓이면 멈춘다. ==> 언제 멈추는지 그 시점을 정확히 파악해야 함.\n",
        "\n",
        "#### for vs. while\n",
        "- for: 반복 횟수가 정해짐, 정확함. 변하지 않음\n",
        "  - 예: 성적 산출\n",
        "- while: 횟수 정해지지 않음.(중요하지 않다)\n",
        "  - 예: 가위바위보"
      ],
      "metadata": {
        "id": "QJgx_c2jM_m8"
      }
    },
    {
      "cell_type": "code",
      "execution_count": null,
      "metadata": {
        "colab": {
          "base_uri": "https://localhost:8080/"
        },
        "id": "RtByNM8NHw_C",
        "outputId": "d6885df3-3daa-4b30-b0e1-586fb639464a"
      },
      "outputs": [
        {
          "output_type": "stream",
          "name": "stdout",
          "text": [
            "0 1 2 3 4 5 6 7 8 9 "
          ]
        }
      ],
      "source": [
        "# for loop\n",
        "for i in range(10):\n",
        "  print(i, end=' ')"
      ]
    },
    {
      "cell_type": "code",
      "source": [
        "# while loop\n",
        "j = 0 # 초기화\n",
        "while j < 10:   # 0, 1, 2, False\n",
        "  print(j, end=' ')    # 0, 1, 2\n",
        "  j += 1  # 변화 1, 2"
      ],
      "metadata": {
        "colab": {
          "base_uri": "https://localhost:8080/"
        },
        "id": "zVF9TAlONZt6",
        "outputId": "eb5b72fd-0445-43d0-c095-fa79246a1462"
      },
      "execution_count": null,
      "outputs": [
        {
          "output_type": "stream",
          "name": "stdout",
          "text": [
            "0 1 2 3 4 5 6 7 8 9 "
          ]
        }
      ]
    },
    {
      "cell_type": "code",
      "source": [
        "abcd = ['a', 'b', 'c', 'd']\n",
        "i = 0\n",
        "while i < len(abcd):\n",
        "  print(abcd[i], end=' ')\n",
        "  i += 1"
      ],
      "metadata": {
        "colab": {
          "base_uri": "https://localhost:8080/"
        },
        "id": "8D5yZzWTNjVk",
        "outputId": "fb68a403-07e6-40c9-9c10-81d950ce3d37"
      },
      "execution_count": null,
      "outputs": [
        {
          "output_type": "stream",
          "name": "stdout",
          "text": [
            "a b c d "
          ]
        }
      ]
    },
    {
      "cell_type": "markdown",
      "source": [
        "### 반복문 제어\n",
        "- 되도록 사용하지 않는다. 의도치 않은 오류를 막기 위해\n",
        "\n",
        "\n",
        "- break: 논리적으로 반복을 종료시킬 때\n",
        "- else: 어떤 조건이 완전히 끝났을 때 한번 더 실행함. break시에 실행 안 됨 => 어느 지점에서 종료되었는지 확인할 때 사용, for,while과 같은 들여쓰기 라인에서 사용\n",
        "- continue: 특정 조건을 건너뛰고 다음 조건 실행"
      ],
      "metadata": {
        "id": "Db0FBxW_PZdM"
      }
    },
    {
      "cell_type": "code",
      "source": [
        "j = 0 # 초기화\n",
        "while j < 10:\n",
        "  print(j)\n",
        "  if j == 6: break\n",
        "  j += 1\n",
        "else:\n",
        "  print(\"ended\")"
      ],
      "metadata": {
        "colab": {
          "base_uri": "https://localhost:8080/"
        },
        "id": "hUb53ccCPSl6",
        "outputId": "8ee4d95e-ec01-43ec-bc85-fdf3da0181c8"
      },
      "execution_count": null,
      "outputs": [
        {
          "output_type": "stream",
          "name": "stdout",
          "text": [
            "0\n",
            "1\n",
            "2\n",
            "3\n",
            "4\n",
            "5\n",
            "6\n"
          ]
        }
      ]
    },
    {
      "cell_type": "code",
      "source": [
        "for i in range(10):\n",
        "  if i == 6: break\n",
        "  print(i) # 6 출력 안 됨"
      ],
      "metadata": {
        "id": "j0EQn3NfP2Uh"
      },
      "execution_count": null,
      "outputs": []
    },
    {
      "cell_type": "markdown",
      "source": [
        "### 구구단\n",
        "입력을 받아서 사용\n",
        "\n",
        "- 1. n단 출력\n",
        "- 2. 1-n단까지 출력\n",
        "- 3. n, m 모두 입력 받아서 출력\n",
        "- 4. 프로그램으로 만듦.\n",
        "  - 메뉴: 1) n, 2) 1-n, 3) n-m단"
      ],
      "metadata": {
        "id": "_o_nYK0eRepo"
      }
    },
    {
      "cell_type": "code",
      "source": [
        "n = int(input(\"단을 입력하세요:\"))\n",
        "for i in range(1,10):\n",
        "  print(i * n)\n",
        "  print()"
      ],
      "metadata": {
        "id": "2-GDw-8OR2hK"
      },
      "execution_count": null,
      "outputs": []
    },
    {
      "cell_type": "code",
      "source": [
        "for i in range(1,n+1):\n",
        "  print(f\"=== {i}단 ===\")\n",
        "  for j in range(1,10):\n",
        "    print(f'{i} * {j} = {i*j}')"
      ],
      "metadata": {
        "id": "mkO7D43USNFC"
      },
      "execution_count": null,
      "outputs": []
    },
    {
      "cell_type": "code",
      "source": [
        "n = int(input(\"시작 단을 입력하세요:\"))\n",
        "m = int(input(\"끝 단을 입력하세요:\"))\n",
        "if n > m:\n",
        "  print(\"시작단이 끝 단 보다 큽니다. 다시 입력하세요\")\n",
        "  n = int(input(\"시작 단을 입력하세요:\"))\n",
        "  m = int(input(\"끝 단을 입력하세요:\"))\n",
        "for i in range(n,m+1):\n",
        "  print(f\"=== {i}단 ===\")\n",
        "  for j in range(1,10):\n",
        "    print(f'{i} * {j} = {i*j}')"
      ],
      "metadata": {
        "id": "SYv83Yc3S3BR"
      },
      "execution_count": null,
      "outputs": []
    },
    {
      "cell_type": "code",
      "source": [
        "menu = int(input(\"\"\"=== 메뉴: 1) n, 2) 1-n, 3) n-m단 ===\n",
        "구구단 프로그램을 선택하세요:\"\"\"))\n",
        "print()\n",
        "\n",
        "if menu != 1 and menu != 2 and menu!= 3:\n",
        "  menu = int(input(\"메뉴를 잘못 입력하셨습니다. 다시 입력하세요:\"))\n",
        "  print()\n",
        "if menu == 1:\n",
        "  n = int(input(\"단을 입력하세요:\"))\n",
        "  for i in range(1,10):\n",
        "    print(i * n)\n",
        "elif menu == 2:\n",
        "  n = int(input(\"단을 입력하세요:\"))\n",
        "  for i in range(1,n+1):\n",
        "    print(f\"=== {i}단 ===\")\n",
        "  for j in range(1,10):\n",
        "    print(f'{i} * {j} = {i*j}')\n",
        "elif menu == 3:\n",
        "  n = int(input(\"시작 단을 입력하세요:\"))\n",
        "  m = int(input(\"끝 단을 입력하세요:\"))\n",
        "  if n > m:\n",
        "    print(\"시작단이 끝 단 보다 큽니다. 다시 입력하세요\")\n",
        "    n = int(input(\"시작 단을 입력하세요:\"))\n",
        "    m = int(input(\"끝 단을 입력하세요:\"))\n",
        "  for i in range(n,m+1):\n",
        "    print(f\"=== {i}단 ===\")\n",
        "    for j in range(1,10):\n",
        "      print(f'{i} * {j} = {i*j}')\n",
        "  \n"
      ],
      "metadata": {
        "id": "RhoLSo8BUaZk"
      },
      "execution_count": null,
      "outputs": []
    },
    {
      "cell_type": "markdown",
      "source": [
        "### NLTK corpus\n",
        "- 코퍼스 + 테마\n",
        "- 종류\n",
        "  - brown\n",
        "  - gutenberg\n",
        "  - inagural\n",
        "- methods\n",
        "  - words() # tokens\n",
        "  - sents()\n",
        "  - raw()\n",
        "  - fileids()"
      ],
      "metadata": {
        "id": "VMd4YvDfbwsE"
      }
    },
    {
      "cell_type": "code",
      "source": [
        "import nltk\n",
        "nltk.download('inaugural')\n",
        "nltk.download('genesis')\n",
        "nltk.download('gutenberg')\n",
        "nltk.download('nps_chat')\n",
        "nltk.download('webtext')\n",
        "nltk.download('treebank')\n",
        "from nltk.book import *\n",
        "nltk.download('book', quiet=True)"
      ],
      "metadata": {
        "id": "L60G1fucWG1I"
      },
      "execution_count": null,
      "outputs": []
    },
    {
      "cell_type": "code",
      "source": [
        "# for loop을 사용하여 text1부터 text9 리스트로 불러오는 방법\n",
        "# text1 ~ text9를 string으로 가져오기 => f'text{i}'\n",
        "# string에서 기능이 있는 것으로 바꿔주기 => getattr(nltk.book, f'text{i}')\n",
        "# cf) getattr(library, 'string_name')"
      ],
      "metadata": {
        "id": "ICtUwurq2b8c"
      },
      "execution_count": null,
      "outputs": []
    },
    {
      "cell_type": "markdown",
      "source": [
        "## NLTK corpus\n",
        "- 코퍼스 + 테마\n",
        "- 종류\n",
        "  - brown\n",
        "  - gutenberg # 저작권 만료 문학작품들\n",
        "  - inaugural\n",
        "- methods\n",
        "  - words() # 단어 리스트 / nltk의 tokens\n",
        "  - sents() # 문장 리스트\n",
        "  - raw() # 글자 리스트\n",
        "  - fileids()"
      ],
      "metadata": {
        "id": "KGFjNe1V25ZU"
      }
    },
    {
      "cell_type": "code",
      "source": [
        "gutenberg = nltk.corpus.gutenberg"
      ],
      "metadata": {
        "id": "rZtA_cr7cDn5"
      },
      "execution_count": null,
      "outputs": []
    },
    {
      "cell_type": "code",
      "source": [
        "gutenberg.fileids()"
      ],
      "metadata": {
        "id": "VWHnHLIoc_G7"
      },
      "execution_count": null,
      "outputs": []
    },
    {
      "cell_type": "code",
      "source": [
        "gutenberg.words(fileids='austen-emma.txt') # 하나의 파일에서 word 가져오기"
      ],
      "metadata": {
        "id": "HQHlUolE3aGx"
      },
      "execution_count": null,
      "outputs": []
    },
    {
      "cell_type": "code",
      "source": [
        "gutenberg.words(fileids=['austen-emma.txt',\n",
        " 'austen-persuasion.txt',\n",
        " 'austen-sense.txt',\n",
        " 'bible-kjv.txt',\n",
        " 'blake-poems.txt',\n",
        " 'bryant-stories.txt',\n",
        " 'burgess-busterbrown.txt',\n",
        " 'carroll-alice.txt',\n",
        " 'chesterton-ball.txt',\n",
        " 'chesterton-brown.txt',\n",
        " 'chesterton-thursday.txt',\n",
        " 'edgeworth-parents.txt',\n",
        " 'melville-moby_dick.txt',\n",
        " 'milton-paradise.txt',\n",
        " 'shakespeare-caesar.txt',\n",
        " 'shakespeare-hamlet.txt',\n",
        " 'shakespeare-macbeth.txt',\n",
        " 'whitman-leaves.txt']) # 여러개의 파일에서 가져오기"
      ],
      "metadata": {
        "colab": {
          "base_uri": "https://localhost:8080/"
        },
        "id": "bd3eDNSWd3vQ",
        "outputId": "07b47c19-24b4-4912-942d-788d643759a4"
      },
      "execution_count": null,
      "outputs": [
        {
          "output_type": "execute_result",
          "data": {
            "text/plain": [
              "['[', 'Emma', 'by', 'Jane', 'Austen', '1816', ']', ...]"
            ]
          },
          "metadata": {},
          "execution_count": 50
        }
      ]
    },
    {
      "cell_type": "code",
      "source": [
        "len(gutenberg.words(fileids='austen-emma.txt'))"
      ],
      "metadata": {
        "colab": {
          "base_uri": "https://localhost:8080/"
        },
        "id": "Oa_htE0veGRF",
        "outputId": "af8e763b-6196-4113-fac3-785ae7d3f389"
      },
      "execution_count": null,
      "outputs": [
        {
          "output_type": "execute_result",
          "data": {
            "text/plain": [
              "192427"
            ]
          },
          "metadata": {},
          "execution_count": 52
        }
      ]
    },
    {
      "cell_type": "code",
      "source": [
        "len(gutenberg.sents())"
      ],
      "metadata": {
        "colab": {
          "base_uri": "https://localhost:8080/"
        },
        "id": "00p6CEnqeWzp",
        "outputId": "c611332b-3773-4fbc-c953-f8b452be2575"
      },
      "execution_count": null,
      "outputs": [
        {
          "output_type": "execute_result",
          "data": {
            "text/plain": [
              "98552"
            ]
          },
          "metadata": {},
          "execution_count": 55
        }
      ]
    },
    {
      "cell_type": "code",
      "source": [
        "for i in gutenberg.fileids():\n",
        "  print(f\"{i[:-4]} | 글자수: {len(gutenberg.words(fileids=[i]))}, 문자수 = {len(gutenberg.raw(fileids=[i]))} 문장수 = {len(gutenberg.sents(fileids=[i]))} \")"
      ],
      "metadata": {
        "colab": {
          "base_uri": "https://localhost:8080/"
        },
        "id": "Vpl0pWQeeoJj",
        "outputId": "572e66d0-b54c-4103-81f9-385cff1094d3"
      },
      "execution_count": null,
      "outputs": [
        {
          "output_type": "stream",
          "name": "stdout",
          "text": [
            "austen-emma | 글자수: 192427, 문자수 = 887071 문장수 = 7752 \n",
            "austen-persuasion | 글자수: 98171, 문자수 = 466292 문장수 = 3747 \n",
            "austen-sense | 글자수: 141576, 문자수 = 673022 문장수 = 4999 \n",
            "bible-kjv | 글자수: 1010654, 문자수 = 4332554 문장수 = 30103 \n",
            "blake-poems | 글자수: 8354, 문자수 = 38153 문장수 = 438 \n",
            "bryant-stories | 글자수: 55563, 문자수 = 249439 문장수 = 2863 \n",
            "burgess-busterbrown | 글자수: 18963, 문자수 = 84663 문장수 = 1054 \n",
            "carroll-alice | 글자수: 34110, 문자수 = 144395 문장수 = 1703 \n",
            "chesterton-ball | 글자수: 96996, 문자수 = 457450 문장수 = 4779 \n",
            "chesterton-brown | 글자수: 86063, 문자수 = 406629 문장수 = 3806 \n",
            "chesterton-thursday | 글자수: 69213, 문자수 = 320525 문장수 = 3742 \n",
            "edgeworth-parents | 글자수: 210663, 문자수 = 935158 문장수 = 10230 \n",
            "melville-moby_dick | 글자수: 260819, 문자수 = 1242990 문장수 = 10059 \n",
            "milton-paradise | 글자수: 96825, 문자수 = 468220 문장수 = 1851 \n",
            "shakespeare-caesar | 글자수: 25833, 문자수 = 112310 문장수 = 2163 \n",
            "shakespeare-hamlet | 글자수: 37360, 문자수 = 162881 문장수 = 3106 \n",
            "shakespeare-macbeth | 글자수: 23140, 문자수 = 100351 문장수 = 1907 \n",
            "whitman-leaves | 글자수: 154883, 문자수 = 711215 문장수 = 4250 \n"
          ]
        }
      ]
    },
    {
      "cell_type": "code",
      "source": [
        "lists = gutenberg.fileids()\n",
        "for i in lists:\n",
        "    words = gutenberg.words(fileids=[i])\n",
        "    char = gutenberg.raw(fileids=[i])\n",
        "    sent = gutenberg.sents(fileids=[i])   \n",
        "    print(f'{i[:-4]} | 글자수: {len(char)}, 단어수: {len(words)}, 문장수: {len(sent)}')"
      ],
      "metadata": {
        "colab": {
          "base_uri": "https://localhost:8080/"
        },
        "id": "uLTtQJgkgweN",
        "outputId": "da9a4558-a68e-457a-96f5-762d431e67d7"
      },
      "execution_count": null,
      "outputs": [
        {
          "output_type": "stream",
          "name": "stdout",
          "text": [
            "austen-emma | 글자수: 887071, 단어수: 192427, 문장수: 7752\n",
            "austen-persuasion | 글자수: 466292, 단어수: 98171, 문장수: 3747\n",
            "austen-sense | 글자수: 673022, 단어수: 141576, 문장수: 4999\n",
            "bible-kjv | 글자수: 4332554, 단어수: 1010654, 문장수: 30103\n",
            "blake-poems | 글자수: 38153, 단어수: 8354, 문장수: 438\n",
            "bryant-stories | 글자수: 249439, 단어수: 55563, 문장수: 2863\n",
            "burgess-busterbrown | 글자수: 84663, 단어수: 18963, 문장수: 1054\n",
            "carroll-alice | 글자수: 144395, 단어수: 34110, 문장수: 1703\n",
            "chesterton-ball | 글자수: 457450, 단어수: 96996, 문장수: 4779\n",
            "chesterton-brown | 글자수: 406629, 단어수: 86063, 문장수: 3806\n",
            "chesterton-thursday | 글자수: 320525, 단어수: 69213, 문장수: 3742\n",
            "edgeworth-parents | 글자수: 935158, 단어수: 210663, 문장수: 10230\n",
            "melville-moby_dick | 글자수: 1242990, 단어수: 260819, 문장수: 10059\n",
            "milton-paradise | 글자수: 468220, 단어수: 96825, 문장수: 1851\n",
            "shakespeare-caesar | 글자수: 112310, 단어수: 25833, 문장수: 2163\n",
            "shakespeare-hamlet | 글자수: 162881, 단어수: 37360, 문장수: 3106\n",
            "shakespeare-macbeth | 글자수: 100351, 단어수: 23140, 문장수: 1907\n",
            "whitman-leaves | 글자수: 711215, 단어수: 154883, 문장수: 4250\n"
          ]
        }
      ]
    },
    {
      "cell_type": "markdown",
      "source": [
        "### Gutenberg\n",
        "- 1. shakspeare-caesar의 중복된 단어를 거르고 각 단어의 길이를 출력하시오.\n",
        "- 2. chesterton-thursday에서 길이가 4자 이하인 알파벳 중 ie를 포함하는 단어를 소문자로 출력하고, 개수를 세어라\n",
        "- 3. bryant-stories에서 ch로 끝나는 단어를 출력하는데, 중복 없이 첫글자(모두 소문자)와 끝 ch만 남기고 가운데 글자들 모두-로 가려라. 예: much ->m-ch"
      ],
      "metadata": {
        "id": "PPwwxaYZiekK"
      }
    },
    {
      "cell_type": "code",
      "source": [
        "#1\n",
        "[len(words) for words in set(gutenberg.words(fileids='shakespeare-caesar.txt'))]"
      ],
      "metadata": {
        "id": "WPW6VoY8jFhe"
      },
      "execution_count": null,
      "outputs": []
    },
    {
      "cell_type": "code",
      "source": [
        "#2\n",
        "[words.lower() for words in gutenberg.words('shakespeare-caesar.txt') if len(words) < 5 and \"ie\" in words]"
      ],
      "metadata": {
        "colab": {
          "base_uri": "https://localhost:8080/"
        },
        "id": "74IxKvn5jZnI",
        "outputId": "6711b258-e99e-417b-f3cd-546fbfc66f94"
      },
      "execution_count": null,
      "outputs": [
        {
          "output_type": "execute_result",
          "data": {
            "text/plain": [
              "['view',\n",
              " 'skie',\n",
              " 'hie',\n",
              " 'lies',\n",
              " 'hie',\n",
              " 'lies',\n",
              " 'die',\n",
              " 'die',\n",
              " 'lies',\n",
              " 'lies',\n",
              " 'dies']"
            ]
          },
          "metadata": {},
          "execution_count": 88
        }
      ]
    },
    {
      "cell_type": "code",
      "source": [
        "#3(10개만 출력)\n",
        "[word.lower()[0] + '-'*(len(word) -3) + 'ch' for word in set(gutenberg.words('chesterton-thursday.txt')) if word.endswith('ch')][:10]"
      ],
      "metadata": {
        "id": "7dpP1-TVmTo0",
        "colab": {
          "base_uri": "https://localhost:8080/"
        },
        "outputId": "b05511b4-403b-46dd-db59-02d5c0e0b9ef"
      },
      "execution_count": null,
      "outputs": [
        {
          "output_type": "execute_result",
          "data": {
            "text/plain": [
              "['w--ch',\n",
              " 'm--ch',\n",
              " 'p--ch',\n",
              " 'a-----ch',\n",
              " 'p--ch',\n",
              " 'p--ch',\n",
              " 'a---ch',\n",
              " 'e-ch',\n",
              " 'c---ch',\n",
              " 'h--ch']"
            ]
          },
          "metadata": {},
          "execution_count": 26
        }
      ]
    },
    {
      "cell_type": "markdown",
      "source": [
        "### Brown\n",
        "- categories()"
      ],
      "metadata": {
        "id": "aWO6v34Pnbvx"
      }
    },
    {
      "cell_type": "code",
      "source": [
        "brown = nltk.corpus.brown"
      ],
      "metadata": {
        "id": "1eaNwsHInV9X"
      },
      "execution_count": null,
      "outputs": []
    },
    {
      "cell_type": "code",
      "source": [
        "brown.categories()"
      ],
      "metadata": {
        "colab": {
          "base_uri": "https://localhost:8080/"
        },
        "id": "8p_C5KqI45I3",
        "outputId": "c48284bf-c418-475e-be97-6b4ae4936975"
      },
      "execution_count": null,
      "outputs": [
        {
          "output_type": "execute_result",
          "data": {
            "text/plain": [
              "['adventure',\n",
              " 'belles_lettres',\n",
              " 'editorial',\n",
              " 'fiction',\n",
              " 'government',\n",
              " 'hobbies',\n",
              " 'humor',\n",
              " 'learned',\n",
              " 'lore',\n",
              " 'mystery',\n",
              " 'news',\n",
              " 'religion',\n",
              " 'reviews',\n",
              " 'romance',\n",
              " 'science_fiction']"
            ]
          },
          "metadata": {},
          "execution_count": 12
        }
      ]
    },
    {
      "cell_type": "code",
      "source": [
        "fdist = nltk.FreqDist([w.lower() for w in brown.words(categories='adventure')])\n",
        "# adventure 카테고리 단어들의 freqdist"
      ],
      "metadata": {
        "id": "_UVK9AdL46bz"
      },
      "execution_count": null,
      "outputs": []
    },
    {
      "cell_type": "code",
      "source": [
        "fdist['men']\n",
        "# adventure 카테고리 중 단어들 중 men의 빈도수\n"
      ],
      "metadata": {
        "colab": {
          "base_uri": "https://localhost:8080/"
        },
        "id": "p7JsPH0J49b5",
        "outputId": "c3e1a1d5-55e9-4134-97df-f57cf164ca07"
      },
      "execution_count": null,
      "outputs": [
        {
          "output_type": "execute_result",
          "data": {
            "text/plain": [
              "83"
            ]
          },
          "metadata": {},
          "execution_count": 14
        }
      ]
    },
    {
      "cell_type": "code",
      "source": [
        "# modal verbs\n",
        "modals = ['can', 'could', 'will', 'would', 'may', 'might']\n",
        "\n",
        "for verb in modals:\n",
        "    print(verb, fdist[verb])\n",
        "# adventure 카테고리 중 조동사의 빈도수"
      ],
      "metadata": {
        "colab": {
          "base_uri": "https://localhost:8080/"
        },
        "id": "H0zeZ-bR5FsT",
        "outputId": "6dce1859-4429-4e77-af9a-05b9463bf610"
      },
      "execution_count": null,
      "outputs": [
        {
          "output_type": "stream",
          "name": "stdout",
          "text": [
            "can 48\n",
            "could 154\n",
            "will 51\n",
            "would 194\n",
            "may 7\n",
            "might 59\n"
          ]
        }
      ]
    },
    {
      "cell_type": "markdown",
      "source": [
        "### conditional frequency distribution\n",
        "- 조건에 따른 fdist"
      ],
      "metadata": {
        "id": "7bmM7TUX6h6T"
      }
    },
    {
      "cell_type": "code",
      "source": [
        "cfd = nltk.ConditionalFreqDist(\n",
        "    # 각 장르에 따른 freq dist를 만든다\n",
        "    (genre, word)\n",
        "    for genre in brown.categories() # genre는 brown의 카테고리들\n",
        "    for word in brown.words(categories=genre) # word는 genre에 해당하는 카테고리의 단어들\n",
        ")"
      ],
      "metadata": {
        "id": "lkyU4UAB5HoU"
      },
      "execution_count": null,
      "outputs": []
    },
    {
      "cell_type": "code",
      "source": [
        "# cfd['장르']['단어']\n",
        "print(cfd['romance']) # 카테고리(장르)가 로맨스인 단어들의 cfd\n",
        "print(cfd['romance'].most_common(10)) # 로맨스 카테고리 중 가장 빈도수 높은 단어 10개\n",
        "print(cfd['romance']['love']) # 로맨스 카테고리 단어 중 love의 빈도수"
      ],
      "metadata": {
        "id": "KdkBubAb7WST"
      },
      "execution_count": null,
      "outputs": []
    }
  ]
}