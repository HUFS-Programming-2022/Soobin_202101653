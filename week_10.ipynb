{
  "nbformat": 4,
  "nbformat_minor": 0,
  "metadata": {
    "colab": {
      "name": "week_10.ipynb",
      "provenance": [],
      "collapsed_sections": []
    },
    "kernelspec": {
      "name": "python3",
      "display_name": "Python 3"
    },
    "language_info": {
      "name": "python"
    }
  },
  "cells": [
    {
      "cell_type": "markdown",
      "source": [
        "### 객체와 클래스\n",
        "- object\n",
        "- 객체지향프로그래밍\n",
        "- 객체: 속성과 행동을 가지는 개념, 실존하는 물체\n",
        "    - 예: 자동차, 강아지, 꽃, ... thing\n",
        "    - 자동차\n",
        "        - 속성: 브랜드, 색, 속도, 모델, ...\n",
        "        - 행동: 가다, 서다, 회전, 주차, ...\n",
        "    - 강아지\n",
        "        - 속성: 이름, 종, 색, 몸무게, ...\n",
        "        - 행동: 뛰다, 짖다, 자다, 핥다, ...\n",
        "\n",
        "\n",
        "- 편의점 ==> \"고객이 편의점에서 과자를 샀다\"\n",
        "    - 고객\n",
        "        - 이름\n",
        "        - 물건 사다, 돈 내다\n",
        "\n",
        "    - 편의점\n",
        "        - 재고, 수익\n",
        "        - 팔다, 수익 남기다, 물건 등록하다\n",
        "    - 물건\n",
        "        - 이름, 브랜드, 가격\n",
        "\n",
        "- 속성 => 변수 /// 행동 => 메소드(함수)"
      ],
      "metadata": {
        "id": "KoFqu9KPfs-v"
      }
    },
    {
      "cell_type": "markdown",
      "source": [
        "### 클래스\n",
        "- 첫글자 대문자\n",
        "- nice car => NiceCar(카멜표기법)\n",
        "\n",
        "- 정의부, 선언부\n",
        "    - 정의부 = 붕어빵 틀\n",
        "    - 선언부 = 붕어빵"
      ],
      "metadata": {
        "id": "xuC4YG8QhPn4"
      }
    },
    {
      "cell_type": "code",
      "execution_count": null,
      "metadata": {
        "colab": {
          "base_uri": "https://localhost:8080/"
        },
        "id": "YoifBGhVfpMr",
        "outputId": "e25760c7-2a3f-4b65-cba4-31d27dc20937"
      },
      "outputs": [
        {
          "output_type": "execute_result",
          "data": {
            "text/plain": [
              "<__main__.Car at 0x7f1d422be9d0>"
            ]
          },
          "metadata": {},
          "execution_count": 3
        }
      ],
      "source": [
        "# 정의부\n",
        "class Car: #객체\n",
        "    pass\n",
        "# 선언부\n",
        "my_car = Car()\n",
        "my_car # instance == 붕어빵"
      ]
    },
    {
      "cell_type": "code",
      "source": [
        "my_car.name = 'bmw'\n",
        "my_car.color = 'white'"
      ],
      "metadata": {
        "id": "vcXrW0QShnXI"
      },
      "execution_count": null,
      "outputs": []
    },
    {
      "cell_type": "code",
      "source": [
        "my_car.name"
      ],
      "metadata": {
        "colab": {
          "base_uri": "https://localhost:8080/",
          "height": 35
        },
        "id": "AFzTtrlWiCgc",
        "outputId": "3a390548-2c58-4bb9-a2f3-865a7017c285"
      },
      "execution_count": null,
      "outputs": [
        {
          "output_type": "execute_result",
          "data": {
            "text/plain": [
              "'bmw'"
            ],
            "application/vnd.google.colaboratory.intrinsic+json": {
              "type": "string"
            }
          },
          "metadata": {},
          "execution_count": 5
        }
      ]
    },
    {
      "cell_type": "code",
      "source": [
        "# 1. 속성 정의: 자동차의 종류를 변경하기 번거롭다.\n",
        "class Car:\n",
        "    name = 'BMW'"
      ],
      "metadata": {
        "id": "fZX4CcxIiFXn"
      },
      "execution_count": null,
      "outputs": []
    },
    {
      "cell_type": "code",
      "source": [
        "your_car = Car()"
      ],
      "metadata": {
        "id": "ZlO-0tdiiMYM"
      },
      "execution_count": null,
      "outputs": []
    },
    {
      "cell_type": "code",
      "source": [
        "your_car.name = 'Kia'"
      ],
      "metadata": {
        "id": "WXLQAxMCiSFQ"
      },
      "execution_count": null,
      "outputs": []
    },
    {
      "cell_type": "code",
      "source": [
        "your_car.name"
      ],
      "metadata": {
        "colab": {
          "base_uri": "https://localhost:8080/",
          "height": 35
        },
        "id": "viQf-L7DiYvn",
        "outputId": "e96d406d-2231-403f-fc6b-f3079b46322b"
      },
      "execution_count": null,
      "outputs": [
        {
          "output_type": "execute_result",
          "data": {
            "text/plain": [
              "'Kia'"
            ],
            "application/vnd.google.colaboratory.intrinsic+json": {
              "type": "string"
            }
          },
          "metadata": {},
          "execution_count": 8
        }
      ]
    },
    {
      "cell_type": "code",
      "source": [
        "# 2. init 사용\n",
        "class Car:\n",
        "    def __init__(self, name): # 속성 초기화 함수\n",
        "        # 객체 만들 때 들어가는 값으로 이름을 설정하고 싶다.\n",
        "        self.name = name"
      ],
      "metadata": {
        "id": "5RJEseZBidjj"
      },
      "execution_count": null,
      "outputs": []
    },
    {
      "cell_type": "code",
      "source": [
        "her_car = Car(name='Hyundai')"
      ],
      "metadata": {
        "id": "_pjqVMa6i2gi"
      },
      "execution_count": null,
      "outputs": []
    },
    {
      "cell_type": "code",
      "source": [
        "her_car.name"
      ],
      "metadata": {
        "colab": {
          "base_uri": "https://localhost:8080/",
          "height": 35
        },
        "id": "GuP_7h3ni6YT",
        "outputId": "57ad15d8-869c-4d49-bdee-0561c44081e1"
      },
      "execution_count": null,
      "outputs": [
        {
          "output_type": "execute_result",
          "data": {
            "text/plain": [
              "'Hyundai'"
            ],
            "application/vnd.google.colaboratory.intrinsic+json": {
              "type": "string"
            }
          },
          "metadata": {},
          "execution_count": 11
        }
      ]
    },
    {
      "cell_type": "code",
      "source": [
        "class Car:\n",
        "    def __init__(self,model=None,color='black'):\n",
        "        self.model = model\n",
        "        self.color = color\n",
        "\n",
        "    def drive(self):\n",
        "        print(f'{self.model}가 출발합니다')\n",
        "\n",
        "    def stop(self):\n",
        "        print('차가 섭니다.')\n",
        "\n",
        "    def change_color(self):\n",
        "        self.color = input('색을 고르세요:')"
      ],
      "metadata": {
        "id": "RsmTrwYUi8GI"
      },
      "execution_count": null,
      "outputs": []
    },
    {
      "cell_type": "code",
      "source": [
        "his_car = Car()"
      ],
      "metadata": {
        "id": "QESIt4Waj0rG"
      },
      "execution_count": null,
      "outputs": []
    },
    {
      "cell_type": "code",
      "source": [
        "his_car.drive()"
      ],
      "metadata": {
        "colab": {
          "base_uri": "https://localhost:8080/"
        },
        "id": "VTCC6tTOlzzt",
        "outputId": "ddfd2087-920d-4912-da25-24dab564bbcf"
      },
      "execution_count": null,
      "outputs": [
        {
          "output_type": "stream",
          "name": "stdout",
          "text": [
            "X5가 갑니다\n"
          ]
        }
      ]
    },
    {
      "cell_type": "code",
      "source": [
        "his_car.color"
      ],
      "metadata": {
        "colab": {
          "base_uri": "https://localhost:8080/",
          "height": 35
        },
        "id": "76rcpSDDnq1D",
        "outputId": "2dafa759-8706-48af-fa09-72332514ff15"
      },
      "execution_count": null,
      "outputs": [
        {
          "output_type": "execute_result",
          "data": {
            "text/plain": [
              "'black'"
            ],
            "application/vnd.google.colaboratory.intrinsic+json": {
              "type": "string"
            }
          },
          "metadata": {},
          "execution_count": 49
        }
      ]
    },
    {
      "cell_type": "markdown",
      "source": [
        "#### get, set\n",
        "- getter: 클래스 내 객체 변수 반환\n",
        "- setter: ==변수 설정"
      ],
      "metadata": {
        "id": "dM5Be5SNvAWf"
      }
    },
    {
      "cell_type": "code",
      "source": [
        "class Car:\n",
        "    def __init__(self, input_name):\n",
        "        self.name = input_name\n",
        "\n",
        "    def get_name(self):\n",
        "        #변수반환\n",
        "        return self.name\n",
        "\n",
        "    def set_name(self,input_name):\n",
        "        self.name = input_name\n",
        "\n",
        "c = Car('name1')\n",
        "\n",
        "    "
      ],
      "metadata": {
        "id": "DxsgixozntNm"
      },
      "execution_count": null,
      "outputs": []
    },
    {
      "cell_type": "markdown",
      "source": [
        "##캡슐화, 정보 은닉\n",
        "- public -> private\n",
        "- getter. setter"
      ],
      "metadata": {
        "id": "uJ5_LdPSFhSQ"
      }
    },
    {
      "cell_type": "code",
      "source": [
        "# 1.\n",
        "class Car:\n",
        "    def __init__(self, input_name):\n",
        "        self.hidden_name = input_name\n",
        "\n",
        "    def get_name(self):\n",
        "        #변수반환\n",
        "        return self.hidden_name\n",
        "\n",
        "    def set_name(self,input_name):\n",
        "        self.hidden_name = input_name\n",
        "\n",
        "    name = property(get_name, set_name)\n",
        "d = Car(\"name_1\")\n",
        "d.name"
      ],
      "metadata": {
        "colab": {
          "base_uri": "https://localhost:8080/",
          "height": 35
        },
        "id": "IHaTr3R6v6yU",
        "outputId": "1f3df0fe-a616-49cb-f792-3f39e9f1dc26"
      },
      "execution_count": null,
      "outputs": [
        {
          "output_type": "execute_result",
          "data": {
            "text/plain": [
              "'name_1'"
            ],
            "application/vnd.google.colaboratory.intrinsic+json": {
              "type": "string"
            }
          },
          "metadata": {},
          "execution_count": 53
        }
      ]
    },
    {
      "cell_type": "code",
      "source": [
        "# 2.\n",
        "class Car:\n",
        "    def __init__(self, input_name):\n",
        "        self.hidden_name = input_name\n",
        "\n",
        "    @property\n",
        "    def name(self):\n",
        "        #변수반환\n",
        "        return self.hidden_name\n",
        "\n",
        "    @name.setter\n",
        "    def name(self,input_name):\n",
        "        self.hidden_name = input_name"
      ],
      "metadata": {
        "id": "Wsi0HQG1wOOO"
      },
      "execution_count": null,
      "outputs": []
    },
    {
      "cell_type": "code",
      "source": [
        "# 3.\n",
        "class Car:\n",
        "    def __init__(self, input_name):\n",
        "        self.__name = input_name\n",
        "\n",
        "    @property\n",
        "    def name(self):\n",
        "        #변수반환\n",
        "        return self.__name\n",
        "\n",
        "    @name.setter\n",
        "    def name(self,input_name):\n",
        "        self.__name = input_name\n",
        "d  = Car('name1')"
      ],
      "metadata": {
        "id": "0-pRm22Swceo"
      },
      "execution_count": null,
      "outputs": []
    },
    {
      "cell_type": "code",
      "source": [
        "# 4.\n",
        "\n",
        "class Car:\n",
        "    def __init__(self, input_name):\n",
        "        self.__name = input_name\n",
        "        \n",
        "    # decorator   \n",
        "    @property   \n",
        "    def name(self):\n",
        "        # 변수 반환\n",
        "        return self.__name\n",
        "    \n",
        "    @name.setter\n",
        "    def name(self, input_name):\n",
        "        self.__name = input_name"
      ],
      "metadata": {
        "id": "l8E_KvyLGEMa"
      },
      "execution_count": null,
      "outputs": []
    },
    {
      "cell_type": "markdown",
      "source": [
        "### 실습\n",
        "- 메모장, 메모 구현하기\n",
        "- 메모장\n",
        "    - 속성: 제목, 페이지번호, 메모\n",
        "    - 메모 추가하다, 메모 삭제하다, 페이지번호 확인하다\n",
        "- 메모\n",
        "    - 속성: 글귀\n",
        "    - 행동: 쓰다, 지우다\n",
        "\n",
        "- 사용:\n",
        "    - 메모 쓴다\n",
        "    - 메모장에 추가\n",
        "    - 페이지 번호가 늘어난다\n",
        "    - 메모 삭제\n",
        "    - 페이지 번호가 줄어든다\n",
        "    - 메모장> 제목만 은닉"
      ],
      "metadata": {
        "id": "CCAIppocxLEb"
      }
    },
    {
      "cell_type": "code",
      "source": [
        ""
      ],
      "metadata": {
        "id": "z_g0RB983-uw"
      },
      "execution_count": null,
      "outputs": []
    }
  ]
}