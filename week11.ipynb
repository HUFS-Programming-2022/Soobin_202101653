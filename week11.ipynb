{
  "nbformat": 4,
  "nbformat_minor": 0,
  "metadata": {
    "colab": {
      "name": "week11.ipynb",
      "provenance": [],
      "collapsed_sections": []
    },
    "kernelspec": {
      "name": "python3",
      "display_name": "Python 3"
    },
    "language_info": {
      "name": "python"
    }
  },
  "cells": [
    {
      "cell_type": "markdown",
      "source": [
        "### 객체 2\n",
        "- 상속\n",
        "- 재사용할 때, A vs B\n",
        "    - \"A의 대부분을 쓰고, 나머지를 추가, 변경하고 싶다.\"\n",
        "    - 부모의 속성을 그대로 가져와서 쓰겠다.\n",
        "- 반복되는 부분을 가져오겠다 물려주겠다\n",
        "- A <- B\n",
        "    - \"부모, 슈퍼, 베이스\"\n",
        "    - \"자식, 서브, derived\"\n",
        "- 자식 클래스는 부모 클래스를 구체화한다.\n",
        "- is-a 관계: Car is-a Vehicle (포함한다는 개념)"
      ],
      "metadata": {
        "id": "HK0dfK3UraR1"
      }
    },
    {
      "cell_type": "code",
      "execution_count": null,
      "metadata": {
        "id": "MdvzUiG5rYhj"
      },
      "outputs": [],
      "source": [
        "class Vehicle: # parent super\n",
        "    def __init__(self, speed):\n",
        "        self.speed = speed\n",
        "    \n",
        "    def go(self):\n",
        "        print(f'{self.speed}의 속도로 달린다.')\n",
        "\n",
        "class Car(Vehicle): # child sub\n",
        "    pass"
      ]
    },
    {
      "cell_type": "code",
      "source": [
        "car = Car('110km/h')\n",
        "car.go()"
      ],
      "metadata": {
        "colab": {
          "base_uri": "https://localhost:8080/"
        },
        "id": "vtulv974sQ80",
        "outputId": "e19e0ec2-f73a-45aa-b0c7-a8fc19b28bd0"
      },
      "execution_count": null,
      "outputs": [
        {
          "output_type": "stream",
          "name": "stdout",
          "text": [
            "110km/h의 속도로 달린다.\n"
          ]
        }
      ]
    },
    {
      "cell_type": "markdown",
      "source": [
        "##변수 추가, 변경\n",
        "- 접근: super().\n",
        "- super(),__init__(부모의 변수 중 가져올 것 선택)"
      ],
      "metadata": {
        "id": "8pxxQLVyse7B"
      }
    },
    {
      "cell_type": "code",
      "source": [
        "class Car(Vehicle):\n",
        "    def __init__(self, speed, brand):\n",
        "        super().__init__(speed) # speed 가져옴\n",
        "        self.brand = brand"
      ],
      "metadata": {
        "id": "w9FwXrkusaow"
      },
      "execution_count": null,
      "outputs": []
    },
    {
      "cell_type": "code",
      "source": [
        "car2 = Car('20','kia')\n",
        "car2.brand"
      ],
      "metadata": {
        "colab": {
          "base_uri": "https://localhost:8080/",
          "height": 35
        },
        "id": "rs7Gzpd2sywH",
        "outputId": "43b67849-2afd-4ebb-f690-678a30e91ad8"
      },
      "execution_count": null,
      "outputs": [
        {
          "output_type": "execute_result",
          "data": {
            "text/plain": [
              "'kia'"
            ],
            "application/vnd.google.colaboratory.intrinsic+json": {
              "type": "string"
            }
          },
          "metadata": {},
          "execution_count": 17
        }
      ]
    },
    {
      "cell_type": "markdown",
      "source": [
        "### 메소드 추가, 변경"
      ],
      "metadata": {
        "id": "TJVtKLsPtNpY"
      }
    },
    {
      "cell_type": "code",
      "source": [
        "class Car(Vehicle):\n",
        "    def __init__(self, speed, brand):\n",
        "        super().__init__(speed)\n",
        "        self.brand = brand\n",
        "\n",
        "    # 오버라이드(override): 부모 메소드를 재정의\n",
        "    def go(self):\n",
        "        # 부모의 go도 함께 가져가고 싶다면?\n",
        "        super().go()\n",
        "        print(f'차종 {self.brand}의 속도 {self.speed}')\n",
        "\n",
        "\n",
        "\n",
        "    # 메소드 추가\n",
        "    def stop():\n",
        "        pass"
      ],
      "metadata": {
        "id": "OVxCqZk6s4-y"
      },
      "execution_count": null,
      "outputs": []
    },
    {
      "cell_type": "code",
      "source": [
        "car3 = Car('100km/h', 'Tesla')\n",
        "car3.go()"
      ],
      "metadata": {
        "colab": {
          "base_uri": "https://localhost:8080/"
        },
        "id": "Iky2nDPBtmQA",
        "outputId": "ab3104c7-cfb8-4e7d-e4db-10295ad43f3f"
      },
      "execution_count": null,
      "outputs": [
        {
          "output_type": "stream",
          "name": "stdout",
          "text": [
            "100km/h의 속도로 달린다.\n",
            "차종 Tesla의 속도 100km/h\n"
          ]
        }
      ]
    },
    {
      "cell_type": "markdown",
      "source": [
        "## 실습"
      ],
      "metadata": {
        "id": "IFv1ggnfv2gS"
      }
    },
    {
      "cell_type": "code",
      "source": [
        "class Person:\n",
        "    def __init__(self,name):\n",
        "        self.name = name # Pablo\n",
        "\n",
        "class Doctor(Person):\n",
        "    def __init__(self,name):\n",
        "        super().__init__(name)\n",
        "        self.name = 'Dr.' + name\n",
        "\n",
        "class Male(Person):\n",
        "    def __init__(self,name):\n",
        "        super().__init__(f'Mr.{name}') # 이렇게 ㄱㄱ\n",
        "\n",
        "class Female(Person):\n",
        "    def __init__(self,name):\n",
        "        super().__init__(name)\n",
        "        self.name = name\n",
        "\n",
        "    def call(self):\n",
        "        print(f'Mrs.{self.name}')"
      ],
      "metadata": {
        "id": "K1LKxpU5u2Mn"
      },
      "execution_count": null,
      "outputs": []
    },
    {
      "cell_type": "code",
      "source": [
        "person = Person('Soobin')\n",
        "name = Doctor('Bai')\n",
        "name.name"
      ],
      "metadata": {
        "colab": {
          "base_uri": "https://localhost:8080/",
          "height": 35
        },
        "id": "OhcskoAuwbm2",
        "outputId": "e59ab226-4890-4ade-dd34-065059a442ac"
      },
      "execution_count": null,
      "outputs": [
        {
          "output_type": "execute_result",
          "data": {
            "text/plain": [
              "'Dr.Bai'"
            ],
            "application/vnd.google.colaboratory.intrinsic+json": {
              "type": "string"
            }
          },
          "metadata": {},
          "execution_count": 38
        }
      ]
    },
    {
      "cell_type": "code",
      "source": [
        "him = Male('Pablo')\n",
        "him.call()"
      ],
      "metadata": {
        "colab": {
          "base_uri": "https://localhost:8080/"
        },
        "id": "yG3p9VltwjbM",
        "outputId": "5d5ecaf5-7c7b-4ef2-f04f-9400103e891f"
      },
      "execution_count": null,
      "outputs": [
        {
          "output_type": "stream",
          "name": "stdout",
          "text": [
            "Mr.Pablo\n"
          ]
        }
      ]
    },
    {
      "cell_type": "code",
      "source": [
        "she = Female('Pablo')\n",
        "she.call()"
      ],
      "metadata": {
        "colab": {
          "base_uri": "https://localhost:8080/"
        },
        "id": "qTGpezqvx1t-",
        "outputId": "ebccb4cf-cad0-42e2-982f-8d348acbec95"
      },
      "execution_count": null,
      "outputs": [
        {
          "output_type": "stream",
          "name": "stdout",
          "text": [
            "Mrs.Pablo\n"
          ]
        }
      ]
    },
    {
      "cell_type": "markdown",
      "source": [
        "### 다중상속\n",
        "- 부모가 여럿이면 누구것을 가져오는 것인가\n",
        "- method resolution order(MRO)\n",
        "- Animal <- Horse\n",
        "    \n",
        "    <- Donkey\n",
        "\n",
        "        <-Mule (Donkey > Horse)\n",
        "        <- Hinny (Horse > Donkey) "
      ],
      "metadata": {
        "id": "iesQtgSd0JUL"
      }
    },
    {
      "cell_type": "code",
      "source": [
        "class Animal:\n",
        "    def says(self):\n",
        "        return '동물이 운다'\n",
        "\n",
        "# 자식\n",
        "class Horse(Animal):\n",
        "    def says(self):\n",
        "        return '히히힝'\n",
        "\n",
        "class Donkey(Animal):\n",
        "    def says(self):\n",
        "        return '히이호'\n",
        "\n",
        "# 손주\n",
        "# 다중 상속하면 가까운 부모부터 가져옴\n",
        "class Mule(Donkey, Horse):\n",
        "    pass\n",
        "\n",
        "class Hinny(Horse, Donkey):\n",
        "    pass\n",
        "\n",
        "# 계층 구조가 불분명할 때, 뭐가 가장 가까운지 보여주는 코드\n",
        "# 클래스 이름.mro\n",
        "Mule.mro()"
      ],
      "metadata": {
        "id": "UtvYa43x0dds",
        "colab": {
          "base_uri": "https://localhost:8080/"
        },
        "outputId": "3f805c83-ed7f-44ad-d2cd-9d47e17edc2e"
      },
      "execution_count": 1,
      "outputs": [
        {
          "output_type": "execute_result",
          "data": {
            "text/plain": [
              "[__main__.Mule, __main__.Donkey, __main__.Horse, __main__.Animal, object]"
            ]
          },
          "metadata": {},
          "execution_count": 1
        }
      ]
    },
    {
      "cell_type": "code",
      "source": [
        "m = Mule()\n",
        "m.says()"
      ],
      "metadata": {
        "colab": {
          "base_uri": "https://localhost:8080/",
          "height": 35
        },
        "id": "czIqgCrU1Fqm",
        "outputId": "7cbec821-9886-42cc-8810-01b32fcf0497"
      },
      "execution_count": null,
      "outputs": [
        {
          "output_type": "execute_result",
          "data": {
            "text/plain": [
              "'히이호'"
            ],
            "application/vnd.google.colaboratory.intrinsic+json": {
              "type": "string"
            }
          },
          "metadata": {},
          "execution_count": 40
        }
      ]
    },
    {
      "cell_type": "code",
      "source": [
        "Hinny().says()"
      ],
      "metadata": {
        "colab": {
          "base_uri": "https://localhost:8080/",
          "height": 35
        },
        "id": "wG8YUFMF1J2P",
        "outputId": "906053ed-4df0-4200-a4bd-09f4a9d3e546"
      },
      "execution_count": null,
      "outputs": [
        {
          "output_type": "execute_result",
          "data": {
            "text/plain": [
              "'히히힝'"
            ],
            "application/vnd.google.colaboratory.intrinsic+json": {
              "type": "string"
            }
          },
          "metadata": {},
          "execution_count": 41
        }
      ]
    },
    {
      "cell_type": "code",
      "source": [
        "Mule.mro()"
      ],
      "metadata": {
        "colab": {
          "base_uri": "https://localhost:8080/"
        },
        "id": "5Y3w601I1NEi",
        "outputId": "22b6e68b-d95b-4178-ae00-0366f91cc8a4"
      },
      "execution_count": null,
      "outputs": [
        {
          "output_type": "execute_result",
          "data": {
            "text/plain": [
              "[__main__.Mule, __main__.Donkey, __main__.Horse, __main__.Animal, object]"
            ]
          },
          "metadata": {},
          "execution_count": 42
        }
      ]
    },
    {
      "cell_type": "markdown",
      "source": [
        "### 다형성\n",
        "- 형태가 다른데 기능이 같다\n",
        "- 객체가 다른데도 같은 메소드를 가지고 있으면 같은 기능을 수행할 수 있다."
      ],
      "metadata": {
        "id": "Wkt45eTg1WpR"
      }
    },
    {
      "cell_type": "code",
      "source": [
        "for animal in [Mule(), Donkey(), Animal()]:\n",
        "    print(animal.says())"
      ],
      "metadata": {
        "colab": {
          "base_uri": "https://localhost:8080/"
        },
        "id": "m6NmAAU41UEK",
        "outputId": "87066d47-8f44-48c4-8e3e-be6e60be9f3b"
      },
      "execution_count": null,
      "outputs": [
        {
          "output_type": "stream",
          "name": "stdout",
          "text": [
            "히이호\n",
            "히이호\n",
            "동물이 운다\n"
          ]
        }
      ]
    },
    {
      "cell_type": "markdown",
      "source": [
        "### 메서드 타입\n",
        "- 인스턴스 메서드\n",
        "    - 우리가 지금 사용하는 메서드\n",
        "    - self가 1번 인자\n",
        "    - 객체 생성 -> 사용 가능\n",
        "- 클래스 메서드\n",
        "    - 객체 생성하지 않아도 사용 가능\n",
        "    - 클래스에 접근하는 메서드\n",
        "    - @classmethod 데코레이터 사용\n",
        "    - 예약어는 cls\n",
        "    - cls가 1번 인자\n",
        "    - class Person, cls는 Person 자체임"
      ],
      "metadata": {
        "id": "-7A515XC1jMC"
      }
    },
    {
      "cell_type": "code",
      "source": [
        "# 인스턴스 메서드\n",
        "a = Mule()\n",
        "a.says()"
      ],
      "metadata": {
        "colab": {
          "base_uri": "https://localhost:8080/",
          "height": 35
        },
        "id": "KH5780oD1h9r",
        "outputId": "285d42be-d68e-44ae-a635-91ea4d21fc67"
      },
      "execution_count": null,
      "outputs": [
        {
          "output_type": "execute_result",
          "data": {
            "text/plain": [
              "'히이호'"
            ],
            "application/vnd.google.colaboratory.intrinsic+json": {
              "type": "string"
            }
          },
          "metadata": {},
          "execution_count": 44
        }
      ]
    },
    {
      "cell_type": "code",
      "source": [
        "# 2. 클래스 메서드\n",
        "class A:\n",
        "    cnt = 0\n",
        "    \n",
        "    @classmethod\n",
        "    def move(cls):\n",
        "        return cls.cnt\n",
        "    \n",
        "\n",
        "A.move() # 이렇게 접근 가능"
      ],
      "metadata": {
        "colab": {
          "base_uri": "https://localhost:8080/"
        },
        "id": "KFn2g6bQ7A0t",
        "outputId": "e61c1c4a-4d50-48be-9afc-3e7e25a7dd79"
      },
      "execution_count": 2,
      "outputs": [
        {
          "output_type": "execute_result",
          "data": {
            "text/plain": [
              "0"
            ]
          },
          "metadata": {},
          "execution_count": 2
        }
      ]
    },
    {
      "cell_type": "code",
      "source": [
        "class Person:\n",
        "    def __init__(self, name, age):\n",
        "        self.name = name\n",
        "        self.age = age\n",
        "    \n",
        "    @classmethod\n",
        "    def tuple_object(cls, args):\n",
        "        return cls(args[0], args[1])\n",
        "        \n",
        "\n",
        "name = 'kim'\n",
        "age = 24\n",
        "p = Person(name, age)\n",
        "\n",
        "info = name, age\n",
        "a = Person.tuple_object(info)\n",
        "a.age"
      ],
      "metadata": {
        "colab": {
          "base_uri": "https://localhost:8080/"
        },
        "id": "tTqBH_zX16Cj",
        "outputId": "843917de-8b1d-4f13-bfbd-430c92766cc0"
      },
      "execution_count": 3,
      "outputs": [
        {
          "output_type": "execute_result",
          "data": {
            "text/plain": [
              "24"
            ]
          },
          "metadata": {},
          "execution_count": 3
        }
      ]
    },
    {
      "cell_type": "code",
      "source": [
        "p.name"
      ],
      "metadata": {
        "colab": {
          "base_uri": "https://localhost:8080/",
          "height": 35
        },
        "id": "w0LuK7dI3ioY",
        "outputId": "76938e18-7e87-4c53-e48c-b4dcee501b19"
      },
      "execution_count": null,
      "outputs": [
        {
          "output_type": "execute_result",
          "data": {
            "text/plain": [
              "'kim'"
            ],
            "application/vnd.google.colaboratory.intrinsic+json": {
              "type": "string"
            }
          },
          "metadata": {},
          "execution_count": 48
        }
      ]
    },
    {
      "cell_type": "code",
      "source": [
        "class A:\n",
        "    # 붕어빵 몇 개?\n",
        "    # cnt += 1의 위치?\n",
        "    \n",
        "    cnt = 0\n",
        "    \n",
        "    def __init__(self):\n",
        "        A.cnt += 1 # 이 부분은 예외\n",
        "    \n",
        "    \n",
        "    @classmethod\n",
        "    def count(cls):\n",
        "        return f'객체 수 : {cls.cnt}'\n",
        "    \n",
        "    \n",
        "A()\n",
        "A()\n",
        "A()\n",
        "A.count() # 3"
      ],
      "metadata": {
        "colab": {
          "base_uri": "https://localhost:8080/",
          "height": 35
        },
        "id": "hiMZmPCE4XiJ",
        "outputId": "9538bb45-846a-4f31-dc3f-aa52da793d22"
      },
      "execution_count": 4,
      "outputs": [
        {
          "output_type": "execute_result",
          "data": {
            "text/plain": [
              "'객체 수 : 3'"
            ],
            "application/vnd.google.colaboratory.intrinsic+json": {
              "type": "string"
            }
          },
          "metadata": {},
          "execution_count": 4
        }
      ]
    },
    {
      "cell_type": "markdown",
      "source": [
        "###메서드 타입 2\n",
        "- 정적 메서드\n",
        "    - 클래스 메서드와의 공통점: 객체를 생성하지 않아도 됨\n",
        "    - 클래스랑 전혀 상관이 없기 때문에 접근이 가능한 것\n",
        "    - 내용이나 기능이 클래스와 비슷하여 클래스 내에 묶어 둠\n",
        "- 추상 메서드\n",
        "    - 추상 클래스를 선언을 하고 사용\n",
        "    - abstract 이름만 존재함\n",
        "    - 설계도 역할:클래스 안의 메서드와 변수가 엄청 많은데 이것을 한 줄로 간단하게 표현할 수 있는 기능\n",
        "- 추상클래스를 상속하는 자식클래스는 반드시 추상 메서드를 정의해야함"
      ],
      "metadata": {
        "id": "qE0wTkIR7xik"
      }
    },
    {
      "cell_type": "code",
      "source": [
        "# 3. 정적 메서드\n",
        "class Coyote:\n",
        "    @staticmethod\n",
        "    def says(): # self 없음. 딕셔너리에 저장하는 것과 비슷\n",
        "        print('hi')\n",
        "        \n",
        "Coyote.says()"
      ],
      "metadata": {
        "id": "YXN6hJP351nJ",
        "colab": {
          "base_uri": "https://localhost:8080/"
        },
        "outputId": "4b193283-0264-415a-8b87-f26752c5ec8b"
      },
      "execution_count": 6,
      "outputs": [
        {
          "output_type": "stream",
          "name": "stdout",
          "text": [
            "hi\n"
          ]
        }
      ]
    },
    {
      "cell_type": "code",
      "source": [
        "# 4. 추상 메서드\n",
        "from abc import *\n",
        "\n",
        "# 추상 클래스 설정하는 방법: metaclass=ABCMeta\n",
        "class Vehicle(metaclass=ABCMeta):\n",
        "    speed = '속도'\n",
        "    \n",
        "    #데코레이터\n",
        "    @abstractmethod\n",
        "    def go(self):\n",
        "        print('탈 것이 간다.')\n",
        "        \n",
        "    \n",
        "    def stop(self):\n",
        "        pass\n",
        "    \n",
        "    \n",
        "# go를 override하지 않으면 인스턴스를 만들 수 없음\n",
        "class Car(Vehicle):\n",
        "    # go를 선언해줘야 만들어짐\n",
        "    def go(self):\n",
        "        print(\"\")\n",
        "\n",
        "Car()"
      ],
      "metadata": {
        "colab": {
          "base_uri": "https://localhost:8080/"
        },
        "id": "3Y4N7_t087m_",
        "outputId": "b71aed77-1474-4751-e5af-863d565ebc1f"
      },
      "execution_count": 7,
      "outputs": [
        {
          "output_type": "execute_result",
          "data": {
            "text/plain": [
              "<__main__.Car at 0x7fb08569f6d0>"
            ]
          },
          "metadata": {},
          "execution_count": 7
        }
      ]
    }
  ]
}