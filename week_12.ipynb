{
  "nbformat": 4,
  "nbformat_minor": 0,
  "metadata": {
    "colab": {
      "name": "week_12.ipynb",
      "provenance": []
    },
    "kernelspec": {
      "name": "python3",
      "display_name": "Python 3"
    },
    "language_info": {
      "name": "python"
    }
  },
  "cells": [
    {
      "cell_type": "code",
      "execution_count": null,
      "metadata": {
        "id": "BioGJdDl5odk"
      },
      "outputs": [],
      "source": [
        "Store, Item, Customer\n",
        "\n",
        "# 1. AbCustomer -> Customer(상속)\n",
        "# 2. Person <- Customer(Person)"
      ]
    },
    {
      "cell_type": "code",
      "source": [
        "class Store:\n",
        "    def __init__(self, customer):\n",
        "        self.customer = customer\n",
        "        self.item = item\n",
        "        self.item_list = self.item.name, self.item.price\n",
        "\n",
        "class Item:\n",
        "    name\n",
        "    cnt\n",
        "    price\n",
        "\n",
        "    pass\n",
        "\n",
        "class Seller:"
      ],
      "metadata": {
        "id": "uJ52fzHw6Aqa"
      },
      "execution_count": null,
      "outputs": []
    },
    {
      "cell_type": "markdown",
      "source": [
        "### 매직메소드\n",
        "- special method\n",
        "- _ _ \\ _ _ : 특별한 용도\n",
        "- str, repr"
      ],
      "metadata": {
        "id": "SKi1jKso6iho"
      }
    },
    {
      "cell_type": "code",
      "source": [
        "class Customer:\n",
        "    def __init__(self, name):\n",
        "        self.name = name\n",
        "\n",
        "    def __str__(self):\n",
        "        # print() 함수로 나온 출력 값을 변경하는 것\n",
        "\n",
        "        return self.name\n",
        "\n",
        "    def __repr__(self):\n",
        "        # 설정 안하면 __str__과 동일 함\n",
        "        # 인스턴스 출력하는 방식 => 사용자가 이해하는 객체의 모습을 표현\n",
        "        return f'Customer({self.name})' ### Customer(객체이름)\n",
        "\n",
        "c = Customer('kim')\n",
        "c"
      ],
      "metadata": {
        "colab": {
          "base_uri": "https://localhost:8080/"
        },
        "id": "MTtp9WzN6aGX",
        "outputId": "1c23ce3a-c064-4146-9dfc-aaea23222535"
      },
      "execution_count": null,
      "outputs": [
        {
          "output_type": "execute_result",
          "data": {
            "text/plain": [
              "Customer(kim)"
            ]
          },
          "metadata": {},
          "execution_count": 2
        }
      ]
    },
    {
      "cell_type": "markdown",
      "source": [
        "### NamedTuple, DataClass\n",
        "- 객체보다 효율적임(간단한 속성만 가진 클래스일 경우 활용)\n",
        "- 딕셔너리 키 처럼 사용 가능하다\n",
        "- 불변 객체"
      ],
      "metadata": {
        "id": "uJbGkxhP73Yd"
      }
    },
    {
      "cell_type": "code",
      "source": [
        "# 메서드 없을 때 단순화\n",
        "from collections import namedtuple\n",
        "\n",
        "Customer = namedtuple('Customer', 'name age')\n",
        "a = Customer('lee',44)\n",
        "a.name, a.age"
      ],
      "metadata": {
        "colab": {
          "base_uri": "https://localhost:8080/"
        },
        "id": "gIdX66Sh7RWk",
        "outputId": "a73fd1b2-59f3-462f-ccc6-4668a4b61bed"
      },
      "execution_count": null,
      "outputs": [
        {
          "output_type": "execute_result",
          "data": {
            "text/plain": [
              "('lee', 44)"
            ]
          },
          "metadata": {},
          "execution_count": 4
        }
      ]
    },
    {
      "cell_type": "code",
      "source": [
        "from dataclasses import dataclass\n",
        "# 3.7 이상에서만\n",
        "\n",
        "@dataclass\n",
        "class Customer2:\n",
        "    name: str\n",
        "    age: int\n",
        "\n",
        "b = Customer2('hong', 88)\n",
        "b.name, b.age"
      ],
      "metadata": {
        "colab": {
          "base_uri": "https://localhost:8080/"
        },
        "id": "i-hj7Dk_8a59",
        "outputId": "4b85c633-cbcc-4ff8-9aea-b111552dd8dd"
      },
      "execution_count": null,
      "outputs": [
        {
          "output_type": "execute_result",
          "data": {
            "text/plain": [
              "('hong', 88)"
            ]
          },
          "metadata": {},
          "execution_count": 6
        }
      ]
    },
    {
      "cell_type": "markdown",
      "source": [
        "## 함수 2\n",
        "- *, * *\n",
        "- 일급객체\n",
        "- 내부함수, 클로저\n",
        "- 익명함수\n",
        "- 제네레이터\n",
        "- 재귀함수"
      ],
      "metadata": {
        "id": "nTvbMXfn9Ac0"
      }
    },
    {
      "cell_type": "code",
      "source": [
        "def print_args(*args): # 여러 개의 인자 받을 수 있음 >> 패킹\n",
        "    print(args)\n",
        "    print(*args) # 튜플 언패킹 해서 출력\n",
        "\n",
        "print_args(1,2,3,4,5,6)"
      ],
      "metadata": {
        "colab": {
          "base_uri": "https://localhost:8080/"
        },
        "id": "hPD2cCog84Jz",
        "outputId": "3a916efe-ee86-4a1e-a9b1-26b4f6083ccb"
      },
      "execution_count": null,
      "outputs": [
        {
          "output_type": "stream",
          "name": "stdout",
          "text": [
            "(1, 2, 3, 4, 5, 6)\n",
            "1 2 3 4 5 6\n"
          ]
        }
      ]
    },
    {
      "cell_type": "code",
      "source": [
        "def print_more(num1, num2, *args):\n",
        "    print(num1, num2)\n",
        "    print(*args, 'optional')\n",
        "\n",
        "print_more(1,2) # args는 안넣어줘도 됨"
      ],
      "metadata": {
        "colab": {
          "base_uri": "https://localhost:8080/"
        },
        "id": "EvVs-TpK9XlH",
        "outputId": "709ee03e-e1bf-4b7a-febf-a6bd1fa8dbf9"
      },
      "execution_count": null,
      "outputs": [
        {
          "output_type": "stream",
          "name": "stdout",
          "text": [
            "1 2\n",
            "optional\n"
          ]
        }
      ]
    },
    {
      "cell_type": "code",
      "source": [
        "# 함수 밖에서도 사용 가능\n",
        "empty = list(range(10))\n",
        "print(*empty)"
      ],
      "metadata": {
        "colab": {
          "base_uri": "https://localhost:8080/"
        },
        "id": "HW6xYefP9rcG",
        "outputId": "f38bd57e-210c-4a7c-e3a0-15c64c71c807"
      },
      "execution_count": null,
      "outputs": [
        {
          "output_type": "stream",
          "name": "stdout",
          "text": [
            "0 1 2 3 4 5 6 7 8 9\n"
          ]
        }
      ]
    },
    {
      "cell_type": "code",
      "source": [
        "# 행렬, 테이블 데이터\n",
        "matrix = [\n",
        "          [1,2],\n",
        "          [3,4],\n",
        "          [5,6]\n",
        "]\n",
        "\n",
        "# 1, 3, 5, 2, 4, 6 (열만 타고 싶다)\n",
        "for item in zip(*matrix):\n",
        "    print(item)"
      ],
      "metadata": {
        "colab": {
          "base_uri": "https://localhost:8080/"
        },
        "id": "9qkH8bMe900F",
        "outputId": "ab98205b-dab0-4750-f8c2-6c2e5097e8ba"
      },
      "execution_count": null,
      "outputs": [
        {
          "output_type": "stream",
          "name": "stdout",
          "text": [
            "(1, 3, 5)\n",
            "(2, 4, 6)\n"
          ]
        }
      ]
    },
    {
      "cell_type": "code",
      "source": [
        "for item in zip([1,2],[3,4],[5,6]):\n",
        "    print(item)"
      ],
      "metadata": {
        "colab": {
          "base_uri": "https://localhost:8080/"
        },
        "id": "HF6B17ym-L5o",
        "outputId": "f050dd77-23e2-4bf6-ba55-e0e9f5a9373c"
      },
      "execution_count": null,
      "outputs": [
        {
          "output_type": "stream",
          "name": "stdout",
          "text": [
            "(1, 3, 5)\n",
            "(2, 4, 6)\n"
          ]
        }
      ]
    },
    {
      "cell_type": "code",
      "source": [
        "# 키워드 전용 인수 선언 시 사용\n",
        "def print_data(data, start, end):\n",
        "    for item in data[start:end]:\n",
        "        print(item)\n",
        "\n",
        "print_data(empty, start = 0, end = 4)"
      ],
      "metadata": {
        "colab": {
          "base_uri": "https://localhost:8080/"
        },
        "id": "fo2tXzEt-e3n",
        "outputId": "99ed7de6-d02d-4fae-f820-faff1e7843bf"
      },
      "execution_count": null,
      "outputs": [
        {
          "output_type": "stream",
          "name": "stdout",
          "text": [
            "0\n",
            "1\n",
            "2\n",
            "3\n"
          ]
        }
      ]
    },
    {
      "cell_type": "markdown",
      "source": [
        "kargs : **"
      ],
      "metadata": {
        "id": "94Y4KFwa-19W"
      }
    },
    {
      "cell_type": "code",
      "source": [
        "def print_kargs(**kargs): # 키: 값 => 딕셔너리로 반환\n",
        "    print(kargs)\n",
        "\n",
        "print_kargs(wine = 'crianza', drink = 'warter')"
      ],
      "metadata": {
        "colab": {
          "base_uri": "https://localhost:8080/"
        },
        "id": "6Q9izdV6-y2T",
        "outputId": "1ae966e8-bc27-4c2a-d85b-9cd57496b9ea"
      },
      "execution_count": null,
      "outputs": [
        {
          "output_type": "stream",
          "name": "stdout",
          "text": [
            "{'wine': 'crianza', 'drink': 'warter'}\n"
          ]
        }
      ]
    },
    {
      "cell_type": "code",
      "source": [
        "for wine in ['cabernet', 'crianza', 'shiraz']:\n",
        "    print_kargs(wine=wine, drink='water')"
      ],
      "metadata": {
        "colab": {
          "base_uri": "https://localhost:8080/"
        },
        "id": "seY4wOfW_MnX",
        "outputId": "4d930121-ab6a-42d5-fcf6-c1d2f4c3754c"
      },
      "execution_count": null,
      "outputs": [
        {
          "output_type": "stream",
          "name": "stdout",
          "text": [
            "{'wine': 'cabernet', 'drink': 'water'}\n",
            "{'wine': 'crianza', 'drink': 'water'}\n",
            "{'wine': 'shiraz', 'drink': 'water'}\n"
          ]
        }
      ]
    },
    {
      "cell_type": "code",
      "source": [
        "def print_kargs(**kargs):\n",
        "    kargs['wine'] = 'crianza' # 원하는 것 설정 가능\n",
        "                              # 키가 없으면 에러 발생하니 get() 사용\n",
        "    print(kargs)\n",
        "    \n",
        "print_kargs(beer='Budwizer', drink='water')"
      ],
      "metadata": {
        "colab": {
          "base_uri": "https://localhost:8080/"
        },
        "id": "Z3_7ifQWj5kV",
        "outputId": "4ad126c4-51bc-4eb3-9993-066d10951e2f"
      },
      "execution_count": 2,
      "outputs": [
        {
          "output_type": "stream",
          "name": "stdout",
          "text": [
            "{'beer': 'Budwizer', 'drink': 'water', 'wine': 'crianza'}\n"
          ]
        }
      ]
    },
    {
      "cell_type": "code",
      "source": [
        "# *, ** 둘 다 사용 가능\n",
        "# 키워드 전용 인수의 필요성\n",
        "def print_all(num1,num2,*args,**kargs):\n",
        "    print(num1, num2)\n",
        "    print(sum(args))\n",
        "    print(kargs)\n",
        "\n",
        "print_all(1,2,3,4,5,num=4)"
      ],
      "metadata": {
        "colab": {
          "base_uri": "https://localhost:8080/"
        },
        "id": "YmqteRl0_ec5",
        "outputId": "02f343bf-9608-44b8-b8e3-fc26a0be6ef7"
      },
      "execution_count": null,
      "outputs": [
        {
          "output_type": "stream",
          "name": "stdout",
          "text": [
            "1 2\n",
            "12\n",
            "{'num': 4}\n"
          ]
        }
      ]
    },
    {
      "cell_type": "code",
      "source": [
        "# 딕셔너리 조인\n",
        "a = {1: 'a', 2: 'b'}\n",
        "b = {2: 'c', 3: 'd'}\n",
        "c = {**a, **b}"
      ],
      "metadata": {
        "id": "RWHH42bL_5G7"
      },
      "execution_count": null,
      "outputs": []
    },
    {
      "cell_type": "code",
      "source": [
        ""
      ],
      "metadata": {
        "id": "1E1yNrpnAHqj"
      },
      "execution_count": null,
      "outputs": []
    }
  ]
}