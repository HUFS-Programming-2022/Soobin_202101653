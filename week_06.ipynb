{
  "nbformat": 4,
  "nbformat_minor": 0,
  "metadata": {
    "colab": {
      "name": "Week_06.ipynb",
      "provenance": [],
      "collapsed_sections": [
        "J4BznXHHZOXB"
      ]
    },
    "kernelspec": {
      "name": "python3",
      "display_name": "Python 3"
    },
    "language_info": {
      "name": "python"
    }
  },
  "cells": [
    {
      "cell_type": "markdown",
      "source": [
        "## NLTK Inaugural"
      ],
      "metadata": {
        "id": "mlwvNQ5fRAYi"
      }
    },
    {
      "cell_type": "code",
      "execution_count": null,
      "metadata": {
        "id": "9Gn5CzetQ-6W"
      },
      "outputs": [],
      "source": [
        "import nltk\n",
        "nltk.download('inaugural')\n",
        "nltk.download('genesis')\n",
        "nltk.download('gutenberg')\n",
        "nltk.download('nps_chat')\n",
        "nltk.download('webtext')\n",
        "nltk.download('treebank')\n",
        "from nltk.book import *\n",
        "nltk.download('book', quiet=True)"
      ]
    },
    {
      "cell_type": "code",
      "source": [
        "brown = nltk.corpus.brown"
      ],
      "metadata": {
        "id": "UajjehwtRMJJ"
      },
      "execution_count": 3,
      "outputs": []
    },
    {
      "cell_type": "code",
      "source": [
        "cfd = nltk.ConditionalFreqDist(\n",
        "    (genre, word)\n",
        "    for genre in brown.categories()\n",
        "    for word in brown.words(categories=genre)\n",
        ")\n",
        "\n",
        "modals = ['can', 'could', 'would', 'will', 'might', 'may']\n",
        "cfd.tabulate(conditions=brown.categories(), samples=modals)"
      ],
      "metadata": {
        "id": "6y3Tvt7SRR1O"
      },
      "execution_count": null,
      "outputs": []
    },
    {
      "cell_type": "code",
      "source": [
        "# modal의 빈도수가 포함된 cfd (word->modal verb)\n",
        "cfd1 = nltk.ConditionalFreqDist(\n",
        "    (genre, word)\n",
        "    for genre in brown.categories()\n",
        "    for modal in ['can', 'could', 'would', 'will', 'might', 'may']\n",
        "\n",
        "    for word in brown.words(categories=genre)\n",
        "      if word.lower() == modal\n",
        ")\n",
        "cfd1.tabulate()"
      ],
      "metadata": {
        "colab": {
          "base_uri": "https://localhost:8080/"
        },
        "id": "lwJFHhWuR0GC",
        "outputId": "8b431425-bff7-4307-b952-87184a34484a"
      },
      "execution_count": null,
      "outputs": [
        {
          "output_type": "stream",
          "name": "stdout",
          "text": [
            "                  Can Could   May Might  Will Would   can could   may might  will would \n",
            "      adventure     2     3     2     1     1     3    46   151     5    58    50   191 \n",
            " belles_lettres     3     3    14     0    10     5   246   213   207   113   236   392 \n",
            "      editorial     3     1     5     0     2     5   121    56    74    39   233   180 \n",
            "        fiction     2     2     2     0     4     4    37   166     8    44    52   287 \n",
            "     government     2     0    26     0     0     0   117    38   153    13   244   120 \n",
            "        hobbies     8     1    12     0     5     5   268    58   131    22   264    78 \n",
            "          humor     1     3     0     0     0     0    16    30     8     8    13    56 \n",
            "        learned     2     0    12     0     0     2   365   159   324   128   340   319 \n",
            "           lore     0     1     5     1     3     2   170   141   165    49   175   186 \n",
            "        mystery     3     4     2     0     5     3    42   141    13    57    20   186 \n",
            "           news     1     1    27     0     0     2    93    86    66    38   389   244 \n",
            "       religion     2     0     1     0     1     1    82    59    78    12    71    68 \n",
            "        reviews     0     0     2     0     3     1    45    40    45    26    58    47 \n",
            "        romance     5     2     0     0     6     3    74   193    11    51    43   244 \n",
            "science_fiction     0     0     0     0     1     1    16    49     4    12    16    79 \n"
          ]
        }
      ]
    },
    {
      "cell_type": "markdown",
      "source": [
        "### Inaugural\n",
        "- 연설문 코퍼스"
      ],
      "metadata": {
        "id": "dg7OUCAdSMSi"
      }
    },
    {
      "cell_type": "code",
      "source": [
        "inaugural = nltk.corpus.inaugural"
      ],
      "metadata": {
        "id": "rhLVczyfSIrH"
      },
      "execution_count": null,
      "outputs": []
    },
    {
      "cell_type": "code",
      "source": [
        "inaugural.fileids()"
      ],
      "metadata": {
        "id": "9ipfKHqFSZDk"
      },
      "execution_count": null,
      "outputs": []
    },
    {
      "cell_type": "code",
      "source": [
        "import matplotlib.pyplot as plt"
      ],
      "metadata": {
        "id": "qwCy8PdAPL56"
      },
      "execution_count": 1,
      "outputs": []
    },
    {
      "cell_type": "code",
      "source": [
        "cfd2 = nltk.ConditionalFreqDist(\n",
        "    (target_word, fileid)\n",
        "    for fileid in inaugural.fileids()\n",
        "    for target_word in ['america','citizen']\n",
        "\n",
        "    for word in inaugural.words(fileids=fileid)\n",
        "      if target_word in word.lower()\n",
        ")\n",
        "plt.figure(figsize=(12,5))\n",
        "cfd2.plot()"
      ],
      "metadata": {
        "colab": {
          "base_uri": "https://localhost:8080/",
          "height": 428
        },
        "id": "4FFgK6Y1SfTI",
        "outputId": "34684c8d-cf22-43a6-fe82-9ed6bcd7b8f9"
      },
      "execution_count": 6,
      "outputs": [
        {
          "output_type": "display_data",
          "data": {
            "text/plain": [
              "<Figure size 864x360 with 1 Axes>"
            ],
            "image/png": "[encoded data removed]"
          },
          "metadata": {
            "needs_background": "light"
          }
        }
      ]
    },
    {
      "cell_type": "markdown",
      "source": [
        "### Tuple & List\n",
        "- 불변 객체 vs 가변 객체"
      ],
      "metadata": {
        "id": "ABqG5ySzWEZN"
      }
    },
    {
      "cell_type": "code",
      "source": [
        "# 1. 생성\n",
        "emptyT = ()\n",
        "emptyT = tuple()\n",
        "\n",
        "emptyL = []\n",
        "emptyL = list()"
      ],
      "metadata": {
        "id": "L1J2mn_wVLIl"
      },
      "execution_count": null,
      "outputs": []
    },
    {
      "cell_type": "code",
      "source": [
        "# 1.1 요소 여러 개일 때\n",
        "alphabetT = ('a', 'b')\n",
        "alphabetT = 'a', 'b'\n",
        "print(alphabetT)\n",
        "\n",
        "alphabetL = ['a', 'b']"
      ],
      "metadata": {
        "colab": {
          "base_uri": "https://localhost:8080/"
        },
        "id": "EpHMKHsLWc_h",
        "outputId": "50521e26-0d9e-4eda-dc3d-b510867896ef"
      },
      "execution_count": null,
      "outputs": [
        {
          "output_type": "stream",
          "name": "stdout",
          "text": [
            "('a', 'b')\n"
          ]
        }
      ]
    },
    {
      "cell_type": "code",
      "source": [
        "# 1.2 요소 한 개일 때\n",
        "alphaT = ('a',) # 뒤에 쉼표 넣어줘야 함 안그러면 문자열 됨\n",
        "\n",
        "alphaT = 'b',"
      ],
      "metadata": {
        "id": "KOlp2KeeWzQy"
      },
      "execution_count": null,
      "outputs": []
    },
    {
      "cell_type": "markdown",
      "source": [
        "- packing: 한 변수에 여러 데이터를 할당하는 것.\n",
        "  - list,tuple 자체.\n",
        "  - a = [1,2,3,4]\n",
        "- unpacking: 한 변수에 여러 데이터가 들어 있을 때 여러 변수에 나누는 것\n",
        "  - a = 'k' b = 'i' c = 'm'"
      ],
      "metadata": {
        "id": "OEKGcvQUXNNB"
      }
    },
    {
      "cell_type": "code",
      "source": [
        "a, b, c = 'kim'\n",
        "a, b, c"
      ],
      "metadata": {
        "colab": {
          "base_uri": "https://localhost:8080/"
        },
        "id": "j_6eWl74XL7C",
        "outputId": "f8728cc1-0bcd-41e9-f7f8-a83439989624"
      },
      "execution_count": null,
      "outputs": [
        {
          "output_type": "execute_result",
          "data": {
            "text/plain": [
              "('k', 'i', 'm')"
            ]
          },
          "metadata": {},
          "execution_count": 28
        }
      ]
    },
    {
      "cell_type": "code",
      "source": [
        "# 값 교환하기\n",
        "pwd = '1234'\n",
        "userid = '12344'\n",
        "\n",
        "pwd, userid = userid, pwd\n",
        "pwd, userid"
      ],
      "metadata": {
        "colab": {
          "base_uri": "https://localhost:8080/"
        },
        "id": "xVREjYIuXu8i",
        "outputId": "39a7372e-1198-4708-e5fb-c177f06324d7"
      },
      "execution_count": null,
      "outputs": [
        {
          "output_type": "execute_result",
          "data": {
            "text/plain": [
              "('12344', '1234')"
            ]
          },
          "metadata": {},
          "execution_count": 29
        }
      ]
    },
    {
      "cell_type": "code",
      "source": [
        "# 연산\n",
        "('a',) + ('1','2')\n",
        "('a',)*3"
      ],
      "metadata": {
        "colab": {
          "base_uri": "https://localhost:8080/"
        },
        "id": "RFBPBFZxYFEm",
        "outputId": "a593b125-be12-4e8e-8d51-59a790183708"
      },
      "execution_count": null,
      "outputs": [
        {
          "output_type": "execute_result",
          "data": {
            "text/plain": [
              "('a', 'a', 'a')"
            ]
          },
          "metadata": {},
          "execution_count": 32
        }
      ]
    },
    {
      "cell_type": "code",
      "source": [
        "# 비교\n",
        "x = 1, 2\n",
        "y = 1, 6\n",
        "x < y"
      ],
      "metadata": {
        "colab": {
          "base_uri": "https://localhost:8080/"
        },
        "id": "haV0R4M4YW_b",
        "outputId": "87ba8057-bd6b-4374-e69f-e9fa2c100eb1"
      },
      "execution_count": 8,
      "outputs": [
        {
          "output_type": "execute_result",
          "data": {
            "text/plain": [
              "True"
            ]
          },
          "metadata": {},
          "execution_count": 8
        }
      ]
    },
    {
      "cell_type": "code",
      "source": [
        "# 순회\n",
        "for i in x:\n",
        "  print(x)"
      ],
      "metadata": {
        "colab": {
          "base_uri": "https://localhost:8080/"
        },
        "id": "V1oKYySUYm4m",
        "outputId": "7cba8a0f-fb1e-4225-f501-34132f314d74"
      },
      "execution_count": null,
      "outputs": [
        {
          "output_type": "stream",
          "name": "stdout",
          "text": [
            "(1, 2)\n",
            "(1, 2)\n"
          ]
        }
      ]
    },
    {
      "cell_type": "code",
      "source": [
        "# tuple comprehension???\n",
        "tuple([i for i in x])"
      ],
      "metadata": {
        "colab": {
          "base_uri": "https://localhost:8080/"
        },
        "id": "9ksiI6HuYr-b",
        "outputId": "e7043319-e80e-4795-e3e7-3a19ce50e667"
      },
      "execution_count": null,
      "outputs": [
        {
          "output_type": "execute_result",
          "data": {
            "text/plain": [
              "(1, 2)"
            ]
          },
          "metadata": {},
          "execution_count": 35
        }
      ]
    },
    {
      "cell_type": "code",
      "source": [
        "# 형변환\n",
        "dog = 'dog'\n",
        "dogT = tuple(dog)"
      ],
      "metadata": {
        "id": "Cqg2zOk8Y5mu"
      },
      "execution_count": null,
      "outputs": []
    },
    {
      "cell_type": "code",
      "source": [
        "(dog,)"
      ],
      "metadata": {
        "colab": {
          "base_uri": "https://localhost:8080/"
        },
        "id": "ZsAZg252ZBGL",
        "outputId": "766ce88f-b18e-4366-80fd-32d76c793f5b"
      },
      "execution_count": null,
      "outputs": [
        {
          "output_type": "execute_result",
          "data": {
            "text/plain": [
              "('dog',)"
            ]
          },
          "metadata": {},
          "execution_count": 37
        }
      ]
    },
    {
      "cell_type": "code",
      "source": [
        "list(dog)"
      ],
      "metadata": {
        "colab": {
          "base_uri": "https://localhost:8080/"
        },
        "id": "XlBDjB16ZDYE",
        "outputId": "f5cbba25-40ba-4779-a445-a1878b59ed83"
      },
      "execution_count": null,
      "outputs": [
        {
          "output_type": "execute_result",
          "data": {
            "text/plain": [
              "['d', 'o', 'g']"
            ]
          },
          "metadata": {},
          "execution_count": 38
        }
      ]
    },
    {
      "cell_type": "code",
      "source": [
        "#slicing도 동일하게 가능하다\n",
        "dogT[0]"
      ],
      "metadata": {
        "colab": {
          "base_uri": "https://localhost:8080/",
          "height": 35
        },
        "id": "NxMefuyEZGch",
        "outputId": "a6c0f03d-5d05-40db-e395-f2f129c542cd"
      },
      "execution_count": null,
      "outputs": [
        {
          "output_type": "execute_result",
          "data": {
            "text/plain": [
              "'d'"
            ],
            "application/vnd.google.colaboratory.intrinsic+json": {
              "type": "string"
            }
          },
          "metadata": {},
          "execution_count": 39
        }
      ]
    },
    {
      "cell_type": "markdown",
      "source": [
        "### 정리\n",
        "- tuple 장점\n",
        "  - 변하지 않는 데이터 시퀀스를 만들 수 있다. 타인의 접근 막는다\n",
        "  - 메모리 사용이 적다.\n",
        "\n",
        "- list 장점\n",
        "  - 튜플 장점 필요없을 때 전부 리스트 사용\n",
        "  - 데이터를 순차적으로 파악할 때\n",
        "  - 중복 데이터를 쓸 수 있다는 점 vs set"
      ],
      "metadata": {
        "id": "J4BznXHHZOXB"
      }
    },
    {
      "cell_type": "markdown",
      "source": [
        "### 리스트의 유용한 함수들\n",
        "- 변경, 삭제, 추가\n",
        "- 리스트컴프리핸션 업그레이드"
      ],
      "metadata": {
        "id": "skaVwSw2Zkf6"
      }
    },
    {
      "cell_type": "code",
      "source": [
        "num = list(range(5))\n",
        "num"
      ],
      "metadata": {
        "colab": {
          "base_uri": "https://localhost:8080/"
        },
        "id": "hH30osxAZkGL",
        "outputId": "0e3c491f-d5b1-4c93-c5da-b3057b772b01"
      },
      "execution_count": null,
      "outputs": [
        {
          "output_type": "execute_result",
          "data": {
            "text/plain": [
              "[0, 1, 2, 3, 4]"
            ]
          },
          "metadata": {},
          "execution_count": 52
        }
      ]
    },
    {
      "cell_type": "code",
      "source": [
        "# 추가\n",
        "num.append(6) # 마지막에 요소 1개 추가"
      ],
      "metadata": {
        "id": "9Bb-OIThZ1jl"
      },
      "execution_count": null,
      "outputs": []
    },
    {
      "cell_type": "code",
      "source": [
        "# insert(index, item)\n",
        "num.insert(0, 8)\n",
        "num"
      ],
      "metadata": {
        "colab": {
          "base_uri": "https://localhost:8080/"
        },
        "id": "NJ57SxHWaFgV",
        "outputId": "a08e6786-2458-42ea-8019-70f2fb2e0289"
      },
      "execution_count": null,
      "outputs": [
        {
          "output_type": "execute_result",
          "data": {
            "text/plain": [
              "[8, 0, 1, 2, 3, 4, 6]"
            ]
          },
          "metadata": {},
          "execution_count": 54
        }
      ]
    },
    {
      "cell_type": "code",
      "source": [
        "# 여러개 추가\n",
        "x = [9, 9, 9]\n",
        "num.extend(x)\n",
        "num"
      ],
      "metadata": {
        "colab": {
          "base_uri": "https://localhost:8080/"
        },
        "id": "21PGbG-iaSAB",
        "outputId": "82703b9c-9eb3-4d40-c875-bd5dd3b9ba9d"
      },
      "execution_count": null,
      "outputs": [
        {
          "output_type": "execute_result",
          "data": {
            "text/plain": [
              "[8, 0, 1, 2, 3, 4, 6, 9, 9, 9]"
            ]
          },
          "metadata": {},
          "execution_count": 55
        }
      ]
    },
    {
      "cell_type": "code",
      "source": [
        "num.append(x)\n",
        "num"
      ],
      "metadata": {
        "colab": {
          "base_uri": "https://localhost:8080/"
        },
        "id": "96FjgkvzaeRZ",
        "outputId": "dfa1e2a8-d6bc-44e0-8895-acf2e5788d13"
      },
      "execution_count": null,
      "outputs": [
        {
          "output_type": "execute_result",
          "data": {
            "text/plain": [
              "[8, 0, 1, 2, 3, 4, 6, 9, 9, 9, [9, 9, 9]]"
            ]
          },
          "metadata": {},
          "execution_count": 56
        }
      ]
    },
    {
      "cell_type": "code",
      "source": [
        "num += x\n",
        "num"
      ],
      "metadata": {
        "colab": {
          "base_uri": "https://localhost:8080/"
        },
        "id": "Bfnxvp9OasuJ",
        "outputId": "bd507b3d-960a-42c2-bffa-07acc454279f"
      },
      "execution_count": null,
      "outputs": [
        {
          "output_type": "execute_result",
          "data": {
            "text/plain": [
              "[8, 0, 1, 2, 3, 4, 6, 9, 9, 9, [9, 9, 9], 9, 9, 9]"
            ]
          },
          "metadata": {},
          "execution_count": 57
        }
      ]
    },
    {
      "cell_type": "code",
      "source": [
        "# offset\n",
        "num[0] = 9\n",
        "num"
      ],
      "metadata": {
        "colab": {
          "base_uri": "https://localhost:8080/"
        },
        "id": "1-R8nHgAava4",
        "outputId": "658874e6-d6ff-45e2-9c54-6f9371f68bd3"
      },
      "execution_count": null,
      "outputs": [
        {
          "output_type": "execute_result",
          "data": {
            "text/plain": [
              "[9, 0, 1, 2, 3, 4, 6, 9, 9, 9, [9, 9, 9], 9, 9, 9]"
            ]
          },
          "metadata": {},
          "execution_count": 58
        }
      ]
    },
    {
      "cell_type": "code",
      "source": [
        "# slice\n",
        "num[:3] = 2, 2, 2\n",
        "num"
      ],
      "metadata": {
        "colab": {
          "base_uri": "https://localhost:8080/"
        },
        "id": "fEunozKHa3y9",
        "outputId": "0de779e1-5ad7-4084-e42c-41c816d5103a"
      },
      "execution_count": null,
      "outputs": [
        {
          "output_type": "execute_result",
          "data": {
            "text/plain": [
              "[2, 2, 2, 2, 3, 4, 6, 9, 9, 9, [9, 9, 9], 9, 9, 9]"
            ]
          },
          "metadata": {},
          "execution_count": 59
        }
      ]
    },
    {
      "cell_type": "code",
      "source": [
        "# srt 넣을 때 한글자씩 unpacking 되서 들어감\n",
        "num[:3] = 'cat'\n",
        "num"
      ],
      "metadata": {
        "colab": {
          "base_uri": "https://localhost:8080/"
        },
        "id": "X7weF-NEa93e",
        "outputId": "646e60e3-f4e5-49c4-d0d5-a8b690895f8b"
      },
      "execution_count": null,
      "outputs": [
        {
          "output_type": "execute_result",
          "data": {
            "text/plain": [
              "['c', 'a', 't', 2, 3, 4, 6, 9, 9, 9, [9, 9, 9], 9, 9, 9]"
            ]
          },
          "metadata": {},
          "execution_count": 60
        }
      ]
    },
    {
      "cell_type": "code",
      "source": [
        "# 삭제\n",
        "# del\n",
        "del num[:3]\n",
        "num"
      ],
      "metadata": {
        "colab": {
          "base_uri": "https://localhost:8080/"
        },
        "id": "Q0V_ebn2bE3m",
        "outputId": "133b58b6-e347-4ebe-a582-915d9a822f85"
      },
      "execution_count": null,
      "outputs": [
        {
          "output_type": "execute_result",
          "data": {
            "text/plain": [
              "[2, 3, 4, 6, 9, 9, 9, [9, 9, 9], 9, 9, 9]"
            ]
          },
          "metadata": {},
          "execution_count": 61
        }
      ]
    },
    {
      "cell_type": "code",
      "source": [
        "# remove(value)\n",
        "num.remove([9,9,9])\n",
        "num"
      ],
      "metadata": {
        "colab": {
          "base_uri": "https://localhost:8080/"
        },
        "id": "59d9dBO3bJAo",
        "outputId": "83b9f29a-abb8-4759-a41e-ddaf726ecdc4"
      },
      "execution_count": null,
      "outputs": [
        {
          "output_type": "execute_result",
          "data": {
            "text/plain": [
              "[2, 3, 4, 6, 9, 9, 9, 9, 9, 9]"
            ]
          },
          "metadata": {},
          "execution_count": 62
        }
      ]
    },
    {
      "cell_type": "code",
      "source": [
        "# pop(index) 기본값은 -1\n",
        "num.pop(0)\n",
        "num"
      ],
      "metadata": {
        "colab": {
          "base_uri": "https://localhost:8080/"
        },
        "id": "XzDymBJ_bS08",
        "outputId": "1b011196-38dc-43b2-f80b-a94de619124c"
      },
      "execution_count": null,
      "outputs": [
        {
          "output_type": "execute_result",
          "data": {
            "text/plain": [
              "[3, 4, 6, 9, 9, 9, 9, 9, 9]"
            ]
          },
          "metadata": {},
          "execution_count": 63
        }
      ]
    },
    {
      "cell_type": "code",
      "source": [
        "# clear\n",
        "num.clear()\n",
        "num"
      ],
      "metadata": {
        "colab": {
          "base_uri": "https://localhost:8080/"
        },
        "id": "_0-kKdlobXSJ",
        "outputId": "d0d474e5-1aca-43b0-a188-5692a18b1a5b"
      },
      "execution_count": null,
      "outputs": [
        {
          "output_type": "execute_result",
          "data": {
            "text/plain": [
              "[]"
            ]
          },
          "metadata": {},
          "execution_count": 64
        }
      ]
    },
    {
      "cell_type": "code",
      "source": [
        "# 인덱스\n",
        "num = list(range(5))\n",
        "num.index(4)\n"
      ],
      "metadata": {
        "colab": {
          "base_uri": "https://localhost:8080/"
        },
        "id": "geG2g6K6bj6M",
        "outputId": "7bdd3ecc-9ff7-48b8-99c8-7dbb3966125f"
      },
      "execution_count": null,
      "outputs": [
        {
          "output_type": "execute_result",
          "data": {
            "text/plain": [
              "4"
            ]
          },
          "metadata": {},
          "execution_count": 65
        }
      ]
    },
    {
      "cell_type": "code",
      "source": [
        "0 in num"
      ],
      "metadata": {
        "colab": {
          "base_uri": "https://localhost:8080/"
        },
        "id": "89XmUhdcbtMp",
        "outputId": "7f7bdf2b-e35b-4ec4-833f-964ca33602a1"
      },
      "execution_count": null,
      "outputs": [
        {
          "output_type": "execute_result",
          "data": {
            "text/plain": [
              "True"
            ]
          },
          "metadata": {},
          "execution_count": 66
        }
      ]
    },
    {
      "cell_type": "code",
      "source": [
        "# 정렬: sort(), sorted()\n",
        "sorted(num, reverse=True) # 변한 값만 복사해서 출력"
      ],
      "metadata": {
        "colab": {
          "base_uri": "https://localhost:8080/"
        },
        "id": "9MCMJQ4WbvP8",
        "outputId": "9bb38aeb-af88-4252-ff72-0a7523af4c85"
      },
      "execution_count": null,
      "outputs": [
        {
          "output_type": "execute_result",
          "data": {
            "text/plain": [
              "[4, 3, 2, 1, 0]"
            ]
          },
          "metadata": {},
          "execution_count": 67
        }
      ]
    },
    {
      "cell_type": "code",
      "source": [
        "num.sort(reverse=True)\n",
        "num"
      ],
      "metadata": {
        "colab": {
          "base_uri": "https://localhost:8080/"
        },
        "id": "BLFXZSFCb5aW",
        "outputId": "cab9e5c4-a6a2-42b7-b01d-4bd4e7787c28"
      },
      "execution_count": null,
      "outputs": [
        {
          "output_type": "execute_result",
          "data": {
            "text/plain": [
              "[4, 3, 2, 1, 0]"
            ]
          },
          "metadata": {},
          "execution_count": 68
        }
      ]
    },
    {
      "cell_type": "code",
      "source": [
        "# reverse(). reversed(0)\n",
        "num.reverse()\n",
        "reversed(num)"
      ],
      "metadata": {
        "colab": {
          "base_uri": "https://localhost:8080/"
        },
        "id": "Iiexxj6yb-b_",
        "outputId": "3a346572-466e-4a37-eaa7-33eb5b4d12ae"
      },
      "execution_count": null,
      "outputs": [
        {
          "output_type": "execute_result",
          "data": {
            "text/plain": [
              "<list_reverseiterator at 0x7ff328b14c50>"
            ]
          },
          "metadata": {},
          "execution_count": 69
        }
      ]
    },
    {
      "cell_type": "code",
      "source": [
        "# 할당\n",
        "a = list(range(1,5))\n",
        "a"
      ],
      "metadata": {
        "colab": {
          "base_uri": "https://localhost:8080/"
        },
        "id": "E8Od5QqhcIoE",
        "outputId": "e405c49e-8d1b-413c-bee4-45567673c2c0"
      },
      "execution_count": 10,
      "outputs": [
        {
          "output_type": "execute_result",
          "data": {
            "text/plain": [
              "[1, 2, 3, 4]"
            ]
          },
          "metadata": {},
          "execution_count": 10
        }
      ]
    },
    {
      "cell_type": "code",
      "source": [
        "# =로 넣으면 같은 메모리 주소를 참조함\n",
        "# a가 바뀌면 b도 같이 변하는 것\n",
        "b = a\n",
        "b[0] = 6\n",
        "a, b"
      ],
      "metadata": {
        "colab": {
          "base_uri": "https://localhost:8080/"
        },
        "id": "fL__Zb-wecU_",
        "outputId": "83afeb18-12e7-4d3b-bbb6-e1de51d21831"
      },
      "execution_count": 11,
      "outputs": [
        {
          "output_type": "execute_result",
          "data": {
            "text/plain": [
              "([6, 2, 3, 4], [6, 2, 3, 4])"
            ]
          },
          "metadata": {},
          "execution_count": 11
        }
      ]
    },
    {
      "cell_type": "code",
      "source": [
        "id(a), id(b)"
      ],
      "metadata": {
        "colab": {
          "base_uri": "https://localhost:8080/"
        },
        "id": "Ifzker3cehXZ",
        "outputId": "45f5fee0-db0a-40ab-d2b7-47fdbbe68609"
      },
      "execution_count": null,
      "outputs": [
        {
          "output_type": "execute_result",
          "data": {
            "text/plain": [
              "(140682344886016, 140682344886016)"
            ]
          },
          "metadata": {},
          "execution_count": 72
        }
      ]
    },
    {
      "cell_type": "code",
      "source": [
        "# shallow copy: 참조하지 않고 새로운 객체에 할당하는 방법. 얕은 복사\n",
        "c = a.copy()\n",
        "d = list(a)\n",
        "e = a[:]\n",
        "\n",
        "id(a), id(e), id(b), id(c)"
      ],
      "metadata": {
        "colab": {
          "base_uri": "https://localhost:8080/"
        },
        "id": "iVkLSA6VerCs",
        "outputId": "559555f7-c30c-4c0b-c60a-f0af7a280dea"
      },
      "execution_count": 13,
      "outputs": [
        {
          "output_type": "execute_result",
          "data": {
            "text/plain": [
              "(140461992321344, 140461992806272, 140461992321344, 140461992914448)"
            ]
          },
          "metadata": {},
          "execution_count": 13
        }
      ]
    },
    {
      "cell_type": "code",
      "source": [
        "# deepcopy: 깊은 복사, 하위에 중첩된 리스트 요소가 안 바뀌도록\n",
        "a.append([1,2,3])\n",
        "a"
      ],
      "metadata": {
        "colab": {
          "base_uri": "https://localhost:8080/"
        },
        "id": "f3ojdFJqe8y8",
        "outputId": "1f9685de-a3d5-4960-879c-ae9269cc942e"
      },
      "execution_count": null,
      "outputs": [
        {
          "output_type": "execute_result",
          "data": {
            "text/plain": [
              "[6, 2, 3, 4, [1, 2, 3]]"
            ]
          },
          "metadata": {},
          "execution_count": 74
        }
      ]
    },
    {
      "cell_type": "code",
      "source": [
        "f = a.copy()\n",
        "\n",
        "# 리스트 안에 있는 어떤 요소가 가변 객체일 때\n",
        "# (a의 경우 지금 가변 객체인 리스트가 들어감)\n",
        "# 주소는 다름\n",
        "id(a), id(f)"
      ],
      "metadata": {
        "colab": {
          "base_uri": "https://localhost:8080/"
        },
        "id": "TVSs6fs0fJ_a",
        "outputId": "231a80b9-8733-41e9-8a6f-6d392c485bac"
      },
      "execution_count": null,
      "outputs": [
        {
          "output_type": "execute_result",
          "data": {
            "text/plain": [
              "(140682344886016, 140682344962160)"
            ]
          },
          "metadata": {},
          "execution_count": 75
        }
      ]
    },
    {
      "cell_type": "code",
      "source": [
        "# shallow copy 했는데도 같이 변함\n",
        "f[-1][0] = 9\n",
        "a, f"
      ],
      "metadata": {
        "colab": {
          "base_uri": "https://localhost:8080/"
        },
        "id": "PZTkLbFMfU9i",
        "outputId": "3acf8b87-4820-40d1-8b14-0102dc3f459f"
      },
      "execution_count": null,
      "outputs": [
        {
          "output_type": "execute_result",
          "data": {
            "text/plain": [
              "([6, 2, 3, 4, [9, 2, 3]], [6, 2, 3, 4, [9, 2, 3]])"
            ]
          },
          "metadata": {},
          "execution_count": 76
        }
      ]
    },
    {
      "cell_type": "code",
      "source": [
        "# 같이 변하는게 싫을 때 deepcopy 사용\n",
        "import copy\n",
        "g = copy.deepcopy(a)\n",
        "g"
      ],
      "metadata": {
        "colab": {
          "base_uri": "https://localhost:8080/"
        },
        "id": "etFnjh_jfdC9",
        "outputId": "4653c0aa-226f-4c23-b471-51a1a72f9fef"
      },
      "execution_count": null,
      "outputs": [
        {
          "output_type": "execute_result",
          "data": {
            "text/plain": [
              "[6, 2, 3, 4, [9, 2, 3]]"
            ]
          },
          "metadata": {},
          "execution_count": 77
        }
      ]
    },
    {
      "cell_type": "code",
      "source": [
        "g[-1][0] = 10\n",
        "a, g"
      ],
      "metadata": {
        "colab": {
          "base_uri": "https://localhost:8080/"
        },
        "id": "VTnsvg38fiYf",
        "outputId": "b8748988-11c0-4406-ebfd-dc22100bb6a4"
      },
      "execution_count": null,
      "outputs": [
        {
          "output_type": "execute_result",
          "data": {
            "text/plain": [
              "([6, 2, 3, 4, [9, 2, 3]], [6, 2, 3, 4, [10, 2, 3]])"
            ]
          },
          "metadata": {},
          "execution_count": 78
        }
      ]
    },
    {
      "cell_type": "code",
      "source": [
        "# 순회 zip, enumerate\n",
        "\n",
        "# zip: 여러 리스트 동시 순회\n",
        "# 만약 리스트 길이가 다르다면 짧은 것을 기준으로 순회함\n",
        "\n",
        "name = ['kate', 'royce', 'phill']\n",
        "age = [77, 41, 43]\n",
        "\n",
        "# (name, age)\n",
        "for item1, item2 in zip(name, age):\n",
        "  print((item1, item2))"
      ],
      "metadata": {
        "colab": {
          "base_uri": "https://localhost:8080/"
        },
        "id": "RaHQTOS_flc7",
        "outputId": "02bbd2eb-7246-4604-d05c-33864de1dd13"
      },
      "execution_count": 15,
      "outputs": [
        {
          "output_type": "stream",
          "name": "stdout",
          "text": [
            "('kate', 77)\n",
            "('royce', 41)\n",
            "('phill', 43)\n"
          ]
        }
      ]
    },
    {
      "cell_type": "code",
      "source": [
        "for item1 in name:\n",
        "  for item in age:\n",
        "    print((item1,item2))"
      ],
      "metadata": {
        "colab": {
          "base_uri": "https://localhost:8080/"
        },
        "id": "XoN43IOlgKuW",
        "outputId": "49fb8e0f-b552-4d84-f9d0-8d8a0952d660"
      },
      "execution_count": null,
      "outputs": [
        {
          "output_type": "stream",
          "name": "stdout",
          "text": [
            "('kate', 43)\n",
            "('kate', 43)\n",
            "('kate', 43)\n",
            "('royce', 43)\n",
            "('royce', 43)\n",
            "('royce', 43)\n",
            "('phill', 43)\n",
            "('phill', 43)\n",
            "('phill', 43)\n"
          ]
        }
      ]
    },
    {
      "cell_type": "code",
      "source": [
        "# 더 쉽게 가는 법\n",
        "list(zip(name,age))"
      ],
      "metadata": {
        "colab": {
          "base_uri": "https://localhost:8080/"
        },
        "id": "X1o25ljhgSxO",
        "outputId": "9c3d45e9-2be0-4519-bc33-56de6a6203fb"
      },
      "execution_count": null,
      "outputs": [
        {
          "output_type": "execute_result",
          "data": {
            "text/plain": [
              "[('kate', 77), ('royce', 41), ('phill', 43)]"
            ]
          },
          "metadata": {},
          "execution_count": 81
        }
      ]
    },
    {
      "cell_type": "code",
      "source": [
        "# 리스트 + 인덱스: enumerate\n",
        "for idx, item in enumerate(name):\n",
        "  print(idx, item)"
      ],
      "metadata": {
        "colab": {
          "base_uri": "https://localhost:8080/"
        },
        "id": "-vdDtBy9gVaf",
        "outputId": "d9a29eb8-3ef4-4c41-e1ac-08e8beed161b"
      },
      "execution_count": 16,
      "outputs": [
        {
          "output_type": "stream",
          "name": "stdout",
          "text": [
            "0 kate\n",
            "1 royce\n",
            "2 phill\n"
          ]
        }
      ]
    },
    {
      "cell_type": "code",
      "source": [
        "[word for word in zip(name, age)]"
      ],
      "metadata": {
        "colab": {
          "base_uri": "https://localhost:8080/"
        },
        "id": "O052ZPNWgi5-",
        "outputId": "c037bdda-3564-4bd6-e653-9fd2dd54409f"
      },
      "execution_count": null,
      "outputs": [
        {
          "output_type": "execute_result",
          "data": {
            "text/plain": [
              "[('kate', 77), ('royce', 41), ('phill', 43)]"
            ]
          },
          "metadata": {},
          "execution_count": 83
        }
      ]
    },
    {
      "cell_type": "code",
      "source": [
        "# name, age를 이용해서 새로운 리스트를 생성하는데 (이름,나이), for문 사용\n",
        "nameage = []\n",
        "for item1, item2 in zip(name,age):\n",
        "  nameage.append((item1,item2))\n",
        "nameage"
      ],
      "metadata": {
        "colab": {
          "base_uri": "https://localhost:8080/"
        },
        "id": "llFm1WDugtpX",
        "outputId": "1e2a2d1c-841c-4ea6-d00b-263912b0bddc"
      },
      "execution_count": null,
      "outputs": [
        {
          "output_type": "execute_result",
          "data": {
            "text/plain": [
              "[('kate', 77), ('royce', 41), ('phill', 43)]"
            ]
          },
          "metadata": {},
          "execution_count": 84
        }
      ]
    },
    {
      "cell_type": "code",
      "source": [
        "age = [12, 33, 23]"
      ],
      "metadata": {
        "id": "HlAE6PDsiwu5"
      },
      "execution_count": null,
      "outputs": []
    },
    {
      "cell_type": "code",
      "source": [
        "# 1. for문의 리컴으로 바꿔보기\n",
        "[(i,j) for i,j in zip(name,age)]"
      ],
      "metadata": {
        "colab": {
          "base_uri": "https://localhost:8080/"
        },
        "id": "DieNW0HxhkNN",
        "outputId": "fc6104eb-528a-4d5f-b9ab-946951d58d41"
      },
      "execution_count": null,
      "outputs": [
        {
          "output_type": "execute_result",
          "data": {
            "text/plain": [
              "[('kate', 12), ('royce', 33), ('phill', 23)]"
            ]
          },
          "metadata": {},
          "execution_count": 86
        }
      ]
    },
    {
      "cell_type": "code",
      "source": [
        "#2. [i, j]가 리스트로 들어가는 리스트로 바꿔보기 (list comprehension 사용)\n",
        "[(i,j) for j in age for i in name]"
      ],
      "metadata": {
        "colab": {
          "base_uri": "https://localhost:8080/"
        },
        "id": "RMNdcBari4Uu",
        "outputId": "058561cc-7f19-4dbd-e78f-5c6ccc2f9b21"
      },
      "execution_count": null,
      "outputs": [
        {
          "output_type": "execute_result",
          "data": {
            "text/plain": [
              "[('kate', 12),\n",
              " ('royce', 12),\n",
              " ('phill', 12),\n",
              " ('kate', 33),\n",
              " ('royce', 33),\n",
              " ('phill', 33),\n",
              " ('kate', 23),\n",
              " ('royce', 23),\n",
              " ('phill', 23)]"
            ]
          },
          "metadata": {},
          "execution_count": 87
        }
      ]
    },
    {
      "cell_type": "code",
      "source": [
        "# 2. [i,j] 리스트의 리스트로 바꿔보기 리컴사용\n",
        "[[[i ,j] for j in age] for i in name]"
      ],
      "metadata": {
        "colab": {
          "base_uri": "https://localhost:8080/"
        },
        "id": "o2Yx0HKYicTD",
        "outputId": "981cb648-fd5d-484c-8de1-4dd2417acf17"
      },
      "execution_count": null,
      "outputs": [
        {
          "output_type": "execute_result",
          "data": {
            "text/plain": [
              "[[['kate', 12], ['kate', 33], ['kate', 23]],\n",
              " [['royce', 12], ['royce', 33], ['royce', 23]],\n",
              " [['phill', 12], ['phill', 33], ['phill', 23]]]"
            ]
          },
          "metadata": {},
          "execution_count": 88
        }
      ]
    },
    {
      "cell_type": "code",
      "source": [
        "sentence = \"do not judge a book by its cover\"\n",
        "\n",
        "# [(대문자, 첫글자대문자, 글자수), ...] 리스트 만들기\n",
        "[(word.upper(),word.title(),len(word)) for word in sentence.split()]"
      ],
      "metadata": {
        "colab": {
          "base_uri": "https://localhost:8080/"
        },
        "id": "BSz3GZUzkZuq",
        "outputId": "bdd1fac3-323c-4626-ea43-3c4bde55ed9d"
      },
      "execution_count": null,
      "outputs": [
        {
          "output_type": "execute_result",
          "data": {
            "text/plain": [
              "[('DO', 'Do', 2),\n",
              " ('NOT', 'Not', 3),\n",
              " ('JUDGE', 'Judge', 5),\n",
              " ('A', 'A', 1),\n",
              " ('BOOK', 'Book', 4),\n",
              " ('BY', 'By', 2),\n",
              " ('ITS', 'Its', 3),\n",
              " ('COVER', 'Cover', 5)]"
            ]
          },
          "metadata": {},
          "execution_count": 89
        }
      ]
    },
    {
      "cell_type": "code",
      "source": [
        "text = [\n",
        "        ['Sunja', 'said', 'goodnight', 'to', 'her', 'mother'],\n",
        "        ['Hansu', 'was', 'no', 'longer', 'in', 'busan']\n",
        "]\n",
        "\n",
        "# 1. 문장마다 스트링으로 변환해서 리스트로 반환\n",
        "# 예시: ['문장1', '문장2']\n",
        "print([' '.join(sent) for sent in text])\n",
        "\n",
        "# 2. 전체를 스트링으로 반환\n",
        "# 예시: '문장1 문장2'\n",
        "print(' '.join([' '.join(sent) for sent in text]))\n",
        "\n",
        "# 3. 전체 단어 리스트 가져오기\n",
        "print([word for sent in text for word in sent])\n"
      ],
      "metadata": {
        "colab": {
          "base_uri": "https://localhost:8080/"
        },
        "id": "0kMGU_CgmvPZ",
        "outputId": "7069b6de-e696-411c-f02d-377b7bf989d4"
      },
      "execution_count": 18,
      "outputs": [
        {
          "output_type": "stream",
          "name": "stdout",
          "text": [
            "['Sunja said goodnight to her mother', 'Hansu was no longer in busan']\n",
            "Sunja said goodnight to her mother Hansu was no longer in busan\n",
            "['Sunja', 'said', 'goodnight', 'to', 'her', 'mother', 'Hansu', 'was', 'no', 'longer', 'in', 'busan']\n"
          ]
        }
      ]
    },
    {
      "cell_type": "code",
      "source": [
        "# if문 - else\n",
        "[i for i in range(10)] # 짝수는 가져오고 홀수는 '홀수'"
      ],
      "metadata": {
        "colab": {
          "base_uri": "https://localhost:8080/"
        },
        "id": "PjLCNg2Goy4Q",
        "outputId": "f8ad5639-458d-45bc-c326-5005906585b7"
      },
      "execution_count": null,
      "outputs": [
        {
          "output_type": "execute_result",
          "data": {
            "text/plain": [
              "[0, 1, 2, 3, 4, 5, 6, 7, 8, 9]"
            ]
          },
          "metadata": {},
          "execution_count": 91
        }
      ]
    },
    {
      "cell_type": "code",
      "source": [
        "# else를 사용할 떄는 조건문을 for 앞으로 가져와야 함\n",
        "[i if i%2 == 0 else '홀수' for i in range(10)]"
      ],
      "metadata": {
        "colab": {
          "base_uri": "https://localhost:8080/"
        },
        "id": "I-5yYA2rpq51",
        "outputId": "ecb2c1d2-335b-4642-a042-a217c9142f7d"
      },
      "execution_count": null,
      "outputs": [
        {
          "output_type": "execute_result",
          "data": {
            "text/plain": [
              "[0, '홀수', 2, '홀수', 4, '홀수', 6, '홀수', 8, '홀수']"
            ]
          },
          "metadata": {},
          "execution_count": 92
        }
      ]
    },
    {
      "cell_type": "code",
      "source": [
        "brown.raw(categories='romance'[:5000]) # [['They', 'neither', 'liked', ...], [...]]\n",
        "# 문장 분절 -> 단어 분절\n",
        "# 불필요한 것들 제거하기\n",
        "# 문장부호, POS 제거\n",
        "# 's , 'nt (she's -> she, 's) (don't -> do, 'nt)\n",
        "#fly-dotted -> fly, dotted"
      ],
      "metadata": {
        "id": "0YOSsBnDqi2C"
      },
      "execution_count": null,
      "outputs": []
    },
    {
      "cell_type": "code",
      "source": [
        ""
      ],
      "metadata": {
        "id": "r6JDVSH0hDIK"
      },
      "execution_count": null,
      "outputs": []
    }
  ]
}
