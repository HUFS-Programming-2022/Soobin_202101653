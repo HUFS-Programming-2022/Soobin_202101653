{
  "nbformat": 4,
  "nbformat_minor": 0,
  "metadata": {
    "colab": {
      "name": "week_03.ipynb",
      "provenance": [],
      "collapsed_sections": []
    },
    "kernelspec": {
      "name": "python3",
      "display_name": "Python 3"
    },
    "language_info": {
      "name": "python"
    }
  },
  "cells": [
    {
      "cell_type": "markdown",
      "source": [
        "## 중첩조건문(nested conditional)\n",
        "- if 블록 안에 또 if 블록이 만들어지는 경우\n",
        "  - 예:if..\n",
        "  \n",
        "          if...\n",
        "                if...\n",
        "  - 구분은 들여쓰기로 한다.\n",
        "  - 조건이 여러 개일 경우 사용한다.\n",
        "  - 더 예쁜 방법을 찾아본다."
      ],
      "metadata": {
        "id": "S5odYUGNJePZ"
      }
    },
    {
      "cell_type": "code",
      "execution_count": null,
      "metadata": {
        "colab": {
          "base_uri": "https://localhost:8080/"
        },
        "id": "DmA4jgpJJTyi",
        "outputId": "ec842f47-2d26-4170-dab8-b323855e6f63"
      },
      "outputs": [
        {
          "output_type": "stream",
          "name": "stdout",
          "text": [
            "Block B\n",
            "B\n",
            "\n",
            "B\n",
            "B\n"
          ]
        }
      ],
      "source": [
        "x = 0\n",
        "y = 4\n",
        "\n",
        "#안좋은 예 1\n",
        "if x == y:\n",
        "  print(\"Block A\")\n",
        "else:\n",
        "  if x < y:\n",
        "    print(\"Block B\")\n",
        "  else:\n",
        "    print(\"Block C\")\n",
        "\n",
        "  #수정 1\n",
        "  if x == y:\n",
        "    print('A')\n",
        "  elif x < y:\n",
        "    print('B')\n",
        "  else:\n",
        "    print('C')\n",
        "\n",
        "  # 안좋은 예 2\n",
        "if x > 0:\n",
        "    print('A')\n",
        "    if x < 10:\n",
        "        print('B')\n",
        "    else:\n",
        "        print()\n",
        "else:\n",
        "    print()\n",
        "\n",
        "#수정2\n",
        "# 방법 1\n",
        "if x > 0 and x < 10: # 논리연산자 사용\n",
        "    print('A')\n",
        "else:\n",
        "    print('B')\n",
        "\n",
        "\n",
        "# 방법 2\n",
        "if 0 < x < 10: # 파이썬에서만 가능\n",
        "    print('A')\n",
        "else:\n",
        "    print('B')"
      ]
    },
    {
      "cell_type": "code",
      "source": [
        ""
      ],
      "metadata": {
        "id": "7n86YrAaKQEt"
      },
      "execution_count": null,
      "outputs": []
    },
    {
      "cell_type": "markdown",
      "source": [
        "## 논리연산자\n",
        "- 비교 연산 조건을 여러 번 사용하는 경우\n",
        "  - x > 0, x < 10\n",
        "- and, or, not\n",
        "  - A and B: A 그리고 B. A,B 둘다가 참일때 True\n",
        "  - A or B: A 혹은 B. 둘 중 하나만 참이면 True\n",
        "  - not A: A가 참이면 False, 거짓이면 True"
      ],
      "metadata": {
        "id": "uti1zrTLK18U"
      }
    },
    {
      "cell_type": "markdown",
      "source": [
        "## True/False\n",
        "- A = True\n",
        "- \"만약 A가 참이면, ...\""
      ],
      "metadata": {
        "id": "OIhGOQKbLW-u"
      }
    },
    {
      "cell_type": "code",
      "source": [
        "a = 1\n",
        "if a == True:\n",
        "  print()\n",
        "if a: #아무것도 안쓰면 참으로 간주\n",
        "  print()"
      ],
      "metadata": {
        "id": "TyQMEz6hLWl1",
        "colab": {
          "base_uri": "https://localhost:8080/"
        },
        "outputId": "c886839b-2941-463c-f98d-3dd2ec109d71"
      },
      "execution_count": null,
      "outputs": [
        {
          "output_type": "stream",
          "name": "stdout",
          "text": [
            "\n",
            "\n"
          ]
        }
      ]
    },
    {
      "cell_type": "markdown",
      "source": [
        "## in\n",
        "- membership operator\n",
        "- 요소가 안에 포함되어 있는가 or 비슷한 조건문이 여럿일 때\n",
        "- A in B = A가 B에 포함되어 있냐"
      ],
      "metadata": {
        "id": "JSAQ8luwLy8C"
      }
    },
    {
      "cell_type": "code",
      "source": [
        "# ex1. 모음인지 아닌지 판별하라 (a, e, i, o, u)"
      ],
      "metadata": {
        "id": "KclWBD9LLsa3"
      },
      "execution_count": null,
      "outputs": []
    },
    {
      "cell_type": "code",
      "source": [
        "letter = 'k'\n",
        "if letter in ['a', 'e', 'i', 'o', 'u']:\n",
        "  print(\"yes\")\n",
        "else:\n",
        "  print(\"NO\")"
      ],
      "metadata": {
        "colab": {
          "base_uri": "https://localhost:8080/"
        },
        "id": "jSdvjHH1NCEj",
        "outputId": "1fa2934b-ea6b-4d0a-b840-71721107ce74"
      },
      "execution_count": null,
      "outputs": [
        {
          "output_type": "stream",
          "name": "stdout",
          "text": [
            "NO\n"
          ]
        }
      ]
    },
    {
      "cell_type": "code",
      "source": [
        "# 단어에 모음이 있는지 확인\n",
        "word = \"apple\"\n",
        "if 'a' or 'e' or 'i'or 'o' or 'u' in word:\n",
        "  print(\"yes\")"
      ],
      "metadata": {
        "colab": {
          "base_uri": "https://localhost:8080/"
        },
        "id": "Agr4MDfKMNaz",
        "outputId": "be15e7ed-2bfd-4947-f8a8-1a98550938fb"
      },
      "execution_count": null,
      "outputs": [
        {
          "output_type": "stream",
          "name": "stdout",
          "text": [
            "yes\n"
          ]
        }
      ]
    },
    {
      "cell_type": "markdown",
      "source": [
        "## 코끼리연산자\n",
        "- walrus operator\n",
        "- :=\n",
        "- 할당 + 테스트 동시에 하는 기능"
      ],
      "metadata": {
        "id": "tTb8KbLmNY89"
      }
    },
    {
      "cell_type": "code",
      "source": [
        "tweet_limit = 200\n",
        "tweet_sting = 'blah' * 50\n",
        "len(tweet_sting)\n",
        "diff = tweet_limit - len(tweet_sting)\n",
        "if diff > 0:\n",
        "  print(\"가능하다\")\n",
        "else:\n",
        "  print(\"불가능하다.\")"
      ],
      "metadata": {
        "colab": {
          "base_uri": "https://localhost:8080/"
        },
        "id": "i1wHeY3oNiGV",
        "outputId": "df5d5972-376d-4532-856f-af56f2b9b8f3"
      },
      "execution_count": null,
      "outputs": [
        {
          "output_type": "stream",
          "name": "stdout",
          "text": [
            "불가능하다.\n"
          ]
        }
      ]
    },
    {
      "cell_type": "code",
      "source": [
        "tweet_limit = 200\n",
        "tweet_sting = 'blah' * 50\n",
        "len(tweet_sting)\n",
        "diff = tweet_limit - len(tweet_sting)\n",
        "if (diff := tweet_limit - len(tweet_sting)) > 0: # 코랩에서 안됨..\n",
        "  print('yes')\n",
        "else: print('no')"
      ],
      "metadata": {
        "colab": {
          "base_uri": "https://localhost:8080/",
          "height": 137
        },
        "id": "9yleiAxfNyKf",
        "outputId": "88f23cfe-c24d-4083-e76f-327269113c27"
      },
      "execution_count": null,
      "outputs": [
        {
          "output_type": "error",
          "ename": "SyntaxError",
          "evalue": "ignored",
          "traceback": [
            "\u001b[0;36m  File \u001b[0;32m\"<ipython-input-15-9863080c90df>\"\u001b[0;36m, line \u001b[0;32m5\u001b[0m\n\u001b[0;31m    if (diff := tweet_limit - len(tweet_sting)) > 0:\u001b[0m\n\u001b[0m             ^\u001b[0m\n\u001b[0;31mSyntaxError\u001b[0m\u001b[0;31m:\u001b[0m invalid syntax\n"
          ]
        }
      ]
    },
    {
      "cell_type": "markdown",
      "source": [
        "## 퀴즈 1\n",
        "- 윤년을 구해봅시다.\n",
        "  - 연도 입력받는다.\n",
        "  - 4로 나눠지면 윤년\n",
        "  - 100으로 나눠지면 안된다\n",
        "  - 400으로 나눠지면 윤년\n",
        "- 출력: '{}년은 윤년입니다.'/'아닙니다.'"
      ],
      "metadata": {
        "id": "3maxQ0uxOoZx"
      }
    },
    {
      "cell_type": "code",
      "source": [
        "year = int(input('연도를 입력하세요:'))\n",
        "if (year % 4 == 0 and year % 100 != 0) or year % 400 == 0 :\n",
        "  print(f'{year}년은 윤년입니다.')\n",
        "else:\n",
        "  print(f'{year}년은 윤년이 아닙니다.')"
      ],
      "metadata": {
        "colab": {
          "base_uri": "https://localhost:8080/"
        },
        "id": "kfA32RQ4OChX",
        "outputId": "01110fe7-a96f-4261-8599-04bf22c3ab24"
      },
      "execution_count": null,
      "outputs": [
        {
          "output_type": "stream",
          "name": "stdout",
          "text": [
            "연도를 입력하세요:1000\n",
            "1000년은 윤년이 아닙니다.\n"
          ]
        }
      ]
    },
    {
      "cell_type": "markdown",
      "source": [
        "## String | 문자열\n",
        "- 시스템에서 가장 작은 단위.\n",
        "- 불변적인 성격을 가진다. immutable\n",
        "  - 예: jack -> jeck \n",
        "- ', \"으로 선언한다.\n",
        "  - 예: \"25.5\"\n",
        "  -''',\"\"\" 주석이다\n",
        "- 형변환은 str()\n",
        "\n",
        "### escape character | 이스케이프 문자\n",
        "- 특수한 형태의 문자열. 눈에 보이는 대로 인식되지 않는 문자\n",
        "- \\ + ch\n",
        "- 예: \\n, \\t, \\b, \\', \\\", ...\n",
        " - \\n 출력하고 싶다?\n",
        " - \\\\n 이런 식으로 작성\n",
        " - r''\n",
        "- 다른 스트링을 만드는 것이 아님."
      ],
      "metadata": {
        "id": "fdvI3htDR953"
      }
    },
    {
      "cell_type": "code",
      "source": [
        "sent = 'hello\\nworld'\n",
        "print(sent)\n",
        "sent"
      ],
      "metadata": {
        "colab": {
          "base_uri": "https://localhost:8080/",
          "height": 72
        },
        "id": "TckJknNgSuEa",
        "outputId": "4e96a8c6-e7f7-461a-a373-733c81a3814a"
      },
      "execution_count": null,
      "outputs": [
        {
          "output_type": "stream",
          "name": "stdout",
          "text": [
            "hello\n",
            "world\n"
          ]
        },
        {
          "output_type": "execute_result",
          "data": {
            "text/plain": [
              "'hello\\nworld'"
            ],
            "application/vnd.google.colaboratory.intrinsic+json": {
              "type": "string"
            }
          },
          "metadata": {},
          "execution_count": 19
        }
      ]
    },
    {
      "cell_type": "markdown",
      "source": [
        "### 연산\n",
        "- concatenatation\n",
        "  - \"+\" => 공백 없이 결합하는 방법\n",
        "- 곱하기\n",
        "  - \"*\"=> 복제"
      ],
      "metadata": {
        "id": "52dv_ErNTfSZ"
      }
    },
    {
      "cell_type": "code",
      "source": [
        "name = \"jack\"\n",
        "name + name"
      ],
      "metadata": {
        "colab": {
          "base_uri": "https://localhost:8080/",
          "height": 35
        },
        "id": "sWqQEirTTS0w",
        "outputId": "d0d196c8-96d3-4ce4-eb72-c1817ca02dc2"
      },
      "execution_count": null,
      "outputs": [
        {
          "output_type": "execute_result",
          "data": {
            "text/plain": [
              "'jackjack'"
            ],
            "application/vnd.google.colaboratory.intrinsic+json": {
              "type": "string"
            }
          },
          "metadata": {},
          "execution_count": 21
        }
      ]
    },
    {
      "cell_type": "code",
      "source": [
        "name * 5"
      ],
      "metadata": {
        "colab": {
          "base_uri": "https://localhost:8080/",
          "height": 35
        },
        "id": "gzPqC8PET3s-",
        "outputId": "c42c783d-83f8-4f79-8537-e0b7c0a2e653"
      },
      "execution_count": null,
      "outputs": [
        {
          "output_type": "execute_result",
          "data": {
            "text/plain": [
              "'jackjackjackjackjack'"
            ],
            "application/vnd.google.colaboratory.intrinsic+json": {
              "type": "string"
            }
          },
          "metadata": {},
          "execution_count": 22
        }
      ]
    },
    {
      "cell_type": "code",
      "source": [
        ""
      ],
      "metadata": {
        "id": "xn_YY2peT7Zb"
      },
      "execution_count": null,
      "outputs": []
    },
    {
      "cell_type": "markdown",
      "source": [
        "### 슬라이싱, 추출\n",
        "- 문자열의 일부분을 뗴어내는 작업\n",
        "- 대괄호 사용, 그 안에 오프셋을 지정\n",
        "- 오프셋은 0부터 시작한다.\n",
        "- 음수도 가능함. -1부터 시작\n",
        "- 오프셋은 [시작:끝:스텝] # step=1\n",
        "- 오프셋의 시작은 포함, 끝은 포함하지 않음 (이상 - 미만)"
      ],
      "metadata": {
        "id": "bnwSec1fUACo"
      }
    },
    {
      "cell_type": "code",
      "source": [
        "sent[3:4]"
      ],
      "metadata": {
        "colab": {
          "base_uri": "https://localhost:8080/",
          "height": 35
        },
        "id": "brvDrVoOUeZx",
        "outputId": "2fc3bcb8-434f-4d95-894a-d8de5cf7b0c5"
      },
      "execution_count": null,
      "outputs": [
        {
          "output_type": "execute_result",
          "data": {
            "text/plain": [
              "'l'"
            ],
            "application/vnd.google.colaboratory.intrinsic+json": {
              "type": "string"
            }
          },
          "metadata": {},
          "execution_count": 23
        }
      ]
    },
    {
      "cell_type": "code",
      "source": [
        "# 처음부터 5까지 출력\n",
        "sent[:6]"
      ],
      "metadata": {
        "colab": {
          "base_uri": "https://localhost:8080/",
          "height": 35
        },
        "id": "GNx7emcwUhg-",
        "outputId": "81ab46ee-fe09-46aa-d126-1e27a61ffab2"
      },
      "execution_count": null,
      "outputs": [
        {
          "output_type": "execute_result",
          "data": {
            "text/plain": [
              "'hello\\n'"
            ],
            "application/vnd.google.colaboratory.intrinsic+json": {
              "type": "string"
            }
          },
          "metadata": {},
          "execution_count": 27
        }
      ]
    },
    {
      "cell_type": "code",
      "source": [
        "# 처음부터 끝까지 2 스텝식 출력\n",
        "sent[:12:2]"
      ],
      "metadata": {
        "colab": {
          "base_uri": "https://localhost:8080/",
          "height": 35
        },
        "id": "aSon798hU5a8",
        "outputId": "1d5524d1-deb0-4ecf-c716-5f833a957aeb"
      },
      "execution_count": null,
      "outputs": [
        {
          "output_type": "execute_result",
          "data": {
            "text/plain": [
              "'hlowrd'"
            ],
            "application/vnd.google.colaboratory.intrinsic+json": {
              "type": "string"
            }
          },
          "metadata": {},
          "execution_count": 32
        }
      ]
    },
    {
      "cell_type": "code",
      "source": [
        "# 모든 글자를 거꾸로 출력하세요\n",
        "sent[::-1]"
      ],
      "metadata": {
        "colab": {
          "base_uri": "https://localhost:8080/",
          "height": 35
        },
        "id": "TABDntraVYDD",
        "outputId": "84c806d8-6b84-48a9-d343-3a2f5603ee98"
      },
      "execution_count": null,
      "outputs": [
        {
          "output_type": "execute_result",
          "data": {
            "text/plain": [
              "'dlrow\\nolleh'"
            ],
            "application/vnd.google.colaboratory.intrinsic+json": {
              "type": "string"
            }
          },
          "metadata": {},
          "execution_count": 33
        }
      ]
    },
    {
      "cell_type": "markdown",
      "source": [
        "##NLTK\n",
        "- natural language toolkit\n",
        "- 자연어 분석을 위해 교육용을 배포된 패키지\n",
        "- 내장함수, 기능들이 추가됨\n",
        "  - 토크나이즈, 파싱, 태깅, ..."
      ],
      "metadata": {
        "id": "6WvtQAQkadUi"
      }
    },
    {
      "cell_type": "code",
      "source": [
        "pip install nltk"
      ],
      "metadata": {
        "id": "CXoebwEeW5Rz"
      },
      "execution_count": null,
      "outputs": []
    },
    {
      "cell_type": "code",
      "source": [
        "import nltk\n",
        "nltk.download('book')"
      ],
      "metadata": {
        "id": "m6kmW70CayOZ"
      },
      "execution_count": null,
      "outputs": []
    },
    {
      "cell_type": "code",
      "source": [
        "from nltk import book"
      ],
      "metadata": {
        "id": "xhIIXYajbQIe"
      },
      "execution_count": null,
      "outputs": []
    },
    {
      "cell_type": "code",
      "source": [
        "moby = book.text1\n",
        "moby.tokens[:10] # 토큰에 접근하는 방법\n",
        "# 토큰: 프로그래밍의 단어 단위 hello world, I'm not a coward."
      ],
      "metadata": {
        "colab": {
          "base_uri": "https://localhost:8080/"
        },
        "id": "Frxo-SfjbV7Y",
        "outputId": "687f2965-93d4-46a6-9039-2812247fbdf3"
      },
      "execution_count": null,
      "outputs": [
        {
          "output_type": "execute_result",
          "data": {
            "text/plain": [
              "['[',\n",
              " 'Moby',\n",
              " 'Dick',\n",
              " 'by',\n",
              " 'Herman',\n",
              " 'Melville',\n",
              " '1851',\n",
              " ']',\n",
              " 'ETYMOLOGY',\n",
              " '.']"
            ]
          },
          "metadata": {},
          "execution_count": 41
        }
      ]
    },
    {
      "cell_type": "code",
      "source": [
        "# 1. 길이 세기\n",
        "len(moby)"
      ],
      "metadata": {
        "colab": {
          "base_uri": "https://localhost:8080/"
        },
        "id": "4tsXpynYePhZ",
        "outputId": "338c383e-e852-4f0a-f194-cb6628ba9d4b"
      },
      "execution_count": null,
      "outputs": [
        {
          "output_type": "execute_result",
          "data": {
            "text/plain": [
              "260819"
            ]
          },
          "metadata": {},
          "execution_count": 40
        }
      ]
    },
    {
      "cell_type": "code",
      "source": [
        "#2. 중복 없이 단어 몇 개?\n",
        "len(set(moby))"
      ],
      "metadata": {
        "colab": {
          "base_uri": "https://localhost:8080/"
        },
        "id": "vWA0RN6teh7j",
        "outputId": "04569dd5-a84d-4d45-b3b3-72af8ecab697"
      },
      "execution_count": null,
      "outputs": [
        {
          "output_type": "execute_result",
          "data": {
            "text/plain": [
              "19317"
            ]
          },
          "metadata": {},
          "execution_count": 42
        }
      ]
    },
    {
      "cell_type": "markdown",
      "source": [
        "- list\n",
        "  - ['a', a, True]\n",
        "  - 순서가 있고\n",
        "  - 중복이 허용 됨\n",
        "  - list()\n",
        "- set\n",
        "  - {'a', 2, True}\n",
        "  - 순서 없고\n",
        "  - 중복 허용 안 됨\n",
        "  - set()\n",
        "  - 수학의 집합 개념"
      ],
      "metadata": {
        "id": "jjXfI4W7flQe"
      }
    },
    {
      "cell_type": "code",
      "source": [
        "cars = ['kia', 'hyundai', 'BMW', 'BMW', 'benz', 'kia']\n",
        "cars"
      ],
      "metadata": {
        "colab": {
          "base_uri": "https://localhost:8080/"
        },
        "id": "_15d7d2Ieng5",
        "outputId": "2d2b2285-bbfd-40a8-d520-2f9573d9b014"
      },
      "execution_count": null,
      "outputs": [
        {
          "output_type": "execute_result",
          "data": {
            "text/plain": [
              "['kia', 'hyundai', 'BMW', 'BMW', 'benz', 'kia']"
            ]
          },
          "metadata": {},
          "execution_count": 43
        }
      ]
    },
    {
      "cell_type": "code",
      "source": [
        "set(cars)"
      ],
      "metadata": {
        "colab": {
          "base_uri": "https://localhost:8080/"
        },
        "id": "dIuW4WEzgJUR",
        "outputId": "66e9cc81-4ac3-4cd0-a8b8-7f87a7a6222f"
      },
      "execution_count": null,
      "outputs": [
        {
          "output_type": "execute_result",
          "data": {
            "text/plain": [
              "{'BMW', 'benz', 'hyundai', 'kia'}"
            ]
          },
          "metadata": {},
          "execution_count": 44
        }
      ]
    },
    {
      "cell_type": "code",
      "source": [
        "#lexical diversity\n",
        "len(set(moby)) / len(moby)"
      ],
      "metadata": {
        "colab": {
          "base_uri": "https://localhost:8080/"
        },
        "id": "v7eA28qsgNXf",
        "outputId": "356b0cfb-634b-43d6-ab33-e34fd0cc9cda"
      },
      "execution_count": null,
      "outputs": [
        {
          "output_type": "execute_result",
          "data": {
            "text/plain": [
              "0.07406285585022564"
            ]
          },
          "metadata": {},
          "execution_count": 45
        }
      ]
    },
    {
      "cell_type": "code",
      "source": [
        "# 정렬\n",
        "sorted(cars, reverse=True)"
      ],
      "metadata": {
        "colab": {
          "base_uri": "https://localhost:8080/"
        },
        "id": "e7KQYO3cggz3",
        "outputId": "1c7780c6-27da-4a9f-e4c6-ae8d43b20125"
      },
      "execution_count": null,
      "outputs": [
        {
          "output_type": "execute_result",
          "data": {
            "text/plain": [
              "['kia', 'kia', 'hyundai', 'benz', 'BMW', 'BMW']"
            ]
          },
          "metadata": {},
          "execution_count": 47
        }
      ]
    },
    {
      "cell_type": "code",
      "source": [
        "# 정렬\n",
        "sorted(moby[:10])"
      ],
      "metadata": {
        "colab": {
          "base_uri": "https://localhost:8080/"
        },
        "id": "uSKM_qHRgU0L",
        "outputId": "1049e79f-5e1a-456b-9fb6-323e0db1f193"
      },
      "execution_count": null,
      "outputs": [
        {
          "output_type": "execute_result",
          "data": {
            "text/plain": [
              "['.',\n",
              " '1851',\n",
              " 'Dick',\n",
              " 'ETYMOLOGY',\n",
              " 'Herman',\n",
              " 'Melville',\n",
              " 'Moby',\n",
              " '[',\n",
              " ']',\n",
              " 'by']"
            ]
          },
          "metadata": {},
          "execution_count": 48
        }
      ]
    },
    {
      "cell_type": "markdown",
      "source": [
        "### Quiz 1\n",
        "- text6 가져와서 토큰을 변수에 담고\n",
        "- 중복 없는 셋으로 저장하고 내림차순\n",
        "  - 앞에서 10개 단어 출력\n",
        "  - 단어에 z가 있으면 대문자로 바꾸시오\n",
        "  - z가 없는데 4자 이상이면 끝 글자를 대문자로 바꾸라\n",
        "\n",
        "### Quiz 2\n",
        "- 주민번호, 휴대폰 번호, 이메일 주소 입력 받는다.\n",
        "- 주민번호, 휴대폰번호는 숫자만 입력 받는다. (-없이)\n",
        "- 이메일 주소는 아이디만 입력받는다. (@xx 없이)\n",
        "  - 1. \"당신은 {}년 {}월 {}일 출생의 {남성/여성}입니다.\"\n",
        "  - 2. 휴대폰 번호: 000-0000-0000\n",
        "  - 3. 이메일주소:xxxx@gmail.com"
      ],
      "metadata": {
        "id": "HQ_kea8mg01y"
      }
    },
    {
      "cell_type": "code",
      "source": [
        "text6 = book.text6\n",
        "set(text6)\n",
        "print(text6[:10])"
      ],
      "metadata": {
        "colab": {
          "base_uri": "https://localhost:8080/"
        },
        "id": "EdVHaRZigbid",
        "outputId": "ac08c561-6f83-4deb-df2c-0bed3dfc2bd3"
      },
      "execution_count": null,
      "outputs": [
        {
          "output_type": "stream",
          "name": "stdout",
          "text": [
            "['SCENE', '1', ':', '[', 'wind', ']', '[', 'clop', 'clop', 'clop']\n"
          ]
        }
      ]
    },
    {
      "cell_type": "code",
      "source": [
        "personal_id = input(\"주민번호를 입력하세요:\")\n",
        "phone = input(\"휴대폰 번호를 입력하세요:\")\n",
        "emailaddress = input(\"이메일 주소를 입력하세요:\")\n",
        "if personal_id[6] == 1 or 3:\n",
        "  gender = '남성'\n",
        "else:\n",
        "  gender = '여성'\n",
        "if personal_id[0] == 0 or 1 or 2:\n",
        "  byear = '20' + personal_id[:2]\n",
        "else:\n",
        "  byear = '19' + personal_id[:2]\n",
        "\n",
        "print(f'''당신은 {byear}년 {personal_id[2:4]}월 {personal_id[4:6]}일 출생의 {gender}입니다.\n",
        "휴대폰 번호: {phone[:3]}-{phone[3:7]}-{phone[7:]}\n",
        "이메일주소: {emailaddress}''')"
      ],
      "metadata": {
        "id": "HZ2Pu51Oh3m9",
        "colab": {
          "base_uri": "https://localhost:8080/"
        },
        "outputId": "2ce31ef5-e4c1-4f32-8c8f-8c1de3ff3385"
      },
      "execution_count": 7,
      "outputs": [
        {
          "output_type": "stream",
          "name": "stdout",
          "text": [
            "주민번호를 입력하세요:0303033000000\n",
            "휴대폰 번호를 입력하세요:01011112222\n",
            "이메일 주소를 입력하세요:owenbai@naver.com\n",
            "당신은 2003년 03월 03일 출생의 남성입니다.\n",
            "휴대폰 번호: 010-1111-2222\n",
            "이메일주소: owenbai@naver.com\n"
          ]
        }
      ]
    }
  ]
}