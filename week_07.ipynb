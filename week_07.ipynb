{
  "nbformat": 4,
  "nbformat_minor": 0,
  "metadata": {
    "colab": {
      "name": "week_07.ipynb",
      "provenance": [],
      "collapsed_sections": []
    },
    "kernelspec": {
      "name": "python3",
      "display_name": "Python 3"
    },
    "language_info": {
      "name": "python"
    }
  },
  "cells": [
    {
      "cell_type": "markdown",
      "source": [
        "## 함수\n",
        "- 1. 정의\n",
        "- 2. 인수\n",
        "- 3. 호출 방식"
      ],
      "metadata": {
        "id": "i4jo8gPqVCv7"
      }
    },
    {
      "cell_type": "markdown",
      "source": [
        "#### 1. 정의\n",
        "- 코드의 덩어리, 코드의 묶음\n",
        "- 간편한 재사용을 위해. 한 줄로 재사용 가능하다.\n",
        "- 정의 부분(define) + 호출 부분(call)\n",
        "  - 정의하기\n",
        "\n",
        "  def 함수이름(매개변수 1,2,3...):\n",
        "\n",
        "      수행문1\n",
        "\n",
        "      수행문2\n",
        "    \n",
        "      ...\n",
        "\n",
        "      return 반환 값\n",
        "    - 호출하기\n",
        "\n",
        "    함수이름(인수1, 2, 3,...)\n",
        "\n",
        "    - 함수의 4가지 종류\n",
        "      - 1. 둘 다 없는\n",
        "      - 2. 둘 다 있는\n",
        "      - 3. 매개변수만 있는\n",
        "      - 4. 반환값만 있는\n"
      ],
      "metadata": {
        "id": "g2xW1B5JVIb8"
      }
    },
    {
      "cell_type": "code",
      "source": [
        "# 1. 둘 다 없는 경우\n",
        "\n",
        "def make_a_sound():\n",
        "    print('hoowh!')\n",
        "    \n",
        "make_a_sound()"
      ],
      "metadata": {
        "colab": {
          "base_uri": "https://localhost:8080/"
        },
        "id": "8FdYH3KS70fa",
        "outputId": "2924aae3-45de-46af-d4e2-f0a33de028e8"
      },
      "execution_count": 4,
      "outputs": [
        {
          "output_type": "stream",
          "name": "stdout",
          "text": [
            "hoowh!\n"
          ]
        }
      ]
    },
    {
      "cell_type": "code",
      "source": [
        "# 2. 둘 다 있는 경우\n",
        "\n",
        "# y = x + 1 # x는 매개변수, y는 반환값 x+1 수행문\n",
        "\n",
        "def ex(x):\n",
        "    # y = x + 1\n",
        "    # return y\n",
        "    return x + 1\n",
        "\n",
        "ex(4)"
      ],
      "metadata": {
        "colab": {
          "base_uri": "https://localhost:8080/"
        },
        "id": "eZadMLCs71de",
        "outputId": "6f4e276a-1bb6-4a16-fc8d-7fce60b22537"
      },
      "execution_count": 2,
      "outputs": [
        {
          "output_type": "execute_result",
          "data": {
            "text/plain": [
              "5"
            ]
          },
          "metadata": {},
          "execution_count": 2
        }
      ]
    },
    {
      "cell_type": "code",
      "source": [
        "# 3. 매개변수만 있는 경우\n",
        "\n",
        "def make_a_sound(sound): # sound = 매개변수\n",
        "    print(sound)\n",
        "\n",
        "yay = 'yay' # yay = 변수\n",
        "make_a_sound(yay)"
      ],
      "metadata": {
        "colab": {
          "base_uri": "https://localhost:8080/"
        },
        "id": "B3deCVDz72zm",
        "outputId": "a7b7b7bb-c728-4798-9451-30ba8bb1cd9a"
      },
      "execution_count": 3,
      "outputs": [
        {
          "output_type": "stream",
          "name": "stdout",
          "text": [
            "yay\n"
          ]
        }
      ]
    },
    {
      "cell_type": "code",
      "source": [
        "# 4. 반환값만 있는 경우\n",
        "\n",
        "def agree():\n",
        "    return True\n",
        "\n",
        "if agree():\n",
        "    print('Splendid')\n",
        "else:\n",
        "    print('unexpected!')"
      ],
      "metadata": {
        "colab": {
          "base_uri": "https://localhost:8080/"
        },
        "id": "zOmS-lJ374IJ",
        "outputId": "195c8653-24d7-403d-8f63-69a70c0ed039"
      },
      "execution_count": 5,
      "outputs": [
        {
          "output_type": "stream",
          "name": "stdout",
          "text": [
            "Splendid\n"
          ]
        }
      ]
    },
    {
      "cell_type": "markdown",
      "source": [
        "- 함수 이름 짓기\n",
        "  - 소문자만 사용\n",
        "    - ex) split_word\n",
        "  - 동작과 관련되어 있기 때문에 \"동사+명사\"의 형태 주로 씀\n",
        "  - i.e., 클래스는 명사. 함수는 명사로만 쓰지 않는게 좋음 def split_word():\n",
        "  - 줄임말 쓰지 말 것(calculate -> calc 이런건 OK). 명료하게 짓는다."
      ],
      "metadata": {
        "id": "Hj069yomXcg6"
      }
    },
    {
      "cell_type": "markdown",
      "source": [
        "### 2.인수\n",
        "- 매개변수 vs. 인수\n",
        "  - 매개변수: 함수 내(\"인터페이스\")에서 유효한 변수\n",
        "  - 인수: 실제 매개변수에 대입되는 변수\n",
        "  - 호출 시에 인수가 매개변수에 복제된다\n",
        "- 위치 인수\n",
        "  - positional argument\n",
        "  - 매개변수를 값에 순서에 상응하게 복제함\n",
        "- 키워드 인수\n",
        "  - keyword argument\n",
        "  - 매개변수 키워드에 맞는 인수로 지정. => 위치 달라도 됨\n",
        "- 디폴트 인수\n",
        "  - default argument\n",
        "  - 매개변수를 정의할 때 값을 미리 지정해놓는 것\n",
        "  - 호출 시에 값이 입력되지 않으면 기본 값 적용\n",
        "  - 디폴트 값은 non-deafault 값 뒤에\n",
        "  - return에 별다른 값 입력 안하면 None이 기본 설정"
      ],
      "metadata": {
        "id": "bvpfMlGKYWMq"
      }
    },
    {
      "cell_type": "code",
      "source": [
        "def commentary(color):\n",
        "  if color == 'g':\n",
        "    return 'green'\n",
        "  else:\n",
        "    return 'black'\n",
        "\n",
        "color = 'white'\n",
        "#함수 호출하여 g가 아니므로 black이 출력\n",
        "commentary(color)"
      ],
      "metadata": {
        "colab": {
          "base_uri": "https://localhost:8080/",
          "height": 35
        },
        "id": "heYi-WLEZixT",
        "outputId": "fb70c30b-24f8-4f34-b084-cff525895ffe"
      },
      "execution_count": null,
      "outputs": [
        {
          "output_type": "execute_result",
          "data": {
            "text/plain": [
              "'black'"
            ],
            "application/vnd.google.colaboratory.intrinsic+json": {
              "type": "string"
            }
          },
          "metadata": {},
          "execution_count": 2
        }
      ]
    },
    {
      "cell_type": "code",
      "source": [
        "# 리스트 순회하면서 값 출력 가능\n",
        "colors = ['g','b','t']\n",
        "\n",
        "for color in colors:\n",
        "  print(commentary(color))"
      ],
      "metadata": {
        "colab": {
          "base_uri": "https://localhost:8080/"
        },
        "id": "MadSvY5AZ3yB",
        "outputId": "336572ae-da99-43f3-8bb6-95965b9e43e3"
      },
      "execution_count": null,
      "outputs": [
        {
          "output_type": "stream",
          "name": "stdout",
          "text": [
            "green\n",
            "black\n",
            "black\n"
          ]
        }
      ]
    },
    {
      "cell_type": "code",
      "source": [
        "#키워드 인수, 디폴트 값 인수\n",
        "\n",
        "def menu(wine ,entree, dessert):\n",
        "    return{'wine':wine, 'entree': entree, 'dessert': dessert}\n",
        "\n",
        "menu('rioja', 'cake','egg')"
      ],
      "metadata": {
        "id": "jnZAt3GWaUk3",
        "colab": {
          "base_uri": "https://localhost:8080/"
        },
        "outputId": "98696dee-5c08-47fe-cf9a-e5ed47287b27"
      },
      "execution_count": 7,
      "outputs": [
        {
          "output_type": "execute_result",
          "data": {
            "text/plain": [
              "{'dessert': 'egg', 'entree': 'cake', 'wine': 'rioja'}"
            ]
          },
          "metadata": {},
          "execution_count": 7
        }
      ]
    },
    {
      "cell_type": "code",
      "source": [
        "#키워드 인수: 위치가 바뀌어도 답이 잘 들어감\n",
        "menu(entree = 'egg', wine = 'rioja', dessert = 'pancake')"
      ],
      "metadata": {
        "colab": {
          "base_uri": "https://localhost:8080/"
        },
        "id": "yNLCj16-a3PU",
        "outputId": "d2736b3d-0aaf-46a4-f0ce-d9fd63b99156"
      },
      "execution_count": 8,
      "outputs": [
        {
          "output_type": "execute_result",
          "data": {
            "text/plain": [
              "{'dessert': 'pancake', 'entree': 'egg', 'wine': 'rioja'}"
            ]
          },
          "metadata": {},
          "execution_count": 8
        }
      ]
    },
    {
      "cell_type": "code",
      "source": [
        "# 디폴트 인수\n",
        "def menu2(wine = 'redwine' ,entree =  'salad', dessert = 'icecream'):\n",
        "    return{'wine':wine, 'entree': entree, 'dessert': dessert}\n",
        "\n",
        "\n",
        "print(menu2('rioja','cake','egg'))\n",
        "#디폴트 값 출력\n",
        "print(menu2())"
      ],
      "metadata": {
        "colab": {
          "base_uri": "https://localhost:8080/"
        },
        "id": "PhJkFYDga28Z",
        "outputId": "7e4c1d1b-9060-46a4-96a6-d1d9c09279c6"
      },
      "execution_count": 9,
      "outputs": [
        {
          "output_type": "stream",
          "name": "stdout",
          "text": [
            "{'wine': 'rioja', 'entree': 'cake', 'dessert': 'egg'}\n",
            "{'wine': 'redwine', 'entree': 'salad', 'dessert': 'icecream'}\n"
          ]
        }
      ]
    },
    {
      "cell_type": "markdown",
      "source": [
        "### 3. 호출방식\n",
        "- 정의 부분은 호출 시 시행된다.\n",
        "- 메모리에 저장되어 있다가 호출 시에\n",
        "- 매개변수 vs. 인수\n",
        "  - 참조에 의한 호출(call by reference)\n",
        "  - \"매개변수 = 인수\" copy 되기 떄문에 나타나는 문제점\n",
        "    - 리스트처럼 가변 객체일 때 주소값을 공유하므로 값이 변함"
      ],
      "metadata": {
        "id": "ghXMZDvnbukB"
      }
    },
    {
      "cell_type": "code",
      "source": [
        "# 호출 순서 보기\n",
        "def multiply(x,y):\n",
        "  print('1')\n",
        "  return x*y\n",
        "\n",
        "print('2')\n",
        "i = 3\n",
        "j = 4\n",
        "\n",
        "print('3')\n",
        "multiply(i, j)\n",
        "\n",
        "print('4')\n"
      ],
      "metadata": {
        "id": "GcVf-1Ubbdn5",
        "colab": {
          "base_uri": "https://localhost:8080/"
        },
        "outputId": "f3659756-c2d1-494d-8ef4-0eb3dc954c71"
      },
      "execution_count": null,
      "outputs": [
        {
          "output_type": "stream",
          "name": "stdout",
          "text": [
            "2\n",
            "3\n",
            "1\n",
            "4\n"
          ]
        }
      ]
    },
    {
      "cell_type": "code",
      "source": [
        "# 참조에 의한 호출\n",
        "def buggy(arg, result=[]):\n",
        "  result = []\n",
        "  result.append(arg)\n",
        "  print(result)\n",
        "\n",
        "a, b = 'a', 'b'\n",
        "buggy(a)\n",
        "buggy(b)"
      ],
      "metadata": {
        "colab": {
          "base_uri": "https://localhost:8080/"
        },
        "id": "RqRd6GMqct4h",
        "outputId": "e3ad33ce-c1ec-451d-d5d3-fd7c9164e637"
      },
      "execution_count": null,
      "outputs": [
        {
          "output_type": "stream",
          "name": "stdout",
          "text": [
            "['a']\n",
            "['b']\n"
          ]
        }
      ]
    },
    {
      "cell_type": "code",
      "source": [
        "def buggy(arg, result=[]):\n",
        "    result = [] # 빈 객체로 초기화\n",
        "    result.append(arg)\n",
        "    print(result)\n",
        "\n",
        "a, b = 'a', 'b'\n",
        "buggy(a) # ['a']\n",
        "buggy(b) # ['b'] -> 쌓이지 않음"
      ],
      "metadata": {
        "id": "XnaaHLXdHCQr"
      },
      "execution_count": null,
      "outputs": []
    },
    {
      "cell_type": "code",
      "source": [
        "# 둘다 조건식으로 포함하는 함수로 변경하기\n",
        "#리스트 없으면 빈 리스트 생성하고 있으면 그거 써라\n",
        "def nonbuggy(arg, result=[]):\n",
        "  if result is None:\n",
        "    result = []\n",
        "  result.append(arg)\n",
        "  print(result)\n",
        "\n",
        "a, b = 'a', 'b'\n",
        "empty = ['c']\n",
        "nonbuggy(a) # 리스트 없으면 쌓이지 않음\n",
        "nonbuggy(b, empty) # 리스트 있으면 쌓임"
      ],
      "metadata": {
        "id": "KG9IJXkgdURN"
      },
      "execution_count": null,
      "outputs": []
    },
    {
      "cell_type": "code",
      "source": [
        "# 없는 값 None -> T/F 둘 다 아님\n",
        "thing = None\n",
        "\n",
        "if thing: #True\n",
        "    print('True')\n",
        "elif thing == False:\n",
        "    print('False')\n",
        "else: print('None')"
      ],
      "metadata": {
        "id": "WSvDApXGHNji"
      },
      "execution_count": null,
      "outputs": []
    },
    {
      "cell_type": "code",
      "source": [
        "# 함수 내의 변수는 지역변수\n",
        "def fx():\n",
        "    city = 'london' # 지역 변수는 함수 내에서만 유효\n",
        "    print(city)\n",
        "    \n",
        "city = 'paris'\n",
        "fx() # london\n",
        "print(city) #paris"
      ],
      "metadata": {
        "colab": {
          "base_uri": "https://localhost:8080/"
        },
        "id": "RIVKXOJ2HTw4",
        "outputId": "2ccdc16b-524b-4623-a114-11838581e568"
      },
      "execution_count": 10,
      "outputs": [
        {
          "output_type": "stream",
          "name": "stdout",
          "text": [
            "london\n",
            "paris\n"
          ]
        }
      ]
    },
    {
      "cell_type": "code",
      "source": [
        "def fx():\n",
        "    global city # 전역 변수 선언\n",
        "    city = 'london' \n",
        "    print(city)\n",
        "    \n",
        "city = 'paris'\n",
        "fx() # london\n",
        "print(city) #london"
      ],
      "metadata": {
        "colab": {
          "base_uri": "https://localhost:8080/"
        },
        "id": "c51XEDqpHU_w",
        "outputId": "7673c548-460a-47a7-c9b0-cbf17c7a0613"
      },
      "execution_count": 11,
      "outputs": [
        {
          "output_type": "stream",
          "name": "stdout",
          "text": [
            "london\n",
            "london\n"
          ]
        }
      ]
    },
    {
      "cell_type": "code",
      "source": [
        "city = 'seoul' # 다시 바꾸면 바뀜\n",
        "city"
      ],
      "metadata": {
        "id": "VcL4CGtnHWJc"
      },
      "execution_count": null,
      "outputs": []
    },
    {
      "cell_type": "markdown",
      "source": [
        "#### doc string\n",
        "- 함수 설명\n",
        "- 매개변수 타입, 의미, 함수 기능\n",
        "- \"\"\"이 안에 넣음\"\"\"\n",
        "- help(함수명) 으로 호출"
      ],
      "metadata": {
        "id": "ADmr2OQakisi"
      }
    },
    {
      "cell_type": "code",
      "source": [
        "def buggy(arg, result=[]):\n",
        "    \"\"\"\n",
        "    arg: str, 꽃 이름\n",
        "    result: list, xxxxx\n",
        "    꽃 이름을 리스트에 추가한다.\n",
        "    \"\"\"\n",
        "    result = []\n",
        "    result.append(arg)\n",
        "    print(result)"
      ],
      "metadata": {
        "id": "00T2KDL4Hvu2"
      },
      "execution_count": 12,
      "outputs": []
    },
    {
      "cell_type": "code",
      "source": [
        "# 독스트링 확인\n",
        "help(buggy)"
      ],
      "metadata": {
        "colab": {
          "base_uri": "https://localhost:8080/"
        },
        "id": "VMwwzuN8H605",
        "outputId": "dba4c6d5-673a-4c3b-ddce-2b2c383dc2f9"
      },
      "execution_count": 13,
      "outputs": [
        {
          "output_type": "stream",
          "name": "stdout",
          "text": [
            "Help on function buggy in module __main__:\n",
            "\n",
            "buggy(arg, result=[])\n",
            "    arg: str, 꽃 이름\n",
            "    result: list, xxxxx\n",
            "    꽃 이름을 리스트에 추가한다.\n",
            "\n"
          ]
        }
      ]
    },
    {
      "cell_type": "markdown",
      "source": [
        "###QUIZ\n",
        "- 나이 -> 연도\n",
        "  - 함수: 입력값=나이, 반환=연도\n",
        "  - 나이 = input 받기"
      ],
      "metadata": {
        "id": "Us8c251BHzG4"
      }
    },
    {
      "cell_type": "code",
      "source": [
        "def birthyear(age):\n",
        "  year = 2022 - age + 1\n",
        "  return year\n",
        "birthyear(int(input(\"나이를 입력하세요: \")))"
      ],
      "metadata": {
        "colab": {
          "base_uri": "https://localhost:8080/"
        },
        "id": "m7wgE7CHlnWI",
        "outputId": "92de92c7-d3ec-4710-86dc-d44698283839"
      },
      "execution_count": null,
      "outputs": [
        {
          "name": "stdout",
          "output_type": "stream",
          "text": [
            "나이를 입력하세요: 23\n"
          ]
        },
        {
          "output_type": "execute_result",
          "data": {
            "text/plain": [
              "2000"
            ]
          },
          "metadata": {},
          "execution_count": 16
        }
      ]
    },
    {
      "cell_type": "code",
      "source": [
        "import string\n",
        "import nltk\n",
        "\n",
        "nltk.download('brown')\n",
        "brown = nltk.corpus.brown\n",
        "romance = brown.raw(categories='romance')[:5000]"
      ],
      "metadata": {
        "colab": {
          "base_uri": "https://localhost:8080/"
        },
        "id": "a67X1dZknpYR",
        "outputId": "e9ea2d1d-794a-42a9-9844-9de811b7f597"
      },
      "execution_count": 15,
      "outputs": [
        {
          "output_type": "stream",
          "name": "stdout",
          "text": [
            "[nltk_data] Downloading package brown to /root/nltk_data...\n",
            "[nltk_data]   Package brown is already up-to-date!\n"
          ]
        }
      ]
    },
    {
      "cell_type": "markdown",
      "source": [
        "##문장 분절"
      ],
      "metadata": {
        "id": "IpAW1T6-oLw9"
      }
    },
    {
      "cell_type": "code",
      "source": [
        "# ./. /. \\n\n",
        "sentence = [sent.strip() for sent in romance.split('/.')]\n",
        "sentence[:2]"
      ],
      "metadata": {
        "id": "qiI1qp5kn-VW",
        "colab": {
          "base_uri": "https://localhost:8080/"
        },
        "outputId": "e058e096-3b33-425b-e121-34efb6a03cef"
      },
      "execution_count": 17,
      "outputs": [
        {
          "output_type": "execute_result",
          "data": {
            "text/plain": [
              "['They/ppss neither/cc liked/vbd nor/cc disliked/vbd the/at Old/jj-tl Man/nn-tl .',\n",
              " 'To/in them/ppo he/pps could/md have/hv been/ben the/at broken/vbn bell/nn in/in the/at church/nn tower/nn which/wdt rang/vbd before/in and/cc after/in Mass/nn-tl ,/, and/cc at/in noon/nn ,/, and/cc at/in six/cd each/dt evening/nn --/-- its/pp$ tone/nn ,/, repetitive/jj ,/, monotonous/jj ,/, never/rb breaking/vbg the/at boredom/nn of/in the/at streets/nns .']"
            ]
          },
          "metadata": {},
          "execution_count": 17
        }
      ]
    },
    {
      "cell_type": "code",
      "source": [
        "sentence = [s for s in sentence if s != '!']"
      ],
      "metadata": {
        "id": "Fg7ZPM8gplWF"
      },
      "execution_count": 18,
      "outputs": []
    },
    {
      "cell_type": "markdown",
      "source": [
        "## 단어 분절"
      ],
      "metadata": {
        "id": "LP0JX3Q6INzG"
      }
    },
    {
      "cell_type": "code",
      "source": [
        "example = sentence[0]\n",
        "[word[:word.find('/')] if word[:word.find('/')] else word for word in example.split()]"
      ],
      "metadata": {
        "id": "qSIzFFPzrFVm",
        "colab": {
          "base_uri": "https://localhost:8080/"
        },
        "outputId": "51d5c310-264a-4e66-a409-b494308be435"
      },
      "execution_count": 22,
      "outputs": [
        {
          "output_type": "execute_result",
          "data": {
            "text/plain": [
              "['They', 'neither', 'liked', 'nor', 'disliked', 'the', 'Old', 'Man', '.']"
            ]
          },
          "metadata": {},
          "execution_count": 22
        }
      ]
    },
    {
      "cell_type": "code",
      "source": [
        "# 전체문장에 적용\n",
        "sent_tokens = [[word[:word.find('/')] \\\n",
        "     if word[:word.find('/')] else word # punct에 있으면 버리기\n",
        "         for word in example.split()] for example in sentence]"
      ],
      "metadata": {
        "id": "0Y2l31FeIQ43"
      },
      "execution_count": 23,
      "outputs": []
    },
    {
      "cell_type": "markdown",
      "source": [
        "## punctuations"
      ],
      "metadata": {
        "id": "0Uycjff-ITKv"
      }
    },
    {
      "cell_type": "code",
      "source": [
        "punct = list(string.punctuation)"
      ],
      "metadata": {
        "id": "D5ZHN1loISDe"
      },
      "execution_count": 19,
      "outputs": []
    },
    {
      "cell_type": "code",
      "source": [
        "# 제거\n",
        "clean_sent_tokens = [[word for word in sent if word not in punct] for sent in sent_tokens]"
      ],
      "metadata": {
        "id": "XA_lzY2vIXSC"
      },
      "execution_count": 24,
      "outputs": []
    },
    {
      "cell_type": "code",
      "source": [
        "# 남은 문장부호\n",
        "my_punct = set([word for sent in sent_tokens for word in sent if not word[0].isalnum() and word not in punct])\n",
        "punct.extend(list(my_punct))"
      ],
      "metadata": {
        "id": "jxOYBCePIYVP"
      },
      "execution_count": 25,
      "outputs": []
    },
    {
      "cell_type": "code",
      "source": [
        "# 하이픈\n",
        "'fur-piece'.split('-') #extend\n",
        "# 's\n",
        "word = \"she's\"\n",
        "index = word.find(\"'\")\n",
        "word[:index], word[index:]"
      ],
      "metadata": {
        "colab": {
          "base_uri": "https://localhost:8080/"
        },
        "id": "jzQ3tvueIZS2",
        "outputId": "c1dc0d99-d893-4008-fd7a-ff1c5771e6b6"
      },
      "execution_count": 26,
      "outputs": [
        {
          "output_type": "execute_result",
          "data": {
            "text/plain": [
              "('she', \"'s\")"
            ]
          },
          "metadata": {},
          "execution_count": 26
        }
      ]
    },
    {
      "cell_type": "code",
      "source": [
        "# 함수로: 문장이 들어왔을 때 POS 제거하고, punct 제거하고, 토큰리스트로 반환한다.\n",
        "sentence = [sent.strip() for sent in romance.split('/.')]\n",
        "def tokenize_word(text):\n",
        "    token_list = text\n",
        "    return [word[:word.find('/')] for word in token_list.split() if '/' in word and word not in punct]\n",
        "tokenize_word(sentence[0])   "
      ],
      "metadata": {
        "colab": {
          "base_uri": "https://localhost:8080/"
        },
        "id": "5owhwNIsIaJc",
        "outputId": "92711a42-f044-4957-c8c8-f35500267e91"
      },
      "execution_count": 27,
      "outputs": [
        {
          "output_type": "execute_result",
          "data": {
            "text/plain": [
              "['They', 'neither', 'liked', 'nor', 'disliked', 'the', 'Old', 'Man']"
            ]
          },
          "metadata": {},
          "execution_count": 27
        }
      ]
    }
  ]
}