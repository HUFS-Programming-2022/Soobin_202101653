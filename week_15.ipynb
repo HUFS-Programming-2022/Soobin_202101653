{
  "nbformat": 4,
  "nbformat_minor": 0,
  "metadata": {
    "colab": {
      "name": "week_15.ipynb",
      "provenance": [],
      "collapsed_sections": []
    },
    "kernelspec": {
      "name": "python3",
      "display_name": "Python 3"
    },
    "language_info": {
      "name": "python"
    }
  },
  "cells": [
    {
      "cell_type": "markdown",
      "source": [
        "###파일과 디렉터리\n",
        "- 디렉터리: 폴더의 다른 말. 파일이 논리적으로 묶인 단위\n",
        "- 파일: 컴퓨터를 실행하는 기본 단위\n",
        "- 파일명 + 확장자\n",
        "- 확장자: 파일의 쓰임을 구분하는 글자\n",
        "- .pdf, .xlsx, .txt, ...\n",
        "- 종류: 바이너리 파일, 텍스트 파일\n",
        "- 바이너리: 이진 정보로 저장됨\n",
        "- 내용을 확인 못 함.\n",
        "- 해당 확장자를 열 수 있는 프로그램이 필요함.\n",
        "- 텍스트: 사람이 이해할 수 있는 문자열로 저장됨\n",
        "- 메모장, html, py\n",
        "- 변경 기준: 아스키코드, 유니코드\n",
        "- 인코딩 (encoding)\n",
        "- utf-8\n",
        "- cp949"
      ],
      "metadata": {
        "id": "BCSBHxYCuoT1"
      }
    },
    {
      "cell_type": "markdown",
      "source": [
        "### 파일 열기\n",
        "- open(파일명, 모드)\n",
        "- 모드\n",
        "    - r: read\n",
        "    - w: write - 파일이 있으면 덮어쓰고, 없으면 생성\n",
        "    - x: 파일이 없을 때만 생성\n",
        "    - a: 있을 때 마지막 라인에 추가\n",
        "\n",
        "    추가 모드\n",
        "    - b: binary\n",
        "    - t: text (default)\n",
        "    'rb','rt'"
      ],
      "metadata": {
        "id": "ZTt_Roz8-_Qe"
      }
    },
    {
      "cell_type": "code",
      "execution_count": null,
      "metadata": {
        "id": "rDYUcqJH-9pT"
      },
      "outputs": [],
      "source": [
        "# 파일 열기\n",
        "file = 'text.txt'\n",
        "f = open(file, 'r')"
      ]
    },
    {
      "cell_type": "markdown",
      "source": [
        "#### 파일 읽기\n",
        "- read(): 전체를 하나의 srt\n",
        "    - 포인터\n",
        "    - 파일이 엄청 클 때, 전체를 다 읽으면 시간이 오래걸림\n",
        "- readline(): 한줄만 srt\n",
        "- readlines(): 전체를 list, 각 줄이 한 str"
      ],
      "metadata": {
        "id": "BBsDrkIV_hvP"
      }
    },
    {
      "cell_type": "code",
      "source": [
        "# 파일 읽기\n",
        "f.read(5)"
      ],
      "metadata": {
        "id": "qDcSQWcc4b0I"
      },
      "execution_count": null,
      "outputs": []
    },
    {
      "cell_type": "code",
      "source": [
        "f.close()"
      ],
      "metadata": {
        "id": "4cZTNjJW4c0k"
      },
      "execution_count": null,
      "outputs": []
    },
    {
      "cell_type": "code",
      "source": [
        "f = open(file, 'r')\n",
        "sents = f.readlines()\n",
        "sents = [s.strip() for s in sents]\n",
        "f.close()"
      ],
      "metadata": {
        "id": "GvSaQOGm4d61"
      },
      "execution_count": null,
      "outputs": []
    },
    {
      "cell_type": "markdown",
      "source": [
        "### 파일 닫기\n",
        "- 파일 여는 즉시 닫기\n",
        "- 자원 해제\n",
        "- 닫는거 항상 신경써야 함\n",
        "- 메모리 절약, 에러 조심"
      ],
      "metadata": {
        "id": "XvaK1Ri3BIZc"
      }
    },
    {
      "cell_type": "code",
      "source": [
        "with open(file, 'r') as f: # file\n",
        "    # open() 적용되는 블럭\n",
        "    content = f.read()\n",
        "# 파일 자동으로 닫힘"
      ],
      "metadata": {
        "id": "3edTKW9T_eC1"
      },
      "execution_count": null,
      "outputs": []
    },
    {
      "cell_type": "code",
      "source": [
        "content"
      ],
      "metadata": {
        "id": "yFUAfKBq4p0T"
      },
      "execution_count": null,
      "outputs": []
    },
    {
      "cell_type": "code",
      "source": [
        "sents = []\n",
        "with open(file, 'r') as f:\n",
        "    while True:\n",
        "        line = f.readline()\n",
        "        if not line:\n",
        "            break\n",
        "        sent = line.strip()\n",
        "        sents.append(sent)"
      ],
      "metadata": {
        "id": "uldTsAue4qNz"
      },
      "execution_count": null,
      "outputs": []
    },
    {
      "cell_type": "markdown",
      "source": [
        "##경로가 달라질 때\n",
        "- . : 현재 경로\n",
        "- .. : 상위 경로"
      ],
      "metadata": {
        "id": "mTX5FTTq5KpF"
      }
    },
    {
      "cell_type": "code",
      "source": [
        "file = './folder/test.txt'\n",
        "\n",
        "with open(file) as f:\n",
        "    print(f.read())"
      ],
      "metadata": {
        "id": "AVGsz_se4xj9"
      },
      "execution_count": null,
      "outputs": []
    },
    {
      "cell_type": "markdown",
      "source": [
        "###쓰기\n",
        "- 인코딩 유의"
      ],
      "metadata": {
        "id": "9Ua1yGCk5QoC"
      }
    },
    {
      "cell_type": "code",
      "source": [
        "with open('test2.txt', 'w', encoding='utf-8') as f:\n",
        "    for i in range(10):\n",
        "        data = f'{i}번째 줄.\\n'\n",
        "        f.write(data)"
      ],
      "metadata": {
        "id": "RlnfFDny5OvQ"
      },
      "execution_count": null,
      "outputs": []
    },
    {
      "cell_type": "code",
      "source": [
        "# print()\n",
        "file_out = open('test2.txt', 'a', encoding='utf-8')\n",
        "print('한 줄 추가완료.', file=file_out)\n",
        "file_out.close()"
      ],
      "metadata": {
        "id": "FXyFBmN_5T9R"
      },
      "execution_count": null,
      "outputs": []
    },
    {
      "cell_type": "markdown",
      "source": [
        "#### folder 만들어서 추가하는 방법\n",
        "    - 폴더 만들어야 함\n",
        "    - 접근"
      ],
      "metadata": {
        "id": "02w7HH0B5YKU"
      }
    },
    {
      "cell_type": "code",
      "source": [
        "with open('./abc/test2.txt', 'w', encoding='utf-8') as f:\n",
        "    for i in range(10):\n",
        "        data = f'{i}번째 줄.\\n'\n",
        "        f.write(data)"
      ],
      "metadata": {
        "id": "NFpij4Nf5WGs"
      },
      "execution_count": null,
      "outputs": []
    },
    {
      "cell_type": "code",
      "source": [
        "import os\n",
        "os.mkdir('abc')"
      ],
      "metadata": {
        "id": "YDd3vQVK5aLM"
      },
      "execution_count": null,
      "outputs": []
    },
    {
      "cell_type": "code",
      "source": [
        "path = 'abc'\n",
        "# 있는지 확인\n",
        "if not os.isdic(path):\n",
        "    os.mkdir(path)\n",
        "    \n",
        "dir_name = os.path.join(path, 'test2.txt')\n",
        "\n",
        "# 재확인\n",
        "if not os.path.exists(dir_name):\n",
        "    with open(dic_name, 'w') as f: # 덮어쓸 가능성 배제"
      ],
      "metadata": {
        "id": "-9bIiUwt5bTC"
      },
      "execution_count": null,
      "outputs": []
    },
    {
      "cell_type": "code",
      "source": [
        "os.remove(file_name)\n",
        "os.rmdir(dir_name) # 폴더 안에 파일 있으면 삭제 불가"
      ],
      "metadata": {
        "id": "ZLBSAeV45fvM"
      },
      "execution_count": null,
      "outputs": []
    },
    {
      "cell_type": "code",
      "source": [
        "import shutil\n",
        "shutil.rmtree(dir_name) # 강제로 전체 삭제"
      ],
      "metadata": {
        "id": "IwvLcH0i5g7v"
      },
      "execution_count": null,
      "outputs": []
    },
    {
      "cell_type": "code",
      "source": [
        "# folder 새로 만들고 파일에 내용 쓰고 열기\n",
        "import os\n",
        "\n",
        "path = 'test_folder'\n",
        "os.mkdir(path)\n",
        "\n",
        "dir_name = os.path.join(path, 'test3.txt')\n",
        "\n",
        "if not os.path.exists(dir_name):\n",
        "    with open(dir_name, 'w') as f:\n",
        "        f.write('new file')\n",
        "\n",
        "with open(dir_name, 'r') as f:\n",
        "    f.read()"
      ],
      "metadata": {
        "id": "zya7Bg0z5iCt"
      },
      "execution_count": null,
      "outputs": []
    },
    {
      "cell_type": "markdown",
      "source": [
        "###pickle\n",
        "- 객체를 파일로 저장하는 기능 제공"
      ],
      "metadata": {
        "id": "YJeSxES35ptS"
      }
    },
    {
      "cell_type": "code",
      "source": [
        "import pickle"
      ],
      "metadata": {
        "id": "JddkSsLy5pC9"
      },
      "execution_count": null,
      "outputs": []
    },
    {
      "cell_type": "code",
      "source": [
        "with open('test.pickle', 'wb') as f:\n",
        "    pickle.dump(nums, f)"
      ],
      "metadata": {
        "id": "BmTVS3jO5seH"
      },
      "execution_count": null,
      "outputs": []
    },
    {
      "cell_type": "code",
      "source": [
        "nums = list(range(10))\n",
        "nums"
      ],
      "metadata": {
        "id": "HqlSCClm5sZf"
      },
      "execution_count": null,
      "outputs": []
    },
    {
      "cell_type": "code",
      "source": [
        "with open('test.pickle', 'rb') as f:\n",
        "    number = pickle.load(f)\n",
        "\n",
        "number"
      ],
      "metadata": {
        "id": "8EumjTdy5ufI"
      },
      "execution_count": null,
      "outputs": []
    }
  ]
}