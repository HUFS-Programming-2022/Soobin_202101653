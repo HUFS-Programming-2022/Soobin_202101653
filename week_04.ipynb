{
  "nbformat": 4,
  "nbformat_minor": 0,
  "metadata": {
    "colab": {
      "name": "week_04.ipynb",
      "provenance": [],
      "collapsed_sections": []
    },
    "kernelspec": {
      "name": "python3",
      "display_name": "Python 3"
    },
    "language_info": {
      "name": "python"
    }
  },
  "cells": [
    {
      "cell_type": "markdown",
      "source": [
        "##String with NLTK"
      ],
      "metadata": {
        "id": "kqw9nIWGJ57Q"
      }
    },
    {
      "cell_type": "code",
      "source": [
        "pip install nltk"
      ],
      "metadata": {
        "id": "jUuhFYPiLU83",
        "colab": {
          "base_uri": "https://localhost:8080/"
        },
        "outputId": "b3137c30-2b62-4d67-fc28-ba6704bf0fa1"
      },
      "execution_count": null,
      "outputs": [
        {
          "output_type": "stream",
          "name": "stdout",
          "text": [
            "Requirement already satisfied: nltk in /usr/local/lib/python3.7/dist-packages (3.2.5)\n",
            "Requirement already satisfied: six in /usr/local/lib/python3.7/dist-packages (from nltk) (1.15.0)\n"
          ]
        }
      ]
    },
    {
      "cell_type": "code",
      "execution_count": null,
      "metadata": {
        "id": "DfYG8eX5IL2f"
      },
      "outputs": [],
      "source": [
        "import nltk\n",
        "nltk.download()\n",
        "nltk.download('nps_chat')\n",
        "nltk.download('webtext')\n",
        "nltk.download('treebank')\n",
        "from nltk.book import *\n",
        "nltk.download('book', quiet=True)"
      ]
    },
    {
      "cell_type": "markdown",
      "source": [
        "###내장함수\n",
        "- string1.method(string2): 일반적 형식\n",
        "- list.method(string)\n",
        "\n",
        "- list.count(string): string이 나타나는 개수\n",
        "-replace(): A -> B 변경하는\n",
        "- str.strip():공백 없애주는 기능\n",
        "  - lstrip, rstrip\n",
        "- find(string): 오프셋을 반환\n",
        "  - lfind, rfind\n",
        "  - 공백 포함\n",
        "  - 첫번째 값의 인덱스\n",
        "  - 만족하는 값이 없는 경우 -1 반환\n",
        "- index(): find와 같은 기능\n",
        "  - 만족하는 값이 없는 경우 오류 발생"
      ],
      "metadata": {
        "id": "p7tvVddKKNDB"
      }
    },
    {
      "cell_type": "code",
      "source": [
        "print(text1.count('he'))\n",
        "print('word'.replace('w', 'W'))\n",
        "print('    \\t    word'.lstrip())\n",
        "\n",
        "# 여러번 사용\n",
        "word = '    \\t    word'\n",
        "word = word.replace('w', 'ch').strip().replace('d', 'D')\n",
        "print(word)\n",
        "\n",
        "# find : 여러개여도 첫번째 인덱스 반환\n",
        "word2 = 'aaaaaabbcccdddddwwwww'\n",
        "print(word2.find('w'))"
      ],
      "metadata": {
        "colab": {
          "base_uri": "https://localhost:8080/"
        },
        "id": "K6My1YuCYOOA",
        "outputId": "228bca12-feab-49e1-c579-00aca4d31fca"
      },
      "execution_count": 14,
      "outputs": [
        {
          "output_type": "stream",
          "name": "stdout",
          "text": [
            "1661\n",
            "Word\n",
            "word\n",
            "chorD\n",
            "16\n"
          ]
        }
      ]
    },
    {
      "cell_type": "markdown",
      "source": [
        "###NLTK 내장 함수\n",
        "- list.method(var)\n",
        "- 자연어처리와 관련된 함수들\n",
        "  - concordance():string의 앞뒤 문맥을 알려줌\n",
        "  - similar():문맥이 비슷한 단어들\n",
        "  - common_contexts():주어진 스트링이 어떤 문맥을 공유하는지\n",
        "  - dispersion_plot():주어진 스트링이 텍스트에서 출현하는 위치를 이미지로 알려줌"
      ],
      "metadata": {
        "id": "T8coqmfCMGg5"
      }
    },
    {
      "cell_type": "code",
      "source": [
        "text1.concordance('whale')"
      ],
      "metadata": {
        "id": "nbmjK5hpa_4m"
      },
      "execution_count": null,
      "outputs": []
    },
    {
      "cell_type": "code",
      "source": [
        "text1.similar(\"whale\")"
      ],
      "metadata": {
        "id": "VndyQEynbESB"
      },
      "execution_count": null,
      "outputs": []
    },
    {
      "cell_type": "code",
      "source": [
        "text2.common_contexts(['monstrous', 'very'])"
      ],
      "metadata": {
        "id": "FMsNKAhAbIBx"
      },
      "execution_count": null,
      "outputs": []
    },
    {
      "cell_type": "code",
      "source": [
        "#pip install matplotlib"
      ],
      "metadata": {
        "id": "fBWF49c1KKoI"
      },
      "execution_count": null,
      "outputs": []
    },
    {
      "cell_type": "code",
      "source": [
        "text4.dispersion_plot(['citizens', 'America', 'freedom', 'you'])"
      ],
      "metadata": {
        "id": "OPHb0EBCMrC3",
        "colab": {
          "base_uri": "https://localhost:8080/",
          "height": 295
        },
        "outputId": "470d3c65-649c-413c-ec43-9b6fefc2a57b"
      },
      "execution_count": 19,
      "outputs": [
        {
          "output_type": "display_data",
          "data": {
            "text/plain": [
              "<Figure size 432x288 with 1 Axes>"
            ],
            "image/png": "[encoded data removed]"
          },
          "metadata": {
            "needs_background": "light"
          }
        }
      ]
    },
    {
      "cell_type": "markdown",
      "source": [
        "### Frequency Distribution\n",
        "- 단어의 빈도수를 활용할 수 있는 많은 메소드 제공\n",
        "- 인간 언어 -> 컴퓨터가 인식\n",
        "  - 전체 단어 수\n",
        "  - 특정의 빈도수\n",
        "  "
      ],
      "metadata": {
        "id": "s0e-LYRGNXVw"
      }
    },
    {
      "cell_type": "code",
      "source": [
        "fdist = FreqDist(text1)\n",
        "fdist"
      ],
      "metadata": {
        "id": "kq4udImybSeL"
      },
      "execution_count": null,
      "outputs": []
    },
    {
      "cell_type": "code",
      "source": [
        "from nltk.probability import FreqDist\n",
        "text1 = book.text1\n",
        "fdist = FreqDist(text1)\n",
        "fdist # dictionary"
      ],
      "metadata": {
        "id": "9jtEN3NKNriF"
      },
      "execution_count": null,
      "outputs": []
    },
    {
      "cell_type": "code",
      "source": [
        "fdist.most_common(10)"
      ],
      "metadata": {
        "colab": {
          "base_uri": "https://localhost:8080/"
        },
        "id": "GT-i1eTfN-5t",
        "outputId": "7cabbeb7-0866-4073-8826-f391d4aa8373"
      },
      "execution_count": null,
      "outputs": [
        {
          "output_type": "execute_result",
          "data": {
            "text/plain": [
              "[(',', 18713),\n",
              " ('the', 13721),\n",
              " ('.', 6862),\n",
              " ('of', 6536),\n",
              " ('and', 6024),\n",
              " ('a', 4569),\n",
              " ('to', 4542),\n",
              " (';', 4072),\n",
              " ('in', 3916),\n",
              " ('that', 2982)]"
            ]
          },
          "metadata": {},
          "execution_count": 15
        }
      ]
    },
    {
      "cell_type": "code",
      "source": [
        "fdist['whale'], text1.count('whale')"
      ],
      "metadata": {
        "colab": {
          "base_uri": "https://localhost:8080/"
        },
        "id": "gzqk1ZRVOEXP",
        "outputId": "7f0b6f6c-5ece-44c4-c177-3a0bd720c38d"
      },
      "execution_count": null,
      "outputs": [
        {
          "output_type": "execute_result",
          "data": {
            "text/plain": [
              "(906, 906)"
            ]
          },
          "metadata": {},
          "execution_count": 16
        }
      ]
    },
    {
      "cell_type": "code",
      "source": [
        "fdist.freq('whale')"
      ],
      "metadata": {
        "colab": {
          "base_uri": "https://localhost:8080/"
        },
        "id": "tYz11mrIOLno",
        "outputId": "71c887c7-972a-4bec-9ae0-e5632f2ea970"
      },
      "execution_count": null,
      "outputs": [
        {
          "output_type": "execute_result",
          "data": {
            "text/plain": [
              "0.003473673313677301"
            ]
          },
          "metadata": {},
          "execution_count": 17
        }
      ]
    },
    {
      "cell_type": "code",
      "source": [
        "fdist.plot(50, cumulative=True)"
      ],
      "metadata": {
        "colab": {
          "base_uri": "https://localhost:8080/",
          "height": 299
        },
        "id": "hR51LRCmOR-G",
        "outputId": "5332e99c-31df-4c75-a2fa-85cbc9acca02"
      },
      "execution_count": 24,
      "outputs": [
        {
          "output_type": "display_data",
          "data": {
            "text/plain": [
              "<Figure size 432x288 with 1 Axes>"
            ],
            "image/png": "[encoded data removed]"
          },
          "metadata": {
            "needs_background": "light"
          }
        }
      ]
    },
    {
      "cell_type": "code",
      "source": [
        "# 1번 나타나는 단어들\n",
        "len(fdist.hapaxes()) # 중복 안됨, 대소문자 구분됨"
      ],
      "metadata": {
        "colab": {
          "base_uri": "https://localhost:8080/"
        },
        "id": "0yLUFHyXOZ_Q",
        "outputId": "1cbc2608-baeb-43ba-f826-b85162ef6a23"
      },
      "execution_count": null,
      "outputs": [
        {
          "output_type": "execute_result",
          "data": {
            "text/plain": [
              "9002"
            ]
          },
          "metadata": {},
          "execution_count": 19
        }
      ]
    },
    {
      "cell_type": "markdown",
      "source": [
        "### 리스트 & 리스트 컴프리헨션\n",
        "- 리스트: 배열(array), 리스트(list)\n",
        "- 하나의 변수에 여러 값을 할당하는 자료형\n",
        "  - a = [1, 2, 3, 4]]\n",
        "- 대괄호로 선언[ ]\n",
        "- 내부 요소들은 자료형이 달라도 됨\n",
        "  - a = [1, True, 'hello']\n",
        "- 순서가 있다 => 인덱싱 슬라이싱 가능함\n",
        "- 빈 리스트 선언 list(), []"
      ],
      "metadata": {
        "id": "SEQw7_taPMGm"
      }
    },
    {
      "cell_type": "code",
      "source": [
        "a = [1, True, 'hello']\n",
        "a[::1]"
      ],
      "metadata": {
        "colab": {
          "base_uri": "https://localhost:8080/"
        },
        "id": "xJQ7GbegOl_n",
        "outputId": "1fa30d9d-1aa7-4bfe-81cd-42eab8a127f4"
      },
      "execution_count": null,
      "outputs": [
        {
          "output_type": "execute_result",
          "data": {
            "text/plain": [
              "[1, True, 'hello']"
            ]
          },
          "metadata": {},
          "execution_count": 20
        }
      ]
    },
    {
      "cell_type": "code",
      "source": [
        "b = []\n",
        "b = list()"
      ],
      "metadata": {
        "id": "itPEUw1YP4C_"
      },
      "execution_count": null,
      "outputs": []
    },
    {
      "cell_type": "code",
      "source": [
        "drinks = ['rum', 'mojito', 'soju']\n",
        "#drinks[01] 이런식으로 안됨"
      ],
      "metadata": {
        "id": "GzfeoInXP7Om"
      },
      "execution_count": null,
      "outputs": []
    },
    {
      "cell_type": "code",
      "source": [
        "# drinks에서 soju의 오프셋을 알고싶다\n",
        "drinks.index('soju')"
      ],
      "metadata": {
        "colab": {
          "base_uri": "https://localhost:8080/"
        },
        "id": "RTzpZ_jfQFUL",
        "outputId": "6e47e975-6773-4d8f-9c5a-ac51e2f9693e"
      },
      "execution_count": null,
      "outputs": [
        {
          "output_type": "execute_result",
          "data": {
            "text/plain": [
              "2"
            ]
          },
          "metadata": {},
          "execution_count": 23
        }
      ]
    },
    {
      "cell_type": "markdown",
      "source": [
        "### list comprehension\n",
        "- 지능형 리스트\n",
        "- 주어진 리스트를 포함하는 새로운 리스트를 형성하는 것\n",
        "- list + for_loop 한 줄로 해결하는 방식\n",
        "- [A for A' in B]\n",
        "  - B에 있는 A'에서 A를 가진 리스트를 반환\n",
        "  - B: 기존의 리스트\n",
        "  - A': B의 자료 형태\n",
        "  - A: 새로운 리스트의 요소\n",
        "\n",
        "- 조건+ : [A for A' in B if<조건식>]\n",
        "  - [A for A' in B if<조건식> and <조건식>]\n"
      ],
      "metadata": {
        "id": "eXZFu2-pQVNG"
      }
    },
    {
      "cell_type": "code",
      "source": [
        "[d[0] for d in drinks]"
      ],
      "metadata": {
        "colab": {
          "base_uri": "https://localhost:8080/"
        },
        "id": "bXar_azgQT1_",
        "outputId": "166babdd-5b31-4e38-ae8f-83d3b56a465d"
      },
      "execution_count": null,
      "outputs": [
        {
          "output_type": "execute_result",
          "data": {
            "text/plain": [
              "['r', 'm', 's']"
            ]
          },
          "metadata": {},
          "execution_count": 26
        }
      ]
    },
    {
      "cell_type": "code",
      "source": [
        "text4 = book.text4"
      ],
      "metadata": {
        "id": "hOjFbtX-Tdi6"
      },
      "execution_count": null,
      "outputs": []
    },
    {
      "cell_type": "code",
      "source": [
        "[d for d in text1 if len(d)>10]"
      ],
      "metadata": {
        "id": "3o80iJECQ8tY"
      },
      "execution_count": null,
      "outputs": []
    },
    {
      "cell_type": "code",
      "source": [
        "# text4에서 'gnt'를 포함하는 단어 반환\n",
        "[word for word in set(text4) if 'gnt' in word]"
      ],
      "metadata": {
        "colab": {
          "base_uri": "https://localhost:8080/"
        },
        "id": "mYECqQPvRvrl",
        "outputId": "6d2aeff7-3819-48cb-c80e-93f35eee51d3"
      },
      "execution_count": null,
      "outputs": [
        {
          "output_type": "execute_result",
          "data": {
            "text/plain": [
              "['sovereignty', 'Sovereignty', 'sovereignties']"
            ]
          },
          "metadata": {},
          "execution_count": 42
        }
      ]
    },
    {
      "cell_type": "markdown",
      "source": [
        "### 조건을 위한 함수: uncased, cased\n",
        "- 'the' != \"The'\n",
        "- upper(), lower(), title()\n",
        "- capitalize(), swapcase()\n",
        "- isupper(), islower(), istitle()\n",
        "- endswith(), startswith(), isalpha()"
      ],
      "metadata": {
        "id": "AQWXJAZdU_ap"
      }
    },
    {
      "cell_type": "code",
      "source": [
        "'word'.isupper"
      ],
      "metadata": {
        "colab": {
          "base_uri": "https://localhost:8080/"
        },
        "id": "2BXW0Wf6Sl3u",
        "outputId": "9283587b-25ac-4b25-a869-e84ca3e00801"
      },
      "execution_count": null,
      "outputs": [
        {
          "output_type": "execute_result",
          "data": {
            "text/plain": [
              "<function str.isupper>"
            ]
          },
          "metadata": {},
          "execution_count": 43
        }
      ]
    },
    {
      "cell_type": "code",
      "source": [
        "[word for word in text1 if word.endswith('ableness')]"
      ],
      "metadata": {
        "colab": {
          "base_uri": "https://localhost:8080/"
        },
        "id": "YW1VABzyVdDN",
        "outputId": "8ef4fe42-9bc7-425a-ecb0-29c74ef601b1"
      },
      "execution_count": null,
      "outputs": [
        {
          "output_type": "execute_result",
          "data": {
            "text/plain": [
              "['uncomfortableness',\n",
              " 'comfortableness',\n",
              " 'intolerableness',\n",
              " 'immutableness',\n",
              " 'indomitableness',\n",
              " 'reasonableness',\n",
              " 'indispensableness',\n",
              " 'indomitableness',\n",
              " 'honourableness',\n",
              " 'palpableness']"
            ]
          },
          "metadata": {},
          "execution_count": 45
        }
      ]
    },
    {
      "cell_type": "code",
      "source": [
        "# text3 대문자로 시작하는 단어들 중에 길이가 3 이상인 단어 -> 중복 없이 봅고 -> 대문자로 반환\n",
        "set([word.upper() for word in text3 if word[0].isupper() and len(word) > 3])"
      ],
      "metadata": {
        "id": "_Xx2H2AeVliD"
      },
      "execution_count": null,
      "outputs": []
    },
    {
      "cell_type": "code",
      "source": [
        "# text3 대문자로 시작하는 단어들 중에 길이가 3 이상인 단어 -> 대문자로 반환 -> 중복 제거\n",
        "set([ word.upper() for word in text3 if word[0].isupper()==True and len(word) >= 3 ])"
      ],
      "metadata": {
        "id": "BznjruLfcGD-"
      },
      "execution_count": null,
      "outputs": []
    },
    {
      "cell_type": "code",
      "source": [
        "# text4에서 알파벳인 단어 중, 길이가 4개 이상이고, 빈도수가 5 이상인 단어의 길이 반환\n",
        "# fdist 쓰면 찾아놓은 결과물\n",
        "fdist = FreqDist(text4)\n",
        "[len(word) for word in text4 if len(word) >= 4 and fdist[word] >=5]"
      ],
      "metadata": {
        "id": "NbA9KGm5WU-K"
      },
      "execution_count": null,
      "outputs": []
    },
    {
      "cell_type": "markdown",
      "source": [
        "### 리스트, 스트링\n",
        "- list.split(): str에서 list로 변환\n",
        "- str.join(): list에서 str로 변환"
      ],
      "metadata": {
        "id": "3jqtHe7LeTtH"
      }
    },
    {
      "cell_type": "code",
      "source": [
        "sent = 'I, am, thirsty'\n",
        "print(sent.split(','))\n",
        "# >> ['I', ' am', ' thirsty']\n",
        "\n",
        "# 공백 제거는 어떻게?\n",
        "#1. sent.replace(' ' , '').split(',')\n",
        "#2. list comprehension\n",
        "tokens = sent.split(',')\n",
        "[ word.strip() for word in tokens ]"
      ],
      "metadata": {
        "colab": {
          "base_uri": "https://localhost:8080/"
        },
        "id": "B5l3eN8rcsSF",
        "outputId": "568df425-53a0-464d-df28-ef14091ed85a"
      },
      "execution_count": 28,
      "outputs": [
        {
          "output_type": "stream",
          "name": "stdout",
          "text": [
            "['I', ' am', ' thirsty']\n"
          ]
        },
        {
          "output_type": "execute_result",
          "data": {
            "text/plain": [
              "['I', 'am', 'thirsty']"
            ]
          },
          "metadata": {},
          "execution_count": 28
        }
      ]
    },
    {
      "cell_type": "markdown",
      "source": [
        "### 반복문\n",
        "- '[word for word in text1]'\n",
        "- 자료구조를 순회할 떄 사용\n",
        "- 정해진 동작을 반복적으로 수행할 때 내리는 명령어\n",
        "- 시작조건, 종료조건, 수행명령으로 구성됨\n",
        "- for 요소 in 반복범위\n",
        "  - 수행할 명령\n",
        "- for, while\n",
        "- 들여쓰기, 블록 => 논리구조\n",
        "- 무한루프가 되지 않게 주의"
      ],
      "metadata": {
        "id": "lIsAIvgkhCG9"
      }
    },
    {
      "cell_type": "code",
      "source": [
        "for word in text1[:10]:\n",
        "  print(word)"
      ],
      "metadata": {
        "colab": {
          "base_uri": "https://localhost:8080/"
        },
        "id": "-Qe1oNj7ha_a",
        "outputId": "4438e112-3ca4-4d87-c281-37415b640dbc"
      },
      "execution_count": null,
      "outputs": [
        {
          "output_type": "stream",
          "name": "stdout",
          "text": [
            "[\n",
            "Moby\n",
            "Dick\n",
            "by\n",
            "Herman\n",
            "Melville\n",
            "1851\n",
            "]\n",
            "ETYMOLOGY\n",
            ".\n"
          ]
        }
      ]
    },
    {
      "cell_type": "code",
      "source": [
        "alphabet = ['a', 'b', 'c']\n",
        "for w in alphabet:\n",
        "  print(w)"
      ],
      "metadata": {
        "colab": {
          "base_uri": "https://localhost:8080/"
        },
        "id": "SEm79LwchlVn",
        "outputId": "e4e4a2d7-dd04-4c05-92ea-33a5086ebc65"
      },
      "execution_count": null,
      "outputs": [
        {
          "output_type": "stream",
          "name": "stdout",
          "text": [
            "a\n",
            "b\n",
            "c\n"
          ]
        }
      ]
    },
    {
      "cell_type": "code",
      "source": [
        "# 숫자 반복: range(start, end, step)\n",
        "for i in range(1,5):\n",
        "  print(i)"
      ],
      "metadata": {
        "colab": {
          "base_uri": "https://localhost:8080/"
        },
        "id": "fvSq25miiF7j",
        "outputId": "00dd960b-5aac-4831-d127-78fba1dfe00e"
      },
      "execution_count": null,
      "outputs": [
        {
          "output_type": "stream",
          "name": "stdout",
          "text": [
            "1\n",
            "2\n",
            "3\n",
            "4\n"
          ]
        }
      ]
    },
    {
      "cell_type": "markdown",
      "source": [
        "### text1~9 각 텍스트에서 단어 수를 반환"
      ],
      "metadata": {
        "id": "2WwAFUAEkG48"
      }
    },
    {
      "cell_type": "code",
      "source": [
        "text = [text1, text2, text3, text4, text5, text6, text7, text8, text9]"
      ],
      "metadata": {
        "id": "E0-ojyVLi8zT"
      },
      "execution_count": null,
      "outputs": []
    },
    {
      "cell_type": "code",
      "source": [
        "for i in range(1,9):\n",
        "  print(f'{len(text[i])}개')"
      ],
      "metadata": {
        "id": "DKIIagKfiR1n"
      },
      "execution_count": null,
      "outputs": []
    },
    {
      "cell_type": "markdown",
      "source": [
        "### 출력 포매팅\n",
        "- 1. f''\n",
        "  - f, F 둘다 가능\n",
        "- 2. % # 옛날 방식\n",
        "  - '...%s ' %var\n",
        "- 3. '....{}'.format(var)"
      ],
      "metadata": {
        "id": "mxeJ2UZGkzBu"
      }
    },
    {
      "cell_type": "code",
      "source": [
        "name = 'lee'\n",
        "print(\"my name is \" + name)\n",
        "print(f'my name is {name}')\n",
        "print('my name is %s' %name)\n",
        "print('my name is {}'.format(name))\n"
      ],
      "metadata": {
        "colab": {
          "base_uri": "https://localhost:8080/"
        },
        "id": "6SPu3XGsi4q4",
        "outputId": "e2d66142-17dc-43ba-a9cd-81eef9ad3842"
      },
      "execution_count": null,
      "outputs": [
        {
          "output_type": "stream",
          "name": "stdout",
          "text": [
            "my name islee\n",
            "my name is lee\n",
            "my name is lee\n",
            "my name is lee\n"
          ]
        }
      ]
    },
    {
      "cell_type": "code",
      "source": [
        ""
      ],
      "metadata": {
        "id": "LXbzD89vl_Hr"
      },
      "execution_count": null,
      "outputs": []
    }
  ]
}